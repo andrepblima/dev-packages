{
 "cells": [
  {
   "cell_type": "code",
   "execution_count": 1,
   "metadata": {
    "collapsed": true
   },
   "outputs": [],
   "source": [
    "from siriuspy.servconf.conf_service import ConfigService"
   ]
  },
  {
   "cell_type": "code",
   "execution_count": 2,
   "metadata": {
    "collapsed": true
   },
   "outputs": [],
   "source": [
    "s = ConfigService()"
   ]
  },
  {
   "cell_type": "code",
   "execution_count": 8,
   "metadata": {},
   "outputs": [
    {
     "name": "stdout",
     "output_type": "stream",
     "text": [
      "('bo_chromcorr_params', 'bo_normalized', 'bo_ramp', 'bo_strength_pvs', 'bo_tunecorr_params', 'bo_tunes', 'mig_si_corrector_slow', 'mig_si_dipole_fam', 'mig_si_multipole_fam', 'mig_si_quadrupole_skew', 'mig_si_quadrupole_trim', 'si_chromcorr_params', 'si_strength_pvs', 'si_tunecorr_params', 'si_tunes', 'tb_posang_respm', 'test', 'ts_posang_respm')\n"
     ]
    }
   ],
   "source": [
    "ctyp = s.get_config_types()\n",
    "print(ctyp)"
   ]
  },
  {
   "cell_type": "code",
   "execution_count": 15,
   "metadata": {},
   "outputs": [
    {
     "name": "stdout",
     "output_type": "stream",
     "text": [
      "bo_chromcorr_params: 1\n",
      "bo_normalized: 0\n",
      "bo_ramp: 0\n",
      "bo_strength_pvs: 0\n",
      "bo_tunecorr_params: 1\n",
      "bo_tunes: 0\n",
      "mig_si_corrector_slow: 0\n",
      "mig_si_dipole_fam: 0\n",
      "mig_si_multipole_fam: 0\n",
      "mig_si_quadrupole_skew: 0\n",
      "mig_si_quadrupole_trim: 0\n",
      "si_chromcorr_params: 1\n",
      "si_strength_pvs: 30001\n",
      "si_tunecorr_params: 1\n",
      "si_tunes: 0\n",
      "tb_posang_respm: 1\n",
      "test: 0\n",
      "ts_posang_respm: 1\n"
     ]
    }
   ],
   "source": [
    "c = dict()\n",
    "for ct in ctyp:\n",
    "    d = s.find_configs(config_type=ct)\n",
    "    c[ct] = d['result']\n",
    "    print('{}: {}'.format(ct, len(c[ct])))"
   ]
  },
  {
   "cell_type": "code",
   "execution_count": 13,
   "metadata": {},
   "outputs": [
    {
     "data": {
      "text/plain": [
       "{'code': 200,\n",
       " 'message': 'ok',\n",
       " 'result': [{'_id': '5a32503ca2d649000d9e3f28',\n",
       "   'config_type': 'bo_chromcorr_params',\n",
       "   'created': 1513246780.1035283,\n",
       "   'modified': [1513246780.1035283],\n",
       "   'name': 'Default'}]}"
      ]
     },
     "execution_count": 13,
     "metadata": {},
     "output_type": "execute_result"
    }
   ],
   "source": [
    "c[ctyp[0]]"
   ]
  },
  {
   "cell_type": "code",
   "execution_count": 19,
   "metadata": {},
   "outputs": [
    {
     "data": {
      "text/plain": [
       "{'_id': '5a0dcacfa2d649000d9df201',\n",
       " 'config_type': 'si_strength_pvs',\n",
       " 'created': 1510853327.1185746,\n",
       " 'modified': [1510853327.1185746],\n",
       " 'name': 'test_100'}"
      ]
     },
     "execution_count": 19,
     "metadata": {},
     "output_type": "execute_result"
    }
   ],
   "source": [
    "c['si_strength_pvs'][100]"
   ]
  },
  {
   "cell_type": "code",
   "execution_count": null,
   "metadata": {
    "collapsed": true
   },
   "outputs": [],
   "source": []
  }
 ],
 "metadata": {
  "kernelspec": {
   "display_name": "Python 3",
   "language": "python",
   "name": "python3"
  },
  "language_info": {
   "codemirror_mode": {
    "name": "ipython",
    "version": 3
   },
   "file_extension": ".py",
   "mimetype": "text/x-python",
   "name": "python",
   "nbconvert_exporter": "python",
   "pygments_lexer": "ipython3",
   "version": "3.6.1"
  }
 },
 "nbformat": 4,
 "nbformat_minor": 2
}
