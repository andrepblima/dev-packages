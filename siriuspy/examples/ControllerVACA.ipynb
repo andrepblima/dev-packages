{
 "cells": [
  {
   "cell_type": "code",
   "execution_count": 35,
   "metadata": {
    "collapsed": true
   },
   "outputs": [],
   "source": [
    "# siriuspy package takes the IP of the web server from its environment.\n",
    "# use: 'export MACAPP_URL_WEB=http://10.0.7.55' before running this notebook\n",
    "\n",
    "import siriuspy.pwrsupply as ps\n",
    "import siriuspy.pwrsupply.psdata as psdata"
   ]
  },
  {
   "cell_type": "code",
   "execution_count": 36,
   "metadata": {
    "collapsed": false
   },
   "outputs": [
    {
     "name": "stdout",
     "output_type": "stream",
     "text": [
      "SI-Fam:PS-QDA setpoint limits:\n",
      "{'HIHI': 125.0, 'HIGH': 125.0, 'DRVL': 0.0, 'LOPR': 0.0, 'HOPR': 120.0, 'DRVH': 125.0, 'LOW': 0.0, 'LOLO': 0.0}\n",
      "\n"
     ]
    }
   ],
   "source": [
    "# Retrieve setpoint limits of power supply from Sirius web server\n",
    "\n",
    "ps_name = 'SI-Fam:PS-QDA'\n",
    "ps_limits = psdata.get_setpoint_limits(ps_name)\n",
    "print('{0} setpoint limits:\\n{1}\\n'.format(ps_name,ps_limits))"
   ]
  },
  {
   "cell_type": "code",
   "execution_count": 37,
   "metadata": {
    "collapsed": false
   },
   "outputs": [],
   "source": [
    "# Create a VACA power supply controller\n",
    "# the controller gets/sets it internal state from/to VACA\n",
    "\n",
    "ps_name = 'SI-Fam:PS-QDA'\n",
    "mig_wfm = ps.PSWaveForm.wfm_linear_ramp(nr_points = 2000, max_value = ps_limits['DRVH']) # A simple PS waveform\n",
    "controller = ps.ControllerVACA(prefix_vaca='VAX-',\n",
    "                               ps_name=ps_name,\n",
    "                               current_min = ps_limits['DRVL'],\n",
    "                               current_max = ps_limits['DRVH'],\n",
    "                               waveform = mig_wfm,\n",
    "                               fluctuation_rms = 0.050) # 50mA simulated fluctuations.\n",
    "\n",
    "# Create the PS IOC object\n",
    "psioc = ps.PowerSupply(ps_name = ps_name,\n",
    "                       controller = controller,\n",
    "                       enum_keys = True)"
   ]
  },
  {
   "cell_type": "code",
   "execution_count": 38,
   "metadata": {
    "collapsed": false
   },
   "outputs": [
    {
     "data": {
      "text/plain": [
       "'si-quadrupole-q14-fam'"
      ]
     },
     "execution_count": 38,
     "metadata": {},
     "output_type": "execute_result"
    }
   ],
   "source": [
    "ps.psdata.conv_psname_2_pstype('SI-Fam:PS-QDA')"
   ]
  },
  {
   "cell_type": "code",
   "execution_count": 50,
   "metadata": {
    "collapsed": false
   },
   "outputs": [
    {
     "name": "stdout",
     "output_type": "stream",
     "text": [
      "power_supply        : SI-Fam:PS-QDA\n",
      "type                : si-quadrupole-q14-fam\n",
      "polarity            : monopolar\n",
      "limits              : 0.0 125.0\n",
      "--- IOC ---\n",
      "CtrlMode-Mon        : Remote\n",
      "PwrState-Sel        : Off\n",
      "PwrState-Sts        : Off\n",
      "OpMode-Sel          : SlowRef\n",
      "OpMode-Sts          : SlowRef\n",
      "Current-SP          : 100.0\n",
      "Current-RB          : 0.0\n",
      "--- Controller ---\n",
      "pwrstate            : Off\n",
      "opmode              : SlowRef\n",
      "current-ref         : 100.0\n",
      "current-dcct        : 0.0\n",
      "timestamp-pwrstate  : 2017-03-21-19:10:52.986\n",
      "timestamp-opmode    : 2017-03-21-19:10:52.986\n"
     ]
    }
   ],
   "source": [
    "print(psioc)"
   ]
  },
  {
   "cell_type": "code",
   "execution_count": 46,
   "metadata": {
    "collapsed": true
   },
   "outputs": [],
   "source": [
    "psioc.current_sp = 100"
   ]
  },
  {
   "cell_type": "code",
   "execution_count": 61,
   "metadata": {
    "collapsed": false
   },
   "outputs": [
    {
     "name": "stdout",
     "output_type": "stream",
     "text": [
      "power_supply        : SI-Fam:PS-QDA\n",
      "type                : si-quadrupole-q14-fam\n",
      "polarity            : monopolar\n",
      "limits              : 0.0 125.0\n",
      "--- IOC ---\n",
      "CtrlMode-Mon        : Remote\n",
      "PwrState-Sel        : Off\n",
      "PwrState-Sts        : Off\n",
      "OpMode-Sel          : SlowRef\n",
      "OpMode-Sts          : SlowRef\n",
      "Current-SP          : 100.0\n",
      "Current-RB          : 0.0\n",
      "--- Controller ---\n",
      "pwrstate            : Off\n",
      "opmode              : SlowRef\n",
      "current-ref         : 100.0\n",
      "current-dcct        : 0.0\n",
      "timestamp-pwrstate  : 2017-03-21-19:10:52.986\n",
      "timestamp-opmode    : 2017-03-21-19:10:52.986\n"
     ]
    }
   ],
   "source": [
    "print(psioc)"
   ]
  },
  {
   "cell_type": "code",
   "execution_count": 60,
   "metadata": {
    "collapsed": true
   },
   "outputs": [],
   "source": [
    "psioc.pwrstate_sel = 'Off'"
   ]
  },
  {
   "cell_type": "code",
   "execution_count": 62,
   "metadata": {
    "collapsed": true
   },
   "outputs": [],
   "source": [
    "import siriuspy"
   ]
  },
  {
   "cell_type": "code",
   "execution_count": 63,
   "metadata": {
    "collapsed": false
   },
   "outputs": [
    {
     "data": {
      "text/plain": [
       "{'CtrlMode-Mon': {'count': 1,\n",
       "  'enums': ('Remote', 'Local'),\n",
       "  'type': 'enum',\n",
       "  'unit': '',\n",
       "  'value': 0},\n",
       " 'Current-RB': {'count': 1,\n",
       "  'prec': 4,\n",
       "  'type': 'float',\n",
       "  'unit': 'A',\n",
       "  'value': 0.0},\n",
       " 'Current-SP': {'count': 1,\n",
       "  'hi': 125.0,\n",
       "  'hihi': 125.0,\n",
       "  'hilim': 120.0,\n",
       "  'lo': 0.0,\n",
       "  'lolim': 0.0,\n",
       "  'lolo': 0.0,\n",
       "  'prec': 4,\n",
       "  'type': 'float',\n",
       "  'unit': 'A',\n",
       "  'value': 0.0},\n",
       " 'OpMode-Sel': {'count': 1,\n",
       "  'enums': ('SlowRef', 'FastRef', 'WfmRef', 'SigGen'),\n",
       "  'type': 'enum',\n",
       "  'unit': '',\n",
       "  'value': 0},\n",
       " 'OpMode-Sts': {'count': 1,\n",
       "  'enums': ('SlowRef', 'FastRef', 'WfmRef', 'SigGen'),\n",
       "  'type': 'enum',\n",
       "  'unit': '',\n",
       "  'value': 0},\n",
       " 'PwrState-Sel': {'count': 1,\n",
       "  'enums': ('Off', 'On'),\n",
       "  'type': 'enum',\n",
       "  'unit': '',\n",
       "  'value': 1},\n",
       " 'PwrState-Sts': {'count': 1,\n",
       "  'enums': ('Off', 'On'),\n",
       "  'type': 'enum',\n",
       "  'unit': '',\n",
       "  'value': 1},\n",
       " 'Reset-Cmd': {'count': 1, 'type': 'int', 'unit': '', 'value': 0}}"
      ]
     },
     "execution_count": 63,
     "metadata": {},
     "output_type": "execute_result"
    }
   ],
   "source": [
    "siriuspy.csdevice.pwrsupply.PSClasses.si_quadrupole_q14_fam.get_database()"
   ]
  },
  {
   "cell_type": "code",
   "execution_count": 64,
   "metadata": {
    "collapsed": false
   },
   "outputs": [
    {
     "data": {
      "text/plain": [
       "{'CtrlMode-Mon': {'count': 1,\n",
       "  'enums': ('Remote', 'Local'),\n",
       "  'type': 'enum',\n",
       "  'unit': '',\n",
       "  'value': 0},\n",
       " 'Current-RB': {'count': 1,\n",
       "  'prec': 4,\n",
       "  'type': 'float',\n",
       "  'unit': 'A',\n",
       "  'value': 0.0},\n",
       " 'Current-SP': {'count': 1,\n",
       "  'hi': 125.0,\n",
       "  'hihi': 125.0,\n",
       "  'hilim': 120.0,\n",
       "  'lo': 0.0,\n",
       "  'lolim': 0.0,\n",
       "  'lolo': 0.0,\n",
       "  'prec': 4,\n",
       "  'type': 'float',\n",
       "  'unit': 'A',\n",
       "  'value': 0.0},\n",
       " 'OpMode-Sel': {'count': 1,\n",
       "  'enums': ('SlowRef', 'FastRef', 'WfmRef', 'SigGen'),\n",
       "  'type': 'enum',\n",
       "  'unit': '',\n",
       "  'value': 0},\n",
       " 'OpMode-Sts': {'count': 1,\n",
       "  'enums': ('SlowRef', 'FastRef', 'WfmRef', 'SigGen'),\n",
       "  'type': 'enum',\n",
       "  'unit': '',\n",
       "  'value': 0},\n",
       " 'PwrState-Sel': {'count': 1,\n",
       "  'enums': ('Off', 'On'),\n",
       "  'type': 'enum',\n",
       "  'unit': '',\n",
       "  'value': 1},\n",
       " 'PwrState-Sts': {'count': 1,\n",
       "  'enums': ('Off', 'On'),\n",
       "  'type': 'enum',\n",
       "  'unit': '',\n",
       "  'value': 1},\n",
       " 'Reset-Cmd': {'count': 1, 'type': 'int', 'unit': '', 'value': 0}}"
      ]
     },
     "execution_count": 64,
     "metadata": {},
     "output_type": "execute_result"
    }
   ],
   "source": [
    "siriuspy.csdevice.get_database('si-quadrupole-q14-fam')"
   ]
  },
  {
   "cell_type": "code",
   "execution_count": null,
   "metadata": {
    "collapsed": true
   },
   "outputs": [],
   "source": []
  }
 ],
 "metadata": {
  "kernelspec": {
   "display_name": "Python 3",
   "language": "python",
   "name": "python3"
  },
  "language_info": {
   "codemirror_mode": {
    "name": "ipython",
    "version": 3
   },
   "file_extension": ".py",
   "mimetype": "text/x-python",
   "name": "python",
   "nbconvert_exporter": "python",
   "pygments_lexer": "ipython3",
   "version": "3.4.3"
  }
 },
 "nbformat": 4,
 "nbformat_minor": 0
}
