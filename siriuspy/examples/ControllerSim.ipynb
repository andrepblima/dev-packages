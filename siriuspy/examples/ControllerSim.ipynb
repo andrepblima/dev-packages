{
 "cells": [
  {
   "cell_type": "code",
   "execution_count": 51,
   "metadata": {
    "collapsed": false
   },
   "outputs": [],
   "source": [
    "# siriuspy package takes the IP of the web server from its environment.\n",
    "# use: 'export MACAPP_URL_WEB=http://10.0.7.55' before running this notebook\n",
    "\n",
    "import siriuspy.pwrsupply as ps\n",
    "import siriuspy.pwrsupply.psdata as psdata"
   ]
  },
  {
   "cell_type": "code",
   "execution_count": 52,
   "metadata": {
    "collapsed": false
   },
   "outputs": [
    {
     "name": "stdout",
     "output_type": "stream",
     "text": [
      "BO-Fam:PS-QD setpoint limits:\n",
      "{'LOPR': 0.0, 'DRVH': 115.0, 'HIGH': 115.0, 'LOLO': 0.0, 'HIHI': 115.0, 'DRVL': 0.0, 'LOW': 0.0, 'HOPR': 110.0}\n",
      "\n"
     ]
    }
   ],
   "source": [
    "# Retrieve setpoint limits of power supply from Sirius web server\n",
    "\n",
    "ps_name = 'BO-Fam:PS-QD'\n",
    "ps_limits = psdata.get_setpoint_limits(ps_name)\n",
    "print('{0} setpoint limits:\\n{1}\\n'.format(ps_name,ps_limits))"
   ]
  },
  {
   "cell_type": "code",
   "execution_count": 53,
   "metadata": {
    "collapsed": false
   },
   "outputs": [],
   "source": [
    "# Create a simulated power supply controller\n",
    "ramp_wfm = ps.PSWaveForm.wfm_linear_ramp(nr_points = 2000, max_value = ps_limits['DRVH']) # A simple PS waveform\n",
    "controller = ps.ControllerSim(current_min = ps_limits['DRVL'],\n",
    "                              current_max = ps_limits['DRVH'],\n",
    "                              waveform = ramp_wfm,\n",
    "                              fluctuation_rms = 0.050) # 50mA simulated fluctuations.\n",
    "\n",
    "# Create the PS IOC object\n",
    "psioc = ps.PowerSupply(ps_name = ps_name,\n",
    "                       controller = controller,\n",
    "                       enum_keys = True)"
   ]
  },
  {
   "cell_type": "code",
   "execution_count": 61,
   "metadata": {
    "collapsed": false
   },
   "outputs": [
    {
     "name": "stdout",
     "output_type": "stream",
     "text": [
      "power_supply        : BO-Fam:PS-QD\n",
      "type                : bo-quadrupole-qd-fam\n",
      "polarity            : monopolar\n",
      "limits              : 0.0 115.0\n",
      "--- IOC ---\n",
      "CtrlMode-Mon        : Remote\n",
      "PwrState-Sel        : On\n",
      "PwrState-Sts        : On\n",
      "OpMode-Sel          : SlowRef\n",
      "OpMode-Sts          : SlowRef\n",
      "Current-SP          : 115.0\n",
      "Current-RB          : 115.03077102331225\n",
      "--- Controller ---\n",
      "pwrstate            : On\n",
      "opmode              : SlowRef\n",
      "current-ref         : 115.0\n",
      "current-dcct        : 115.03077102331225\n",
      "timestamp-pwrstate  : 2017-03-21-17:12:16.633\n",
      "timestamp-opmode    : 2017-03-21-17:12:16.632\n"
     ]
    }
   ],
   "source": [
    "# Print current state of IOC/COntroller:\n",
    "print(psioc)"
   ]
  },
  {
   "cell_type": "code",
   "execution_count": 62,
   "metadata": {
    "collapsed": false
   },
   "outputs": [
    {
     "data": {
      "text/plain": [
       "{'CtrlMode-Mon': {'count': 1,\n",
       "  'enums': ('Remote', 'Local'),\n",
       "  'type': 'enum',\n",
       "  'unit': '',\n",
       "  'value': 0},\n",
       " 'Current-RB': {'count': 1,\n",
       "  'prec': 4,\n",
       "  'type': 'float',\n",
       "  'unit': 'A',\n",
       "  'value': 115.03077102331225},\n",
       " 'Current-SP': {'count': 1,\n",
       "  'prec': 4,\n",
       "  'type': 'float',\n",
       "  'unit': 'A',\n",
       "  'value': 115.0},\n",
       " 'OpMode-Sel': {'count': 1,\n",
       "  'enums': ('SlowRef', 'FastRef', 'WfmRef', 'SigGen'),\n",
       "  'type': 'enum',\n",
       "  'unit': '',\n",
       "  'value': 0},\n",
       " 'OpMode-Sts': {'count': 1,\n",
       "  'enums': ('SlowRef', 'FastRef', 'WfmRef', 'SigGen'),\n",
       "  'type': 'enum',\n",
       "  'unit': '',\n",
       "  'value': 0},\n",
       " 'PwrState-Sel': {'count': 1,\n",
       "  'enums': ('Off', 'On'),\n",
       "  'type': 'enum',\n",
       "  'unit': '',\n",
       "  'value': 1},\n",
       " 'PwrState-Sts': {'count': 1,\n",
       "  'enums': ('Off', 'On'),\n",
       "  'type': 'enum',\n",
       "  'unit': '',\n",
       "  'value': 1},\n",
       " 'Reset-Cmd': {'count': 1, 'type': 'int', 'unit': '', 'value': 0}}"
      ]
     },
     "execution_count": 62,
     "metadata": {},
     "output_type": "execute_result"
    }
   ],
   "source": [
    "# Print current state of IOC/COntroller:\n",
    "\n",
    "psioc.database"
   ]
  },
  {
   "cell_type": "code",
   "execution_count": 49,
   "metadata": {
    "collapsed": false
   },
   "outputs": [],
   "source": [
    "# Waveform Reference Mode triggered by timing\n",
    "\n",
    "import time\n",
    "import matplotlib.pyplot as plt\n",
    "\n",
    "# Trigger 4 ramps\n",
    "psioc.opmode_sel = 'WfmRef'\n",
    "timestamp, current, t0 = [], [], time.time()\n",
    "for i in range(4*ramp_wfm.nr_points+300):\n",
    "    # take a measurement point\n",
    "    now, value = time.time(), psioc.current_rb\n",
    "    timestamp.append(now-t0), current.append(value)\n",
    "    # wait 0.2s and trigger a step in the waveform\n",
    "    psioc.timing_trigger()\n",
    "    #time.sleep(0.01)\n",
    "    \n",
    "plt.plot(timestamp,current)\n",
    "plt.show()"
   ]
  },
  {
   "cell_type": "code",
   "execution_count": 63,
   "metadata": {
    "collapsed": false
   },
   "outputs": [
    {
     "name": "stdout",
     "output_type": "stream",
     "text": [
      "power_supply        : BO-Fam:PS-QD\n",
      "type                : bo-quadrupole-qd-fam\n",
      "polarity            : monopolar\n",
      "limits              : 0.0 115.0\n",
      "--- IOC ---\n",
      "CtrlMode-Mon        : Remote\n",
      "PwrState-Sel        : On\n",
      "PwrState-Sts        : On\n",
      "OpMode-Sel          : SlowRef\n",
      "OpMode-Sts          : SlowRef\n",
      "Current-SP          : 115.0\n",
      "Current-RB          : 115.03069619024546\n",
      "--- Controller ---\n",
      "pwrstate            : On\n",
      "opmode              : SlowRef\n",
      "current-ref         : 115.0\n",
      "current-dcct        : 115.03069619024546\n",
      "timestamp-pwrstate  : 2017-03-21-17:12:16.633\n",
      "timestamp-opmode    : 2017-03-21-17:12:16.632\n"
     ]
    }
   ],
   "source": [
    "print(psioc)"
   ]
  }
 ],
 "metadata": {
  "kernelspec": {
   "display_name": "Python 3",
   "language": "python",
   "name": "python3"
  },
  "language_info": {
   "codemirror_mode": {
    "name": "ipython",
    "version": 3
   },
   "file_extension": ".py",
   "mimetype": "text/x-python",
   "name": "python",
   "nbconvert_exporter": "python",
   "pygments_lexer": "ipython3",
   "version": "3.4.3"
  }
 },
 "nbformat": 4,
 "nbformat_minor": 0
}
