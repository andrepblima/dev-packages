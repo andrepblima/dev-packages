{
 "cells": [
  {
   "cell_type": "markdown",
   "metadata": {},
   "source": [
    "# Example of using subpackage _siriuspy.servconf_"
   ]
  },
  {
   "cell_type": "code",
   "execution_count": 1,
   "metadata": {},
   "outputs": [],
   "source": [
    "import siriuspy.servconf.conf_types as ct_module\n",
    "import siriuspy.servconf.conf_service as cs_module"
   ]
  },
  {
   "cell_type": "markdown",
   "metadata": {},
   "source": [
    "## Configuration Types package"
   ]
  },
  {
   "cell_type": "markdown",
   "metadata": {},
   "source": [
    "Print names of all defined configuration types for the service:"
   ]
  },
  {
   "cell_type": "code",
   "execution_count": 2,
   "metadata": {},
   "outputs": [
    {
     "name": "stdout",
     "output_type": "stream",
     "text": [
      "('bo_tunes', 'si_tunes', 'test')\n"
     ]
    }
   ],
   "source": [
    "types = ct_module.get_config_types()\n",
    "print(types)"
   ]
  },
  {
   "cell_type": "markdown",
   "metadata": {},
   "source": [
    "get configuration value of a specific configuration type and prints its structure-defining dictionary"
   ]
  },
  {
   "cell_type": "code",
   "execution_count": 3,
   "metadata": {},
   "outputs": [
    {
     "name": "stdout",
     "output_type": "stream",
     "text": [
      "{'paramA': 0.0, 'paramB': 0.0}\n"
     ]
    }
   ],
   "source": [
    "test_type_value = ct_module.get_config_type_value('test')\n",
    "print(test_type_value)"
   ]
  },
  {
   "cell_type": "markdown",
   "metadata": {},
   "source": [
    "the module also implements a function that allows for checking whether a given config value is consistent with a configuration type:"
   ]
  },
  {
   "cell_type": "code",
   "execution_count": 4,
   "metadata": {},
   "outputs": [
    {
     "name": "stdout",
     "output_type": "stream",
     "text": [
      "\"arbitrary_value_dict\" is of type \"test\" -> False\n",
      "\"test_type_value\"      is of type \"test\" -> True\n"
     ]
    }
   ],
   "source": [
    "arbitrary_value_dict = {'parameter_a':'value_a', 'parameter_b':'value_b'}\n",
    "r = ct_module.check_value('test', arbitrary_value_dict)\n",
    "print('{0:<22s} is of type \"test\" -> {1}'.format('\"arbitrary_value_dict\"', r))\n",
    "r = ct_module.check_value('test', test_type_value)\n",
    "print('{0:<22s} is of type \"test\" -> {1}'.format('\"test_type_value\"', r))"
   ]
  },
  {
   "cell_type": "markdown",
   "metadata": {},
   "source": [
    "## Configuration Service packages"
   ]
  },
  {
   "cell_type": "markdown",
   "metadata": {},
   "source": [
    "A connector object of class ConfigService is used to access the configuration database. An optional URL can be passed as argument. If not passed, the constructor will take the server address from siriusp.envars:"
   ]
  },
  {
   "cell_type": "code",
   "execution_count": 5,
   "metadata": {},
   "outputs": [
    {
     "name": "stderr",
     "output_type": "stream",
     "text": [
      "INFO:root:HTTP request will be made to http://sirius-configdb.lnls.br\n"
     ]
    }
   ],
   "source": [
    "conn = cs_module.ConfigService(url=None) "
   ]
  },
  {
   "cell_type": "markdown",
   "metadata": {},
   "source": [
    "Conveniently the list of all configuration types can also be accessed through the connector:"
   ]
  },
  {
   "cell_type": "code",
   "execution_count": 6,
   "metadata": {},
   "outputs": [
    {
     "data": {
      "text/plain": [
       "('bo_tunes', 'si_tunes', 'test')"
      ]
     },
     "execution_count": 6,
     "metadata": {},
     "output_type": "execute_result"
    }
   ],
   "source": [
    "conn.get_config_types()"
   ]
  },
  {
   "cell_type": "markdown",
   "metadata": {},
   "source": [
    "### ConfService.insert_config "
   ]
  },
  {
   "cell_type": "markdown",
   "metadata": {},
   "source": [
    "To insert a configuration of a particular type one can issue:"
   ]
  },
  {
   "cell_type": "code",
   "execution_count": 7,
   "metadata": {
    "collapsed": true
   },
   "outputs": [],
   "source": [
    "test = ct_module.get_config_type_value('test')\n",
    "test['paramA'] = 4.27\n",
    "response = conn.insert_config(config_type='test', name='ConfigName_Test1', value=test)\n",
    "response = conn.insert_config(config_type='test', name='ConfigName_Test2', value=test)"
   ]
  },
  {
   "cell_type": "markdown",
   "metadata": {},
   "source": [
    "The response object is a dictionary with keys that tells the result of the query:"
   ]
  },
  {
   "cell_type": "code",
   "execution_count": 8,
   "metadata": {},
   "outputs": [
    {
     "name": "stdout",
     "output_type": "stream",
     "text": [
      "Response code    : 200\n",
      "Response message : ok\n"
     ]
    }
   ],
   "source": [
    "print('Response code    : {}'.format(response['code']))\n",
    "print('Response message : {}'.format(response['message']))"
   ]
  },
  {
   "cell_type": "markdown",
   "metadata": {},
   "source": [
    "If the query is successful there will be a _response_ key with the query data:"
   ]
  },
  {
   "cell_type": "code",
   "execution_count": 9,
   "metadata": {},
   "outputs": [
    {
     "name": "stdout",
     "output_type": "stream",
     "text": [
      "Configuration type      : test\n",
      "Configuration name      : ConfigName_Test2\n",
      "Configuration timestamp : Fri, 20 Oct 2017 18:48:59 GMT\n"
     ]
    }
   ],
   "source": [
    "result = response['result']\n",
    "print('Configuration type      : {}'.format(result['config_type']))\n",
    "print('Configuration name      : {}'.format(result['name']))\n",
    "print('Configuration timestamp : {}'.format(result['timestamp']))"
   ]
  },
  {
   "cell_type": "markdown",
   "metadata": {},
   "source": [
    "### ConfService.get_config"
   ]
  },
  {
   "cell_type": "markdown",
   "metadata": {},
   "source": [
    "The _value_ of the inserted configuration is retrieved using the _value_ key"
   ]
  },
  {
   "cell_type": "code",
   "execution_count": 31,
   "metadata": {},
   "outputs": [
    {
     "name": "stdout",
     "output_type": "stream",
     "text": [
      "{'tunex': 4.27, 'tuney': 0.0}\n"
     ]
    }
   ],
   "source": [
    "value = result['value']\n",
    "print(value)"
   ]
  },
  {
   "cell_type": "code",
   "execution_count": null,
   "metadata": {
    "collapsed": true
   },
   "outputs": [],
   "source": []
  }
 ],
 "metadata": {
  "kernelspec": {
   "display_name": "Python 3",
   "language": "python",
   "name": "python3"
  },
  "language_info": {
   "codemirror_mode": {
    "name": "ipython",
    "version": 3
   },
   "file_extension": ".py",
   "mimetype": "text/x-python",
   "name": "python",
   "nbconvert_exporter": "python",
   "pygments_lexer": "ipython3",
   "version": "3.6.1"
  }
 },
 "nbformat": 4,
 "nbformat_minor": 2
}
