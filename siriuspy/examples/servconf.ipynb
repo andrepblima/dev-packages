{
 "cells": [
  {
   "cell_type": "markdown",
   "metadata": {},
   "source": [
    "# Example of using subpackage _siriuspy.servconf_"
   ]
  },
  {
   "cell_type": "code",
   "execution_count": 1,
   "metadata": {
    "collapsed": true
   },
   "outputs": [],
   "source": [
    "import siriuspy.servconf.conf_types as ct_module\n",
    "import siriuspy.servconf.conf_service as cs_module\n",
    "from pprint import pprint\n",
    "import datetime\n",
    "import time"
   ]
  },
  {
   "cell_type": "markdown",
   "metadata": {},
   "source": [
    "## Configuration Types package"
   ]
  },
  {
   "cell_type": "markdown",
   "metadata": {},
   "source": [
    "Print names of all defined configuration types for the service:"
   ]
  },
  {
   "cell_type": "code",
   "execution_count": 2,
   "metadata": {},
   "outputs": [
    {
     "name": "stdout",
     "output_type": "stream",
     "text": [
      "('bo_strength_pvs', 'bo_tunes', 'si_strength_pvs', 'si_tunes', 'test')\n"
     ]
    }
   ],
   "source": [
    "types = ct_module.get_config_types()\n",
    "print(types)"
   ]
  },
  {
   "cell_type": "markdown",
   "metadata": {},
   "source": [
    "get configuration value of a specific configuration type and prints its structure-defining dictionary"
   ]
  },
  {
   "cell_type": "code",
   "execution_count": 3,
   "metadata": {},
   "outputs": [
    {
     "name": "stdout",
     "output_type": "stream",
     "text": [
      "{'paramA': 0.0, 'paramB': 0.0}\n"
     ]
    }
   ],
   "source": [
    "test_type_value = ct_module.get_config_type_value('test')\n",
    "print(test_type_value)"
   ]
  },
  {
   "cell_type": "markdown",
   "metadata": {},
   "source": [
    "the module also implements a function that allows for checking whether a given config value is consistent with a configuration type:"
   ]
  },
  {
   "cell_type": "code",
   "execution_count": 4,
   "metadata": {},
   "outputs": [
    {
     "name": "stdout",
     "output_type": "stream",
     "text": [
      "\"arbitrary_value_dict\" is of type \"test\" -> False\n",
      "\"test_type_value\"      is of type \"test\" -> True\n"
     ]
    }
   ],
   "source": [
    "arbitrary_value_dict = {'parameter_a':'value_a', 'parameter_b':'value_b'}\n",
    "r = ct_module.check_value('test', arbitrary_value_dict)\n",
    "print('{0:<22s} is of type \"test\" -> {1}'.format('\"arbitrary_value_dict\"', r))\n",
    "r = ct_module.check_value('test', test_type_value)\n",
    "print('{0:<22s} is of type \"test\" -> {1}'.format('\"test_type_value\"', r))"
   ]
  },
  {
   "cell_type": "markdown",
   "metadata": {},
   "source": [
    "## Configuration Service packages"
   ]
  },
  {
   "cell_type": "markdown",
   "metadata": {},
   "source": [
    "A connector object of class ConfigService is used to access the configuration database. An optional URL can be passed as argument. If not passed, the constructor will take the server address from siriusp.envars:"
   ]
  },
  {
   "cell_type": "code",
   "execution_count": 5,
   "metadata": {
    "collapsed": true
   },
   "outputs": [],
   "source": [
    "conn = cs_module.ConfigService(url=None) "
   ]
  },
  {
   "cell_type": "markdown",
   "metadata": {},
   "source": [
    "Conveniently the list of all configuration types can also be accessed through the connector:"
   ]
  },
  {
   "cell_type": "code",
   "execution_count": 6,
   "metadata": {},
   "outputs": [
    {
     "data": {
      "text/plain": [
       "('bo_strength_pvs', 'bo_tunes', 'si_strength_pvs', 'si_tunes', 'test')"
      ]
     },
     "execution_count": 6,
     "metadata": {},
     "output_type": "execute_result"
    }
   ],
   "source": [
    "conn.get_config_types()"
   ]
  },
  {
   "cell_type": "markdown",
   "metadata": {},
   "source": [
    "### ConfigService.insert_config "
   ]
  },
  {
   "cell_type": "markdown",
   "metadata": {},
   "source": [
    "To insert a configuration of a particular type one can issue:"
   ]
  },
  {
   "cell_type": "code",
   "execution_count": 7,
   "metadata": {
    "collapsed": true
   },
   "outputs": [],
   "source": [
    "test = ct_module.get_config_type_value('test')\n",
    "test['paramA'] = 4.27\n",
    "response = conn.insert_config(config_type='test', name='ConfigName_Test1', value=test)\n",
    "response = conn.insert_config(config_type='test', name='ConfigName_Test2', value=test)"
   ]
  },
  {
   "cell_type": "markdown",
   "metadata": {},
   "source": [
    "The response object is a dictionary with keys that tells the result of the query:"
   ]
  },
  {
   "cell_type": "code",
   "execution_count": 8,
   "metadata": {},
   "outputs": [
    {
     "name": "stdout",
     "output_type": "stream",
     "text": [
      "Response code    : 200\n",
      "Response message : ok\n"
     ]
    }
   ],
   "source": [
    "print('Response code    : {}'.format(response['code']))\n",
    "print('Response message : {}'.format(response['message']))"
   ]
  },
  {
   "cell_type": "markdown",
   "metadata": {},
   "source": [
    "If the query is successful there will be a _response_ key with the query data:"
   ]
  },
  {
   "cell_type": "code",
   "execution_count": 9,
   "metadata": {
    "scrolled": true
   },
   "outputs": [
    {
     "name": "stdout",
     "output_type": "stream",
     "text": [
      "Configuration type      : test\n",
      "Configuration name      : ConfigName_Test2\n",
      "Configuration timestamp : Tue, 24 Oct 2017 18:49:03 GMT\n"
     ]
    }
   ],
   "source": [
    "if 'result' in response:\n",
    "    result = response['result']\n",
    "    print('Configuration type      : {}'.format(result['config_type']))\n",
    "    print('Configuration name      : {}'.format(result['name']))\n",
    "    print('Configuration timestamp : {}'.format(result['created']))"
   ]
  },
  {
   "cell_type": "markdown",
   "metadata": {},
   "source": [
    "The _value_ of the inserted configuration is retrieved using the _value_ key"
   ]
  },
  {
   "cell_type": "code",
   "execution_count": 10,
   "metadata": {},
   "outputs": [
    {
     "name": "stdout",
     "output_type": "stream",
     "text": [
      "{'paramA': 4.27, 'paramB': 0.0}\n"
     ]
    }
   ],
   "source": [
    "value = result['value']\n",
    "print(value)"
   ]
  },
  {
   "cell_type": "markdown",
   "metadata": {
    "collapsed": true
   },
   "source": [
    "### ConfigService.get_config"
   ]
  },
  {
   "cell_type": "markdown",
   "metadata": {},
   "source": [
    "To retrieve a configuration given the config_type and the config name, get_config can be used"
   ]
  },
  {
   "cell_type": "code",
   "execution_count": 11,
   "metadata": {},
   "outputs": [
    {
     "name": "stdout",
     "output_type": "stream",
     "text": [
      "HTTP status code : 200\n",
      "Message          : ok\n"
     ]
    }
   ],
   "source": [
    "response = conn.get_config(config_type='test', name='ConfigName_Test1')\n",
    "print(\"HTTP status code : {}\".format(response['code']))\n",
    "print(\"Message          : {}\".format(response['message']))"
   ]
  },
  {
   "cell_type": "markdown",
   "metadata": {},
   "source": [
    "The fetched object can be accessed under the 'result' key:"
   ]
  },
  {
   "cell_type": "code",
   "execution_count": 12,
   "metadata": {},
   "outputs": [
    {
     "name": "stdout",
     "output_type": "stream",
     "text": [
      "{'_id': '59ef8b1f8b4beb000c939eaf',\n",
      " 'config_type': 'test',\n",
      " 'created': 'Tue, 24 Oct 2017 18:49:03 GMT',\n",
      " 'discarded': False,\n",
      " 'modified': [],\n",
      " 'name': 'ConfigName_Test1',\n",
      " 'value': {'paramA': 4.27, 'paramB': 0.0}}\n"
     ]
    }
   ],
   "source": [
    "if 'result' in response:\n",
    "    config = response['result']\n",
    "    pprint(config)"
   ]
  },
  {
   "cell_type": "markdown",
   "metadata": {},
   "source": [
    "### ConfigService.update_config"
   ]
  },
  {
   "cell_type": "markdown",
   "metadata": {},
   "source": [
    "To update an object in the database the update_config method can be used. Once you have the object you can change its field and pass it to the update method"
   ]
  },
  {
   "cell_type": "code",
   "execution_count": 13,
   "metadata": {},
   "outputs": [
    {
     "data": {
      "text/plain": [
       "{'_id': '59ef8b1f8b4beb000c939eaf',\n",
       " 'config_type': 'test',\n",
       " 'created': 'Tue, 24 Oct 2017 18:49:03 GMT',\n",
       " 'discarded': False,\n",
       " 'modified': [],\n",
       " 'name': 'ConfigName_Test1',\n",
       " 'value': {'paramA': 4.27, 'paramB': 0.0}}"
      ]
     },
     "execution_count": 13,
     "metadata": {},
     "output_type": "execute_result"
    }
   ],
   "source": [
    "config"
   ]
  },
  {
   "cell_type": "code",
   "execution_count": 14,
   "metadata": {},
   "outputs": [
    {
     "data": {
      "text/plain": [
       "{'code': 200, 'message': 'ok', 'result': 1}"
      ]
     },
     "execution_count": 14,
     "metadata": {},
     "output_type": "execute_result"
    }
   ],
   "source": [
    "config['value'] = {'paramA': 4.27, 'paramB': 15.0}\n",
    "conn.update_config(config)"
   ]
  },
  {
   "cell_type": "markdown",
   "metadata": {},
   "source": [
    "The `result` field in the response gives the number of objects modified. In this case only the object we passed as parameter was modified. If we query this object again, we can see the `value` field was updated"
   ]
  },
  {
   "cell_type": "code",
   "execution_count": 15,
   "metadata": {},
   "outputs": [
    {
     "name": "stdout",
     "output_type": "stream",
     "text": [
      "{'_id': '59ef8b1f8b4beb000c939eaf',\n",
      " 'config_type': 'test',\n",
      " 'created': 'Tue, 24 Oct 2017 18:49:03 GMT',\n",
      " 'discarded': False,\n",
      " 'modified': ['Tue, 24 Oct 2017 18:49:04 GMT'],\n",
      " 'name': 'ConfigName_Test1',\n",
      " 'value': {'paramA': 4.27, 'paramB': 15.0}}\n"
     ]
    }
   ],
   "source": [
    "response = conn.get_config('test', 'ConfigName_Test1')\n",
    "if 'result' in response:\n",
    "    config = response['result']\n",
    "    pprint(config)\n",
    "else:\n",
    "    print(response)"
   ]
  },
  {
   "cell_type": "markdown",
   "metadata": {},
   "source": [
    "Not all fields can be updated. The update method will ignore the `_id`, `config_type` and `timestamp` fields"
   ]
  },
  {
   "cell_type": "markdown",
   "metadata": {},
   "source": [
    "### ConfigService.delete_config"
   ]
  },
  {
   "cell_type": "markdown",
   "metadata": {},
   "source": [
    "The `delete_config` method is use to delete a configuration. Note, however, that a configuration is not truly deleted. This method simply sets the `deletable` field to true."
   ]
  },
  {
   "cell_type": "code",
   "execution_count": 16,
   "metadata": {},
   "outputs": [
    {
     "data": {
      "text/plain": [
       "{'code': 200, 'message': 'ok', 'result': 1}"
      ]
     },
     "execution_count": 16,
     "metadata": {},
     "output_type": "execute_result"
    }
   ],
   "source": [
    "conn.delete_config(config)"
   ]
  },
  {
   "cell_type": "markdown",
   "metadata": {},
   "source": [
    "The `result` field in the response gives the number of objects modified. In this case only the object we passed as parameter was modified. If we query this object again, we can see the `deletable` field was set to True as expected"
   ]
  },
  {
   "cell_type": "code",
   "execution_count": 17,
   "metadata": {},
   "outputs": [
    {
     "name": "stdout",
     "output_type": "stream",
     "text": [
      "{'_id': '59ef8b1f8b4beb000c939eaf',\n",
      " 'config_type': 'test',\n",
      " 'created': 'Tue, 24 Oct 2017 18:49:03 GMT',\n",
      " 'discarded': True,\n",
      " 'modified': ['Tue, 24 Oct 2017 18:49:04 GMT', 'Tue, 24 Oct 2017 18:49:04 GMT'],\n",
      " 'name': 'ConfigName_Test1',\n",
      " 'value': {'paramA': 4.27, 'paramB': 15.0}}\n"
     ]
    }
   ],
   "source": [
    "response = conn.get_config('test', 'ConfigName_Test1')\n",
    "if 'result' in response:\n",
    "    config = response['result']\n",
    "    pprint(config)"
   ]
  },
  {
   "cell_type": "markdown",
   "metadata": {},
   "source": [
    "### ConfigService.find_config "
   ]
  },
  {
   "cell_type": "markdown",
   "metadata": {},
   "source": [
    "The `find_config` method is used to get a list of objects that match a set of parameters like `name`, `timestamps` and wether the object is set as `deletable`."
   ]
  },
  {
   "cell_type": "markdown",
   "metadata": {},
   "source": [
    "In the command below we aks for all configurations of type 'test'. As a rule `find_config` won't return configurations that are set as `deletable`, so we set `deleted` to None so all configurations are returned."
   ]
  },
  {
   "cell_type": "code",
   "execution_count": 18,
   "metadata": {},
   "outputs": [
    {
     "name": "stdout",
     "output_type": "stream",
     "text": [
      "Configurations found:  2\n",
      "{'code': 200,\n",
      " 'message': 'ok',\n",
      " 'result': [{'_id': '59ef8b1f8b4beb000c939eaf',\n",
      "             'config_type': 'test',\n",
      "             'name': 'ConfigName_Test1'},\n",
      "            {'_id': '59ef8b1f8b4beb000db661ed',\n",
      "             'config_type': 'test',\n",
      "             'name': 'ConfigName_Test2'}]}\n"
     ]
    }
   ],
   "source": [
    "response = conn.find_configs(config_type='test', discarded=None)\n",
    "if 'result' in response:\n",
    "    print(\"Configurations found: \", len(response['result']))\n",
    "pprint(response)"
   ]
  },
  {
   "cell_type": "markdown",
   "metadata": {},
   "source": [
    "The `begin` and `end` parameters accept a timestamp. They can be used to query the configurations on their creation timestamp. In the examples below the current timestamp is used. The first query, in which the `start` parameter is supplied, returns an empty list as there is no configuration created after the timestamp. In the second query we set the `end` parameter. The query returns a list with all the configurations created before the timestamp."
   ]
  },
  {
   "cell_type": "code",
   "execution_count": 19,
   "metadata": {},
   "outputs": [
    {
     "name": "stdout",
     "output_type": "stream",
     "text": [
      "Current time:  2017-10-24 18:49:04.491322\n",
      "{'code': 200, 'message': 'ok', 'result': []}\n"
     ]
    }
   ],
   "source": [
    "timestamp = time.time()  # Current timestamp\n",
    "print(\"Current time: \", datetime.datetime.utcfromtimestamp(timestamp))\n",
    "response = conn.find_configs(begin=timestamp, discarded=None)\n",
    "pprint(response)"
   ]
  },
  {
   "cell_type": "code",
   "execution_count": 20,
   "metadata": {},
   "outputs": [
    {
     "name": "stdout",
     "output_type": "stream",
     "text": [
      "Current time:  2017-10-24 18:49:04.534606\n",
      "{'code': 200,\n",
      " 'message': 'ok',\n",
      " 'result': [{'_id': '59ef8b1f8b4beb000c939eaf',\n",
      "             'config_type': 'test',\n",
      "             'name': 'ConfigName_Test1'},\n",
      "            {'_id': '59ef8b1f8b4beb000db661ed',\n",
      "             'config_type': 'test',\n",
      "             'name': 'ConfigName_Test2'}]}\n"
     ]
    }
   ],
   "source": [
    "timestamp = time.time()  # Current timestamp\n",
    "print(\"Current time: \", datetime.datetime.utcfromtimestamp(timestamp))\n",
    "response = conn.find_configs(end=timestamp, discarded=None)\n",
    "pprint(response)"
   ]
  },
  {
   "cell_type": "markdown",
   "metadata": {},
   "source": [
    "### ConfigService.conv_timestamp"
   ]
  },
  {
   "cell_type": "markdown",
   "metadata": {},
   "source": [
    "The utility function `conv_timestamp` can be used to convert the date string in an object's `timestamp` field, to an unix time stamp. It is useful when you want to create a custom date string"
   ]
  },
  {
   "cell_type": "code",
   "execution_count": 21,
   "metadata": {},
   "outputs": [
    {
     "name": "stdout",
     "output_type": "stream",
     "text": [
      "24/10/2017 16:49:03\n",
      "24/10/2017 18:49:03\n"
     ]
    }
   ],
   "source": [
    "response = conn.get_config(config_type='test', name='ConfigName_Test1')\n",
    "try:\n",
    "    config = response['result']\n",
    "except Exception:\n",
    "    pprint(response)\n",
    "t = conn.conv_timestamp(config['created'])\n",
    "date = datetime.datetime.fromtimestamp(t)  # Get a datetime object with local time\n",
    "print(date.strftime(\"%d/%m/%Y %H:%M:%S\"))\n",
    "date = datetime.datetime.utcfromtimestamp(t)  # Get a datetime object with utc time\n",
    "print(date.strftime(\"%d/%m/%Y %H:%M:%S\"))"
   ]
  },
  {
   "cell_type": "markdown",
   "metadata": {},
   "source": [
    "### ConfigService.find_nr_configs"
   ]
  },
  {
   "cell_type": "markdown",
   "metadata": {},
   "source": [
    "The `find_nr_configs` methods can be used if all you need is the number of document that match your searching criteria"
   ]
  },
  {
   "cell_type": "code",
   "execution_count": 22,
   "metadata": {},
   "outputs": [
    {
     "name": "stdout",
     "output_type": "stream",
     "text": [
      "Configurations found: 2\n"
     ]
    }
   ],
   "source": [
    "response = conn.find_nr_configs(config_type=\"test\", discarded=None) \n",
    "try:\n",
    "    print(\"Configurations found:\", response['result'])\n",
    "except KeyError:\n",
    "    print(response)"
   ]
  },
  {
   "cell_type": "code",
   "execution_count": null,
   "metadata": {
    "collapsed": true
   },
   "outputs": [],
   "source": []
  }
 ],
 "metadata": {
  "kernelspec": {
   "display_name": "Python 3",
   "language": "python",
   "name": "python3"
  },
  "language_info": {
   "codemirror_mode": {
    "name": "ipython",
    "version": 3
   },
   "file_extension": ".py",
   "mimetype": "text/x-python",
   "name": "python",
   "nbconvert_exporter": "python",
   "pygments_lexer": "ipython3",
   "version": "3.6.1"
  }
 },
 "nbformat": 4,
 "nbformat_minor": 2
}
