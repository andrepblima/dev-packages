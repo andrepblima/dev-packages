{
 "cells": [
  {
   "cell_type": "code",
   "execution_count": 1,
   "metadata": {
    "collapsed": true
   },
   "outputs": [],
   "source": [
    "from siriuspy.ramp.waveform import Waveform\n",
    "import numpy as np\n",
    "import matplotlib.pyplot as plt\n",
    "import numpy as np"
   ]
  },
  {
   "cell_type": "markdown",
   "metadata": {},
   "source": [
    "# Waveform Class"
   ]
  },
  {
   "cell_type": "markdown",
   "metadata": {},
   "source": [
    "There is one base __Waveform__ class that implements all methods to create, modify and retrives waveforms."
   ]
  },
  {
   "cell_type": "code",
   "execution_count": null,
   "metadata": {},
   "outputs": [],
   "source": [
    "# With no arguments the constructor creates a default waveform:\n",
    "\n",
    "w = Waveform()\n",
    "\n",
    "%matplotlib inline\n",
    "plt.plot(w)\n",
    "plt.xlabel('Index'); plt.ylabel('Waveform [a.u.]')\n",
    "plt.grid('On')\n",
    "plt.show()\n",
    "\n",
    "# By default the value 1.0 should correspond to the beam ejection point, \n",
    "# whereas the value 1.0/20 (20 = E_eje/E_inj) should correspond to the injection point:\n",
    "\n",
    "idx_inj = 160\n",
    "idx_eje = 2400\n",
    "print('value at maximum         : {:.8f}'.format(max(w)))\n",
    "print('value at injection point : {:.8f} (idx = {})'.format(w[idx_inj],idx_inj))\n",
    "print('value at ejection point  : {:.8f} (idx = {})'.format(w[idx_eje],idx_eje))"
   ]
  },
  {
   "cell_type": "markdown",
   "metadata": {},
   "source": [
    "_Waveform_ objects are composed of one parameterized waveform and one curve bumps on top of the parameterized one."
   ]
  },
  {
   "cell_type": "code",
   "execution_count": null,
   "metadata": {},
   "outputs": [],
   "source": [
    "w = Waveform()\n",
    "\n",
    "w.waveform_bumps = 0.05*np.sin(2*np.pi*np.array(range(len(w)))/1000)\n",
    "wt = w.waveform\n",
    "wp = w.waveform_parms\n",
    "wb = w.waveform_bumps\n",
    "\n",
    "%matplotlib inline\n",
    "plt.plot(wt) # plot total waveform [BLUE]\n",
    "plt.plot(wp) # plot parameterized component [ORANGE]\n",
    "plt.plot(wb) # plot bump component [GREEN]\n",
    "plt.xlabel('Index'); plt.ylabel('Waveform [a.u.]')\n",
    "plt.grid('On')\n",
    "plt.show()"
   ]
  },
  {
   "cell_type": "markdown",
   "metadata": {},
   "source": [
    "## Waveform Parametrization"
   ]
  },
  {
   "cell_type": "markdown",
   "metadata": {},
   "source": [
    "The parametrized component of the waveform is composed of 9 disctinct regions. There are therefore 8 indices that define the internal limits of each region. The first and last regions, for the default waveform, have zero widths. In each regian the default waveform is a polynominal curve of varying order."
   ]
  },
  {
   "cell_type": "code",
   "execution_count": null,
   "metadata": {},
   "outputs": [],
   "source": [
    "w = Waveform()\n",
    "print('Regions internal limits: {}'.format(w.i07))\n",
    "print('')\n",
    "print('Region 0 (linear), 0  <= i < i0, i0 = {}'.format(w.i0))\n",
    "print('Region 1 (cubic) , i0 <= i < i1, i1 = {}'.format(w.i1))\n",
    "print('Region 2 (linear), i1 <= i < i2, i2 = {} (ramp up)'.format(w.i2))\n",
    "print('Region 3 (cubic),  i2 <= i < i3, i3 = {}'.format(w.i3))\n",
    "print('Region 4 (linear), i3 <= i < i4, i4 = {} (plateau)'.format(w.i4))\n",
    "print('Region 5 (cubic),  i4 <= i < i5, i5 = {}'.format(w.i5))\n",
    "print('Region 6 (linear), i5 <= i < i6, i6 = {} (ramp down)'.format(w.i6))\n",
    "print('Region 7 (cubic),  i6 <= i < i7, i7 = {}'.format(w.i7))\n",
    "print('Region 8 (linear), i7 <= i < {}'.format(len(w)))\n",
    "\n",
    "w_min, w_max = min(w), max(w)\n",
    "%matplotlib inline\n",
    "plt.plot(w)\n",
    "plt.plot([w.i0,w.i0],[-w_min,w_max], 'k--')\n",
    "plt.plot([w.i1,w.i1],[-w_min,w_max], 'k--')\n",
    "plt.plot([w.i2,w.i2],[-w_min,w_max], 'k--')\n",
    "plt.plot([w.i3,w.i3],[-w_min,w_max], 'k--')\n",
    "plt.plot([w.i4,w.i4],[-w_min,w_max], 'k--')\n",
    "plt.plot([w.i5,w.i5],[-w_min,w_max], 'k--')\n",
    "plt.plot([w.i6,w.i6],[-w_min,w_max], 'k--')\n",
    "plt.plot([w.i7,w.i7],[-w_min,w_max], 'k--')\n",
    "plt.show()"
   ]
  },
  {
   "cell_type": "markdown",
   "metadata": {},
   "source": [
    "In the plot above limit lines for Region0-Region1 and Region7-Region8 are not discernable since the first and the last regions are only 1 point wide."
   ]
  },
  {
   "cell_type": "markdown",
   "metadata": {},
   "source": [
    "Waveform values at these 8 limit indices and at the waveform extremities can also be accessed using class interface methods. Method _vL0_ impose the same value at the waveform start and at _i0_. Likewise, _v34_ impose the same value at _i3_ and at _i4_ (plateau):"
   ]
  },
  {
   "cell_type": "code",
   "execution_count": null,
   "metadata": {},
   "outputs": [],
   "source": [
    "print('Value at i=0 and at i=i0 is given by property \"vL0\"     : {:4f}'.format(w.vL0))\n",
    "print('Value at at i=i1 is given by property \"v1\"              : {:.4f}'.format(w.v1))\n",
    "print('Value at at i=i2 is given by property \"v2\"              : {:.4f}'.format(w.v2))\n",
    "print('Value at at i=i3 and at i=i4 is given by property \"v34\" : {:.4f}'.format(w.v34))\n",
    "print('Value at at i=i5 is given by property \"v5\"              : {:.4f}'.format(w.v5))"
   ]
  },
  {
   "cell_type": "markdown",
   "metadata": {},
   "source": [
    "## Changing RampUp and RampDown"
   ]
  },
  {
   "cell_type": "markdown",
   "metadata": {},
   "source": [
    "There are utility methods that allow changing both linear ramp up and ramp down without waveform 'overshoots' and guaranteeing continuities. For that _i0_ and _i3_ are reset for ramp up changes, as collateral effect. Likewise, _i4_ and _i7_ are reset for ramp down changes:"
   ]
  },
  {
   "cell_type": "code",
   "execution_count": null,
   "metadata": {},
   "outputs": [],
   "source": [
    "w = Waveform()\n",
    "w0 = w.waveform\n",
    "\n",
    "w.change_ramp_up(i1=w.i1, i2=w.i2-500, v1=w.v1, v2=w.v2)\n",
    "w1 = w.waveform\n",
    "\n",
    "w = Waveform()\n",
    "w.change_ramp_down(i6=w.i6-100)\n",
    "w2 = w.waveform\n",
    "\n",
    "\n",
    "%matplotlib qt5\n",
    "plt.plot(w0)\n",
    "plt.plot(w1)\n",
    "plt.plot(w2)\n",
    "plt.plot([0,4000], [0,1])\n",
    "plt.show()"
   ]
  },
  {
   "cell_type": "code",
   "execution_count": null,
   "metadata": {},
   "outputs": [],
   "source": [
    "print(w2)"
   ]
  },
  {
   "cell_type": "code",
   "execution_count": 2,
   "metadata": {},
   "outputs": [
    {
     "data": {
      "image/png": "[encoded data removed]",
      "text/plain": [
       "<matplotlib.figure.Figure at 0x7fc2dc707828>"
      ]
     },
     "metadata": {},
     "output_type": "display_data"
    }
   ],
   "source": [
    "w = Waveform()\n",
    "w0 = w.waveform\n",
    "\n",
    "plt.plot(w0)\n",
    "plt.show()"
   ]
  },
  {
   "cell_type": "code",
   "execution_count": 4,
   "metadata": {},
   "outputs": [
    {
     "data": {
      "image/png": "[encoded data removed]",
      "text/plain": [
       "<matplotlib.figure.Figure at 0x7fc271128908>"
      ]
     },
     "metadata": {},
     "output_type": "display_data"
    }
   ],
   "source": [
    "w = Waveform()\n",
    "w.change_ramp_up(i1=w.i1, i2=w.i2-500, v1=w.v1, v2=w.v2)\n",
    "w1 = w.waveform\n",
    "\n",
    "plt.plot(w1)\n",
    "plt.show()"
   ]
  },
  {
   "cell_type": "code",
   "execution_count": 5,
   "metadata": {},
   "outputs": [
    {
     "data": {
      "image/png": "[encoded data removed]",
      "text/plain": [
       "<matplotlib.figure.Figure at 0x7fc26ce95a58>"
      ]
     },
     "metadata": {},
     "output_type": "display_data"
    }
   ],
   "source": [
    "w = Waveform()\n",
    "w.change_ramp_down(i6=w.i6-100)\n",
    "w2 = w.waveform\n",
    "\n",
    "plt.plot(w2)\n",
    "plt.show()"
   ]
  },
  {
   "cell_type": "code",
   "execution_count": 6,
   "metadata": {},
   "outputs": [],
   "source": [
    "%matplotlib qt5\n",
    "plt.plot(w0)\n",
    "plt.plot(w1)\n",
    "plt.plot(w2)\n",
    "plt.show()"
   ]
  },
  {
   "cell_type": "code",
   "execution_count": null,
   "metadata": {},
   "outputs": [],
   "source": [
    "tuple(range(w._i[6], w._i[7]))"
   ]
  },
  {
   "cell_type": "code",
   "execution_count": null,
   "metadata": {
    "collapsed": true
   },
   "outputs": [],
   "source": []
  }
 ],
 "metadata": {
  "kernelspec": {
   "display_name": "Python 3",
   "language": "python",
   "name": "python3"
  },
  "language_info": {
   "codemirror_mode": {
    "name": "ipython",
    "version": 3
   },
   "file_extension": ".py",
   "mimetype": "text/x-python",
   "name": "python",
   "nbconvert_exporter": "python",
   "pygments_lexer": "ipython3",
   "version": "3.6.1"
  }
 },
 "nbformat": 4,
 "nbformat_minor": 2
}
