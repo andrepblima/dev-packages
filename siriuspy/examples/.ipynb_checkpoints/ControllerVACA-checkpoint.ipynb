{
 "cells": [
  {
   "cell_type": "code",
   "execution_count": 1,
   "metadata": {
    "collapsed": true
   },
   "outputs": [],
   "source": [
    "# siriuspy package takes the IP of the web server from its environment.\n",
    "# use: 'export MACAPP_URL_WEB=http://10.0.7.55' before running this notebook\n",
    "\n",
    "import siriuspy.power_supply as ps"
   ]
  },
  {
   "cell_type": "code",
   "execution_count": 3,
   "metadata": {
    "collapsed": false
   },
   "outputs": [
    {
     "name": "stdout",
     "output_type": "stream",
     "text": [
      "SI-Fam:PS-QDA setpoint limits:\n",
      "{'DRVL': 0.0, 'LOPR': 0.0, 'HIGH': 125.0, 'HIHI': 125.0, 'DRVH': 125.0, 'HOPR': 120.0, 'LOLO': 0.0, 'LOW': 0.0}\n",
      "\n"
     ]
    }
   ],
   "source": [
    "# Retrieve setpoint limits of power supply from Sirius web server\n",
    "\n",
    "ps_name = 'SI-Fam:PS-QDA'\n",
    "ps_data = ps.get_psdata()\n",
    "ps_limits = ps_data.get_setpoint_limits(ps_name)\n",
    "print('{0} setpoint limits:\\n{1}\\n'.format(ps_name,ps_limits))"
   ]
  },
  {
   "cell_type": "code",
   "execution_count": 4,
   "metadata": {
    "collapsed": true
   },
   "outputs": [],
   "source": [
    "# Create a VACA power supply controller\n",
    "#\n",
    "# the controller gets/sets it internal state from/to VACA\n",
    "\n",
    "\n",
    "mig_wfm = ps.PSWaveForm.wfm_linear_ramp(nr_points = 2000, max_value = ps_limits['DRVH']) # A simple PS waveform\n",
    "controller = ps.ControllerVACA(current_min = ps_limits['DRVL'],\n",
    "                              current_max = ps_limits['DRVH'],\n",
    "                              waveform = mig_wfm,\n",
    "                              fluctuation_rms = 0.050) # 50mA simulated fluctuations."
   ]
  },
  {
   "cell_type": "code",
   "execution_count": 5,
   "metadata": {
    "collapsed": false
   },
   "outputs": [
    {
     "data": {
      "text/plain": [
       "0.0"
      ]
     },
     "execution_count": 5,
     "metadata": {},
     "output_type": "execute_result"
    }
   ],
   "source": [
    "controller.current"
   ]
  },
  {
   "cell_type": "code",
   "execution_count": null,
   "metadata": {
    "collapsed": true
   },
   "outputs": [],
   "source": []
  }
 ],
 "metadata": {
  "kernelspec": {
   "display_name": "Python 3",
   "language": "python",
   "name": "python3"
  },
  "language_info": {
   "codemirror_mode": {
    "name": "ipython",
    "version": 3
   },
   "file_extension": ".py",
   "mimetype": "text/x-python",
   "name": "python",
   "nbconvert_exporter": "python",
   "pygments_lexer": "ipython3",
   "version": "3.4.3"
  }
 },
 "nbformat": 4,
 "nbformat_minor": 0
}
