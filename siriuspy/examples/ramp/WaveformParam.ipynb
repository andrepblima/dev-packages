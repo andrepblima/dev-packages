{
 "cells": [
  {
   "cell_type": "markdown",
   "metadata": {
    "collapsed": true
   },
   "source": [
    "# WaveformParam"
   ]
  },
  {
   "cell_type": "markdown",
   "metadata": {},
   "source": [
    "This notebook provides examples on how to use siriuspy.ramp subpackage in order to manipulate booster ramps and storage ring migration power supply waveforms. "
   ]
  },
  {
   "cell_type": "code",
   "execution_count": null,
   "metadata": {},
   "outputs": [],
   "source": [
    "from lnls import notebook\n",
    "notebook.turn_code_on_off_html()"
   ]
  },
  {
   "cell_type": "code",
   "execution_count": null,
   "metadata": {
    "collapsed": true
   },
   "outputs": [],
   "source": [
    "import numpy as np\n",
    "import matplotlib.pyplot as plt\n",
    "\n",
    "from siriuspy.ramp.waveform import WaveformParam"
   ]
  },
  {
   "cell_type": "markdown",
   "metadata": {},
   "source": [
    "## Bare constructor"
   ]
  },
  {
   "cell_type": "code",
   "execution_count": null,
   "metadata": {},
   "outputs": [],
   "source": [
    "# With no arguments the constructor creates a default waveform\n",
    "\n",
    "w = WaveformParam()\n",
    "\n",
    "%matplotlib inline\n",
    "plt.plot(w)\n",
    "plt.xlabel('Index'); plt.ylabel('Waveform [a.u.]')\n",
    "plt.grid('on')\n",
    "plt.show()\n",
    "\n",
    "# By default the value 1.0 should correspond to the beam ejection point, \n",
    "# whereas the value 1.0/20 (20 = E_eje/E_inj) should correspond to the injection point:\n",
    "\n",
    "idx_inj = 160\n",
    "idx_eje = 2400\n",
    "print('value at maximum         : {:.8f}'.format(max(w)))\n",
    "print('value at injection point : {:.8f} (idx = {})'.format(w[idx_inj],idx_inj))\n",
    "print('value at ejection point  : {:.8f} (idx = {})'.format(w[idx_eje],idx_eje))"
   ]
  },
  {
   "cell_type": "markdown",
   "metadata": {},
   "source": [
    "## Parametrization"
   ]
  },
  {
   "cell_type": "markdown",
   "metadata": {},
   "source": [
    "The parametrized component of the waveform is composed of 9 disctinct regions. There are therefore 8 indices that define the boundary limits of each region. The first and last regions, for the default waveform, have 1-point widths. In each regian the default waveform is a polynominal curve of varying order, with continous current and first derivative."
   ]
  },
  {
   "cell_type": "code",
   "execution_count": null,
   "metadata": {
    "collapsed": true
   },
   "outputs": [],
   "source": [
    "w = WaveformParam()\n",
    "bi = w.boundary_indices\n",
    "print('Regions internal limits: {}'.format(bi))\n",
    "print('')\n",
    "print('Region 0 (linear), 0  <= i < {}'.format(bi[0]))\n",
    "print('Region 1 (cubic) , {0} <= i < {1}'.format(bi[0], bi[1]))\n",
    "print('Region 2 (linear), {0} <= i < {1} (ramp up)'.format(bi[1], bi[2]))\n",
    "print('Region 3 (cubic),  {0} <= i < {1}'.format(bi[2], bi[3]))\n",
    "print('Region 4 (linear), {0} <= i < {1} (plateau)'.format(bi[3], bi[4]))\n",
    "print('Region 5 (cubic),  {0} <= i < {1}'.format(bi[4], bi[5]))\n",
    "print('Region 6 (linear), {0} <= i < {1} (ramp down)'.format(bi[5], bi[6]))\n",
    "print('Region 7 (cubic),  {0} <= i < {1}'.format(bi[6], bi[7]))\n",
    "print('Region 8 (linear), {0} <= i < {1}'.format(bi[7], len(w)))\n",
    "\n",
    "w_min, w_max = min(w), max(w)\n",
    "%matplotlib inline\n",
    "plt.plot(w)\n",
    "plt.plot([bi[0],bi[0]],[-w_min,w_max], 'k--')\n",
    "plt.plot([bi[1],bi[1]],[-w_min,w_max], 'k--')\n",
    "plt.plot([bi[2],bi[2]],[-w_min,w_max], 'k--')\n",
    "plt.plot([bi[3],bi[3]],[-w_min,w_max], 'k--')\n",
    "plt.plot([bi[4],bi[4]],[-w_min,w_max], 'k--')\n",
    "plt.plot([bi[5],bi[5]],[-w_min,w_max], 'k--')\n",
    "plt.plot([bi[6],bi[6]],[-w_min,w_max], 'k--')\n",
    "plt.plot([bi[7],bi[7]],[-w_min,w_max], 'k--')\n",
    "plt.show()"
   ]
  },
  {
   "cell_type": "markdown",
   "metadata": {},
   "source": [
    "In the plot above limit lines for Region0-Region1 and Region7-Region8 are not discernable since the first and the last regions are only 1 point wide."
   ]
  },
  {
   "cell_type": "markdown",
   "metadata": {},
   "source": [
    "Waveform values at these 8 limit indices and at the waveform extremities can also be accessed using class interface methods. Method *start_value* impose the same value at the waveform start and at the first region boundary. Likewise, *plateau_value* impose the same value at start and stop indices of the plateau region:"
   ]
  },
  {
   "cell_type": "code",
   "execution_count": null,
   "metadata": {
    "collapsed": true
   },
   "outputs": [],
   "source": [
    "print('Value at i=0 and at the first region boundary is given by property \"start_value\"      : {:.4f}'.format(w.start_value))\n",
    "print('Value at the start of the ramp up region is given by property \"rampup_start_value\"    : {:.4f}'.format(w.rampup_start_value))\n",
    "print('Value at the end of the ramp up region is given by property \"rampup_stop_value\"       : {:.4f}'.format(w.rampup_stop_value))\n",
    "print('Value at the plateau region is given by property \"plateau_value\"                      : {:.4f}'.format(w.plateau_value))\n",
    "print('Value at the start of the ramp down region is given by property \"rampdown_start_value\": {:.4f}'.format(w.rampdown_start_value))\n",
    "print('Value at the end of the ramp down region is given by property \"rampdown_stop_value\"   : {:.4f}'.format(w.rampdown_stop_value))\n",
    "print('Value at i=3999 and at the end of the waveform is given by property \"stop_value\"      : {:.4f}'.format(w.stop_value))"
   ]
  },
  {
   "cell_type": "markdown",
   "metadata": {},
   "source": [
    "## Changing RampUp and RampDown"
   ]
  },
  {
   "cell_type": "markdown",
   "metadata": {},
   "source": [
    "There are utility methods that allow changing both linear ramp up and ramp down without waveform 'overshoots' and guaranteeing continuities. For that, the first region boundary and *plateau_start_index* are reset for ramp up changes, as collateral effect. Likewise, *plateau_stop_index* and the last region boundary are reset for ramp down changes:"
   ]
  },
  {
   "cell_type": "code",
   "execution_count": null,
   "metadata": {
    "collapsed": true
   },
   "outputs": [],
   "source": [
    "w = WaveformParam()\n",
    "w0 = [0*0.1 + v for v in w.waveform]\n",
    "\n",
    "w.rampup_change(start=w.rampup_start_index, stop=w.rampup_stop_index-500, start_value=w.rampup_start_value, stop_value=w.rampup_stop_value)\n",
    "w1 = [1*0.1 + v for v in w.waveform]\n",
    "\n",
    "w.rampdown_change(stop=w.rampdown_stop_index-500)\n",
    "w2 = [2*0.1 + v for v in w.waveform]\n",
    "\n",
    "%matplotlib inline\n",
    "plt.plot(w0, label='original')\n",
    "plt.plot(w1, label='change ramp up')\n",
    "plt.plot(w2, label='change ramp up and down')\n",
    "plt.legend()\n",
    "plt.xlabel('Index'); plt.ylabel('Waveform [a.u.]')\n",
    "plt.grid('on')\n",
    "plt.show()"
   ]
  }
 ],
 "metadata": {
  "kernelspec": {
   "display_name": "Python 3",
   "language": "python",
   "name": "python3"
  },
  "language_info": {
   "codemirror_mode": {
    "name": "ipython",
    "version": 3
   },
   "file_extension": ".py",
   "mimetype": "text/x-python",
   "name": "python",
   "nbconvert_exporter": "python",
   "pygments_lexer": "ipython3",
   "version": "3.6.1"
  }
 },
 "nbformat": 4,
 "nbformat_minor": 2
}
