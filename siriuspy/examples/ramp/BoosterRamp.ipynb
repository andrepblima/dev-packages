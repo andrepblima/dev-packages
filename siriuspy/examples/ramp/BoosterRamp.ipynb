{
 "cells": [
  {
   "cell_type": "markdown",
   "metadata": {},
   "source": [
    "# BoosterRamp"
   ]
  },
  {
   "cell_type": "markdown",
   "metadata": {},
   "source": [
    "Examples on how to use **<code>siriuspy.ramp.ramp.BooterRamp</code>** objects."
   ]
  },
  {
   "cell_type": "code",
   "execution_count": 1,
   "metadata": {
    "collapsed": true
   },
   "outputs": [],
   "source": [
    "from siriuspy.ramp import ramp\n",
    "from siriuspy.ramp import util\n",
    "\n",
    "\n",
    "def delete_test_configs(r):\n",
    "    metadata = r.configsrv_find()\n",
    "    for m in metadata:\n",
    "        if 'ipython-test' in m['name']:\n",
    "            r.name = m['name']\n",
    "            print('deleting config \"{}\"...'.format(r.name))\n",
    "            r.configsrv_delete()"
   ]
  },
  {
   "cell_type": "markdown",
   "metadata": {},
   "source": [
    "## Create a new configuration from scratch and delete it"
   ]
  },
  {
   "cell_type": "markdown",
   "metadata": {},
   "source": [
    "### create and set value"
   ]
  },
  {
   "cell_type": "code",
   "execution_count": null,
   "metadata": {
    "collapsed": true
   },
   "outputs": [],
   "source": [
    "# create booster ramp configuration object\n",
    "r = ramp.BoosterRamp()\n",
    "r.name = 'ipython-test' + r.name"
   ]
  },
  {
   "cell_type": "code",
   "execution_count": null,
   "metadata": {
    "collapsed": true
   },
   "outputs": [],
   "source": [
    "# object is not synchronized yet with server since its configuration does now exists\n",
    "print('synchronized: {}'.format(r.configsrv_synchronized))\n",
    "\n",
    "# and also its config value is still invalid\n",
    "print('valid value : {}'.format(r.check_value()))"
   ]
  },
  {
   "cell_type": "code",
   "execution_count": null,
   "metadata": {
    "collapsed": true
   },
   "outputs": [],
   "source": [
    "# a template dictionary for the configuration can be obtained:\n",
    "t = r.get_config_type_template()\n",
    "\n",
    "# set this updated template as configuration value\n",
    "r.configuration = t\n",
    "\n",
    "# print configuration field\n",
    "print(r)"
   ]
  },
  {
   "cell_type": "code",
   "execution_count": null,
   "metadata": {
    "collapsed": true
   },
   "outputs": [],
   "source": [
    "# the new configuration is still not valid because the normalized configs objects \n",
    "# are lot set yet:\n",
    "print('valid value : {}'.format(r.check_value()))\n",
    "print()\n",
    "\n",
    "# get symbol to one normalized configuration object\n",
    "n1 = r['rampup-start']\n",
    "\n",
    "# print normalized configuration\n",
    "print('configuration:')\n",
    "print(n1)"
   ]
  },
  {
   "cell_type": "code",
   "execution_count": null,
   "metadata": {
    "collapsed": true
   },
   "outputs": [],
   "source": [
    "# but one can load normalized configurations from Config:\n",
    "r.configsrv_load_normalized_configs()\n",
    "\n",
    "# and now it becomes a valid configuration\n",
    "print('valid value : {}'.format(r.check_value()))"
   ]
  },
  {
   "cell_type": "markdown",
   "metadata": {},
   "source": [
    "### save configuration to server"
   ]
  },
  {
   "cell_type": "code",
   "execution_count": null,
   "metadata": {
    "collapsed": true
   },
   "outputs": [],
   "source": [
    "# save current configuration to ConfigSrv\n",
    "r.configsrv_save()"
   ]
  },
  {
   "cell_type": "markdown",
   "metadata": {},
   "source": [
    "### list configurations stored in server"
   ]
  },
  {
   "cell_type": "code",
   "execution_count": null,
   "metadata": {
    "collapsed": true
   },
   "outputs": [],
   "source": [
    "# list all configurations in ConfigSrv:\n",
    "metadata = r.configsrv_find()\n",
    "print('number of configs: {}'.format(len(metadata)))\n",
    "print()\n",
    "for m in metadata:\n",
    "    if m['name'] in ('test1', 'test2', 'ramp-start') or 'ipython-test' in m['name']:\n",
    "        print(m['name'])\n",
    "        print(m)\n",
    "        print()\n",
    "print('...')"
   ]
  },
  {
   "cell_type": "markdown",
   "metadata": {},
   "source": [
    "### delete configurations"
   ]
  },
  {
   "cell_type": "code",
   "execution_count": null,
   "metadata": {
    "collapsed": true
   },
   "outputs": [],
   "source": [
    "# delete all configuration created in ipython\n",
    "delete_test_configs(r)"
   ]
  },
  {
   "cell_type": "markdown",
   "metadata": {},
   "source": [
    "## Loading an Existing Configuration and changing it"
   ]
  },
  {
   "cell_type": "markdown",
   "metadata": {},
   "source": [
    "### Load"
   ]
  },
  {
   "cell_type": "code",
   "execution_count": null,
   "metadata": {
    "collapsed": true
   },
   "outputs": [],
   "source": [
    "# creating object\n",
    "r = ramp.BoosterRamp('test1')\n",
    "\n",
    "# loading from ConfigSrv\n",
    "r.configsrv_load()\n",
    "\n",
    "# print configuration\n",
    "print(r)"
   ]
  },
  {
   "cell_type": "markdown",
   "metadata": {},
   "source": [
    "### Change and Update ConfigSrv"
   ]
  },
  {
   "cell_type": "code",
   "execution_count": null,
   "metadata": {
    "collapsed": true
   },
   "outputs": [],
   "source": [
    "# gets symbol to one of the normalized configurations\n",
    "n1 = r['rampup-start']\n",
    "\n",
    "# rename ramp configuration\n",
    "r.name = 'ipython-test-test1'\n",
    "\n",
    "\n",
    "# change its energy\n",
    "n1['BO-Fam:MA-B'] = 0.20\n",
    "\n",
    "# check validity\n",
    "print('valid value : {}'.format(r.check_value()))\n",
    "\n",
    "# save ramp config back to ConfigSrv with a different name\n",
    "r.configsrv_save()\n",
    "\n",
    "# list all ramp config in ConfigSrv\n",
    "print('list with ramp configurations in ConfigServ:')\n",
    "metadata = r.configsrv_find()\n",
    "for m in metadata:\n",
    "    print('-> {}'.format(m['name']))\n",
    "    \n",
    "# delete test configs\n",
    "print()\n",
    "delete_test_configs(r)"
   ]
  },
  {
   "cell_type": "markdown",
   "metadata": {},
   "source": [
    "## Manipulating normalized Configurations"
   ]
  },
  {
   "cell_type": "code",
   "execution_count": null,
   "metadata": {
    "collapsed": true
   },
   "outputs": [],
   "source": [
    "from siriuspy.ramp import ramp\n",
    "from siriuspy.ramp import util\n",
    "\n",
    "r = ramp.BoosterRamp('test1')\n",
    "r.configsrv_load()\n",
    "\n",
    "# print previous config table\n",
    "print('Normalized config table:')\n",
    "print(r.normalized_configs)\n",
    "print()\n",
    "\n",
    "# insert new configuration\n",
    "name1 = r.normalized_configs_insert(0.20)\n",
    "name2 = r.normalized_configs_insert(0.30)\n",
    "name3 = r.normalized_configs_insert(0.25)\n",
    "\n",
    "# print current config table\n",
    "print('Normalized config table:')\n",
    "print(r.normalized_configs)\n",
    "print()\n",
    "\n",
    "# print normalized configurations\n",
    "n1 = r[name1]\n",
    "n2 = r[name2]\n",
    "n3 = r[name3]\n",
    "c = n3.configuration\n",
    "for k in c.keys():\n",
    "    print('{:<12}: {:+.6f} {:+.6f} {:+.6f}'.format(k, n1[k], n3[k], n2[k]))\n",
    "\n",
    "\n",
    "# check validity\n",
    "print('valid value : {}'.format(r.check_value()))"
   ]
  },
  {
   "cell_type": "markdown",
   "metadata": {},
   "source": [
    "## Manipulating dipole ramp "
   ]
  },
  {
   "cell_type": "markdown",
   "metadata": {},
   "source": [
    "### Load existing ramp configuration"
   ]
  },
  {
   "cell_type": "code",
   "execution_count": 1,
   "metadata": {},
   "outputs": [
    {
     "name": "stdout",
     "output_type": "stream",
     "text": [
      "name                              : test1\n",
      "delay_rf [us]                     : 0.0\n",
      "ramp_dipole_delay [us]            : 0.0\n",
      "ramp_dipole_duration [ms]         : 490.0\n",
      "ramp_dipole_time_energy [ms] [GeV]: \n",
      "                                  : 0.122531 +0.010000\n",
      "                                  : 12.500000 +0.078750\n",
      "                                  : 302.000000 +3.101786\n",
      "                                  : 315.638910 +3.150000\n",
      "                                  : 323.480870 +3.150000\n",
      "                                  : 335.243811 +3.000000\n",
      "                                  : 470.517629 +0.210000\n",
      "                                  : 490.000000 +0.010000\n",
      "injection_time [ms]               : 19.6049\n",
      "ejection_time [ms]                : 294.07351837959493\n",
      "normalized_configs [ms] [name]    : \n",
      "                                  : 100.000000 config_a\n",
      "                                  : 105.000000 config_d\n",
      "                                  : 150.000000 config_b\n",
      "\n"
     ]
    }
   ],
   "source": [
    "from siriuspy.ramp import ramp\n",
    "from siriuspy.ramp import util\n",
    "import matplotlib.pyplot as plt\n",
    "\n",
    "# creating object\n",
    "r = ramp.BoosterRamp('test1')\n",
    "\n",
    "# loading from ConfigSrv\n",
    "r.configsrv_load()\n",
    "\n",
    "# print configuration\n",
    "print(r)"
   ]
  },
  {
   "cell_type": "code",
   "execution_count": 2,
   "metadata": {},
   "outputs": [
    {
     "name": "stdout",
     "output_type": "stream",
     "text": [
      "Initial ramp config\n",
      "===================\n",
      "ramp_start_value    : 0.01 [GeV]\n",
      "rampup_start_value  : 0.07875000000000001 [GeV]\n",
      "rampup_stop_value   : 3.1017857142857137 [GeV]\n",
      "ramp_plateau_value  : 3.1500000000000004 [GeV]\n",
      "\n",
      "rampup_start_time   : 12.498124531132783 [ms]\n",
      "rampup_stop_time    : 302.0380095023756 [ms]\n",
      "rampdown_start_time : 335.24381095273816 [ms]\n",
      "rampdown_stop_time  : 470.5176294073518 [ms]\n",
      "\n",
      "Final ramp config\n",
      "===== ===========\n",
      "ramp_start_value    : 0.01 [GeV]\n",
      "rampup_start_value  : 0.07875000000000001 [GeV]\n",
      "rampup_stop_value   : 1.6017857142857137 [GeV]\n",
      "ramp_plateau_value  : 3.1500000000000004 [GeV]\n",
      "\n",
      "rampup_start_time   : 12.498124531132783 [ms]\n",
      "rampup_stop_time    : 202.05301325331334 [ms]\n",
      "rampdown_start_time : 335.24381095273816 [ms]\n",
      "rampdown_stop_time  : 470.5176294073518 [ms]\n",
      "\n",
      "Waveform comparison: before and after\n"
     ]
    },
    {
     "data": {
      "image/png": "[encoded data removed]",
      "text/plain": [
       "<matplotlib.figure.Figure at 0x7f072f0bb7b8>"
      ]
     },
     "metadata": {},
     "output_type": "display_data"
    }
   ],
   "source": [
    "# get original dipole waveform\n",
    "w1 = r.waveform_get('BO-Fam:MA-B')\n",
    "\n",
    "# print initial ramp config\n",
    "print('Initial ramp config')\n",
    "print('===================')\n",
    "print('{:<20s}: {} [GeV]'.format('ramp_start_value', r.ramp_start_value))\n",
    "print('{:<20s}: {} [GeV]'.format('rampup_start_value', r.rampup_start_value))\n",
    "print('{:<20s}: {} [GeV]'.format('rampup_stop_value', r.rampup_stop_value))\n",
    "print('{:<20s}: {} [GeV]'.format('ramp_plateau_value', r.ramp_plateau_value))\n",
    "print()\n",
    "print('{:<20s}: {} [ms]'.format('rampup_start_time', r.rampup_start_time))\n",
    "print('{:<20s}: {} [ms]'.format('rampup_stop_time', r.rampup_stop_time))\n",
    "print('{:<20s}: {} [ms]'.format('rampdown_start_time', r.rampdown_start_time))\n",
    "print('{:<20s}: {} [ms]'.format('rampdown_stop_time', r.rampdown_stop_time))\n",
    "\n",
    "# change value of rampup-start\n",
    "r.rampup_stop_time = r.rampup_stop_time - 100  \n",
    "r.rampup_stop_value = r.rampup_stop_value - 1.5\n",
    "\n",
    "# print initial ramp config\n",
    "print()\n",
    "print('Final ramp config')\n",
    "print('===== ===========')\n",
    "print('{:<20s}: {} [GeV]'.format('ramp_start_value', r.ramp_start_value))\n",
    "print('{:<20s}: {} [GeV]'.format('rampup_start_value', r.rampup_start_value))\n",
    "print('{:<20s}: {} [GeV]'.format('rampup_stop_value', r.rampup_stop_value))\n",
    "print('{:<20s}: {} [GeV]'.format('ramp_plateau_value', r.ramp_plateau_value))\n",
    "print()\n",
    "print('{:<20s}: {} [ms]'.format('rampup_start_time', r.rampup_start_time))\n",
    "print('{:<20s}: {} [ms]'.format('rampup_stop_time', r.rampup_stop_time))\n",
    "print('{:<20s}: {} [ms]'.format('rampdown_start_time', r.rampdown_start_time))\n",
    "print('{:<20s}: {} [ms]'.format('rampdown_stop_time', r.rampdown_stop_time))\n",
    "\n",
    "# get modified dipole waveform\n",
    "w2 = r.waveform_get('BO-Fam:MA-B')\n",
    "\n",
    "# compare the two waveforms\n",
    "print()\n",
    "print('Waveform comparison: before and after')\n",
    "plt.plot(w1.times, w1)\n",
    "plt.plot(w2.times, w2)\n",
    "plt.show()"
   ]
  },
  {
   "cell_type": "code",
   "execution_count": 4,
   "metadata": {},
   "outputs": [
    {
     "ename": "ValueError",
     "evalue": "DB for psmodel FAC_DCDC not implemented!",
     "output_type": "error",
     "traceback": [
      "\u001b[0;31m---------------------------------------------------------------------------\u001b[0m",
      "\u001b[0;31mValueError\u001b[0m                                Traceback (most recent call last)",
      "\u001b[0;32m<ipython-input-4-160273e6af8e>\u001b[0m in \u001b[0;36m<module>\u001b[0;34m()\u001b[0m\n\u001b[0;32m----> 1\u001b[0;31m \u001b[0mw1\u001b[0m \u001b[0;34m=\u001b[0m \u001b[0mr\u001b[0m\u001b[0;34m.\u001b[0m\u001b[0mget_waveform\u001b[0m\u001b[0;34m(\u001b[0m\u001b[0;34m'BO-Fam:MA-QD'\u001b[0m\u001b[0;34m)\u001b[0m\u001b[0;34m\u001b[0m\u001b[0m\n\u001b[0m",
      "\u001b[0;32m/home/fac_files/lnls-sirius/dev-packages/siriuspy/siriuspy/ramp/ramp.py\u001b[0m in \u001b[0;36mget_waveform\u001b[0;34m(self, maname)\u001b[0m\n\u001b[1;32m    591\u001b[0m     \u001b[0;32mdef\u001b[0m \u001b[0mget_waveform\u001b[0m\u001b[0;34m(\u001b[0m\u001b[0mself\u001b[0m\u001b[0;34m,\u001b[0m \u001b[0mmaname\u001b[0m\u001b[0;34m)\u001b[0m\u001b[0;34m:\u001b[0m\u001b[0;34m\u001b[0m\u001b[0m\n\u001b[1;32m    592\u001b[0m         \u001b[0;34m\"\"\"Return waveform for a given power supply.\"\"\"\u001b[0m\u001b[0;34m\u001b[0m\u001b[0m\n\u001b[0;32m--> 593\u001b[0;31m         \u001b[0mself\u001b[0m\u001b[0;34m.\u001b[0m\u001b[0m_update_waveform\u001b[0m\u001b[0;34m(\u001b[0m\u001b[0mmaname\u001b[0m\u001b[0;34m)\u001b[0m\u001b[0;34m\u001b[0m\u001b[0m\n\u001b[0m\u001b[1;32m    594\u001b[0m         \u001b[0mwaveform\u001b[0m \u001b[0;34m=\u001b[0m \u001b[0mself\u001b[0m\u001b[0;34m.\u001b[0m\u001b[0m_waveforms\u001b[0m\u001b[0;34m[\u001b[0m\u001b[0mmaname\u001b[0m\u001b[0;34m]\u001b[0m\u001b[0;34m\u001b[0m\u001b[0m\n\u001b[1;32m    595\u001b[0m         \u001b[0;32mreturn\u001b[0m \u001b[0m_dcopy\u001b[0m\u001b[0;34m(\u001b[0m\u001b[0mwaveform\u001b[0m\u001b[0;34m)\u001b[0m\u001b[0;34m\u001b[0m\u001b[0m\n",
      "\u001b[0;32m/home/fac_files/lnls-sirius/dev-packages/siriuspy/siriuspy/ramp/ramp.py\u001b[0m in \u001b[0;36m_update_waveform\u001b[0;34m(self, maname)\u001b[0m\n\u001b[1;32m    711\u001b[0m         \u001b[0mdipole\u001b[0m \u001b[0;34m=\u001b[0m \u001b[0m_get_section_dipole_name\u001b[0m\u001b[0;34m(\u001b[0m\u001b[0mmaname\u001b[0m\u001b[0;34m)\u001b[0m\u001b[0;34m\u001b[0m\u001b[0m\n\u001b[1;32m    712\u001b[0m         \u001b[0;32mif\u001b[0m \u001b[0mdipole\u001b[0m \u001b[0;32mis\u001b[0m \u001b[0;32mnot\u001b[0m \u001b[0;32mNone\u001b[0m \u001b[0;32mand\u001b[0m \u001b[0mmaname\u001b[0m \u001b[0;32mnot\u001b[0m \u001b[0;32min\u001b[0m \u001b[0mself\u001b[0m\u001b[0;34m.\u001b[0m\u001b[0m_waveforms\u001b[0m\u001b[0;34m:\u001b[0m\u001b[0;34m\u001b[0m\u001b[0m\n\u001b[0;32m--> 713\u001b[0;31m             \u001b[0mself\u001b[0m\u001b[0;34m.\u001b[0m\u001b[0m_update_waveform_not_dipole\u001b[0m\u001b[0;34m(\u001b[0m\u001b[0mmaname\u001b[0m\u001b[0;34m,\u001b[0m \u001b[0mdipole\u001b[0m\u001b[0;34m,\u001b[0m \u001b[0mfamily\u001b[0m\u001b[0;34m)\u001b[0m\u001b[0;34m\u001b[0m\u001b[0m\n\u001b[0m\u001b[1;32m    714\u001b[0m \u001b[0;34m\u001b[0m\u001b[0m\n\u001b[1;32m    715\u001b[0m     \u001b[0;32mdef\u001b[0m \u001b[0m_update_waveform_not_dipole\u001b[0m\u001b[0;34m(\u001b[0m\u001b[0mself\u001b[0m\u001b[0;34m,\u001b[0m \u001b[0mmaname\u001b[0m\u001b[0;34m,\u001b[0m \u001b[0mdipole\u001b[0m\u001b[0;34m,\u001b[0m \u001b[0mfamily\u001b[0m\u001b[0;34m=\u001b[0m\u001b[0;32mNone\u001b[0m\u001b[0;34m)\u001b[0m\u001b[0;34m:\u001b[0m\u001b[0;34m\u001b[0m\u001b[0m\n",
      "\u001b[0;32m/home/fac_files/lnls-sirius/dev-packages/siriuspy/siriuspy/ramp/ramp.py\u001b[0m in \u001b[0;36m_update_waveform_not_dipole\u001b[0;34m(self, maname, dipole, family)\u001b[0m\n\u001b[1;32m    742\u001b[0m                                             \u001b[0mdipole\u001b[0m\u001b[0;34m=\u001b[0m\u001b[0mdipole\u001b[0m\u001b[0;34m,\u001b[0m\u001b[0;34m\u001b[0m\u001b[0m\n\u001b[1;32m    743\u001b[0m                                             \u001b[0mfamily\u001b[0m\u001b[0;34m=\u001b[0m\u001b[0mfamily\u001b[0m\u001b[0;34m,\u001b[0m\u001b[0;34m\u001b[0m\u001b[0m\n\u001b[0;32m--> 744\u001b[0;31m                                             strengths=strengths)\n\u001b[0m\u001b[1;32m    745\u001b[0m \u001b[0;34m\u001b[0m\u001b[0m\n\u001b[1;32m    746\u001b[0m     \u001b[0;32mdef\u001b[0m \u001b[0m_update_waveform_dipole\u001b[0m\u001b[0;34m(\u001b[0m\u001b[0mself\u001b[0m\u001b[0;34m)\u001b[0m\u001b[0;34m:\u001b[0m\u001b[0;34m\u001b[0m\u001b[0m\n",
      "\u001b[0;32m/home/fac_files/lnls-sirius/dev-packages/siriuspy/siriuspy/ramp/waveform.py\u001b[0m in \u001b[0;36m__init__\u001b[0;34m(self, maname, dipole, family, strengths)\u001b[0m\n\u001b[1;32m    682\u001b[0m             raise ValueError(\n\u001b[1;32m    683\u001b[0m                 '{} waveform needs an associated dipole!'.format(maname))\n\u001b[0;32m--> 684\u001b[0;31m         \u001b[0m_WaveformMagnet\u001b[0m\u001b[0;34m.\u001b[0m\u001b[0m__init__\u001b[0m\u001b[0;34m(\u001b[0m\u001b[0mself\u001b[0m\u001b[0;34m,\u001b[0m \u001b[0mmaname\u001b[0m\u001b[0;34m)\u001b[0m\u001b[0;34m\u001b[0m\u001b[0m\n\u001b[0m\u001b[1;32m    685\u001b[0m         \u001b[0mself\u001b[0m\u001b[0;34m.\u001b[0m\u001b[0m_dipole\u001b[0m \u001b[0;34m=\u001b[0m \u001b[0mdipole\u001b[0m\u001b[0;34m\u001b[0m\u001b[0m\n\u001b[1;32m    686\u001b[0m         \u001b[0mself\u001b[0m\u001b[0;34m.\u001b[0m\u001b[0m_family\u001b[0m \u001b[0;34m=\u001b[0m \u001b[0mfamily\u001b[0m\u001b[0;34m\u001b[0m\u001b[0m\n",
      "\u001b[0;32m/home/fac_files/lnls-sirius/dev-packages/siriuspy/siriuspy/ramp/waveform.py\u001b[0m in \u001b[0;36m__init__\u001b[0;34m(self, maname)\u001b[0m\n\u001b[1;32m    633\u001b[0m \u001b[0;34m\u001b[0m\u001b[0m\n\u001b[1;32m    634\u001b[0m     \u001b[0;32mdef\u001b[0m \u001b[0m__init__\u001b[0m\u001b[0;34m(\u001b[0m\u001b[0mself\u001b[0m\u001b[0;34m,\u001b[0m \u001b[0mmaname\u001b[0m\u001b[0;34m)\u001b[0m\u001b[0;34m:\u001b[0m\u001b[0;34m\u001b[0m\u001b[0m\n\u001b[0;32m--> 635\u001b[0;31m         \u001b[0m_Magnet\u001b[0m\u001b[0;34m.\u001b[0m\u001b[0m__init__\u001b[0m\u001b[0;34m(\u001b[0m\u001b[0mself\u001b[0m\u001b[0;34m,\u001b[0m \u001b[0mmaname\u001b[0m\u001b[0;34m=\u001b[0m\u001b[0mmaname\u001b[0m\u001b[0;34m)\u001b[0m\u001b[0;34m\u001b[0m\u001b[0m\n\u001b[0m\u001b[1;32m    636\u001b[0m \u001b[0;34m\u001b[0m\u001b[0m\n\u001b[1;32m    637\u001b[0m     \u001b[0;34m@\u001b[0m\u001b[0mproperty\u001b[0m\u001b[0;34m\u001b[0m\u001b[0m\n",
      "\u001b[0;32m/home/fac_files/lnls-sirius/dev-packages/siriuspy/siriuspy/ramp/magnet.py\u001b[0m in \u001b[0;36m__init__\u001b[0;34m(self, maname)\u001b[0m\n\u001b[1;32m     17\u001b[0m         \u001b[0;34m\"\"\"Init method.\"\"\"\u001b[0m\u001b[0;34m\u001b[0m\u001b[0m\n\u001b[1;32m     18\u001b[0m         \u001b[0mself\u001b[0m\u001b[0;34m.\u001b[0m\u001b[0m_maname\u001b[0m \u001b[0;34m=\u001b[0m \u001b[0m_SiriusPVName\u001b[0m\u001b[0;34m(\u001b[0m\u001b[0mmaname\u001b[0m\u001b[0;34m)\u001b[0m\u001b[0;34m\u001b[0m\u001b[0m\n\u001b[0;32m---> 19\u001b[0;31m         \u001b[0mself\u001b[0m\u001b[0;34m.\u001b[0m\u001b[0m_madata\u001b[0m \u001b[0;34m=\u001b[0m \u001b[0m_MAData\u001b[0m\u001b[0;34m(\u001b[0m\u001b[0mmaname\u001b[0m\u001b[0;34m=\u001b[0m\u001b[0mself\u001b[0m\u001b[0;34m.\u001b[0m\u001b[0m_maname\u001b[0m\u001b[0;34m)\u001b[0m\u001b[0;34m\u001b[0m\u001b[0m\n\u001b[0m\u001b[1;32m     20\u001b[0m         \u001b[0mself\u001b[0m\u001b[0;34m.\u001b[0m\u001b[0m_dipole_name\u001b[0m \u001b[0;34m=\u001b[0m \u001b[0m_mutil\u001b[0m\u001b[0;34m.\u001b[0m\u001b[0mget_section_dipole_name\u001b[0m\u001b[0;34m(\u001b[0m\u001b[0mself\u001b[0m\u001b[0;34m.\u001b[0m\u001b[0m_maname\u001b[0m\u001b[0;34m)\u001b[0m\u001b[0;34m\u001b[0m\u001b[0m\n\u001b[1;32m     21\u001b[0m         \u001b[0mself\u001b[0m\u001b[0;34m.\u001b[0m\u001b[0m_family_name\u001b[0m \u001b[0;34m=\u001b[0m \u001b[0m_mutil\u001b[0m\u001b[0;34m.\u001b[0m\u001b[0mget_magnet_family_name\u001b[0m\u001b[0;34m(\u001b[0m\u001b[0mself\u001b[0m\u001b[0;34m.\u001b[0m\u001b[0m_maname\u001b[0m\u001b[0;34m)\u001b[0m\u001b[0;34m\u001b[0m\u001b[0m\n",
      "\u001b[0;32m/home/fac_files/lnls-sirius/dev-packages/siriuspy/siriuspy/magnet/data.py\u001b[0m in \u001b[0;36m__init__\u001b[0;34m(self, maname)\u001b[0m\n\u001b[1;32m     22\u001b[0m         \u001b[0mself\u001b[0m\u001b[0;34m.\u001b[0m\u001b[0m_psdata\u001b[0m \u001b[0;34m=\u001b[0m \u001b[0;34m{\u001b[0m\u001b[0;34m}\u001b[0m\u001b[0;34m\u001b[0m\u001b[0m\n\u001b[1;32m     23\u001b[0m         \u001b[0;32mfor\u001b[0m \u001b[0mpsname\u001b[0m \u001b[0;32min\u001b[0m \u001b[0mpsnames\u001b[0m\u001b[0;34m:\u001b[0m\u001b[0;34m\u001b[0m\u001b[0m\n\u001b[0;32m---> 24\u001b[0;31m             \u001b[0mself\u001b[0m\u001b[0;34m.\u001b[0m\u001b[0m_psdata\u001b[0m\u001b[0;34m[\u001b[0m\u001b[0mpsname\u001b[0m\u001b[0;34m]\u001b[0m \u001b[0;34m=\u001b[0m \u001b[0m_PSData\u001b[0m\u001b[0;34m(\u001b[0m\u001b[0mpsname\u001b[0m\u001b[0;34m=\u001b[0m\u001b[0mpsname\u001b[0m\u001b[0;34m)\u001b[0m\u001b[0;34m\u001b[0m\u001b[0m\n\u001b[0m\u001b[1;32m     25\u001b[0m         \u001b[0mpsmodel\u001b[0m \u001b[0;34m=\u001b[0m \u001b[0mself\u001b[0m\u001b[0;34m.\u001b[0m\u001b[0m_psdata\u001b[0m\u001b[0;34m[\u001b[0m\u001b[0mpsnames\u001b[0m\u001b[0;34m[\u001b[0m\u001b[0;36m0\u001b[0m\u001b[0;34m]\u001b[0m\u001b[0;34m]\u001b[0m\u001b[0;34m.\u001b[0m\u001b[0mpsmodel\u001b[0m\u001b[0;34m\u001b[0m\u001b[0m\n\u001b[1;32m     26\u001b[0m         \u001b[0mself\u001b[0m\u001b[0;34m.\u001b[0m\u001b[0m_splims_unit\u001b[0m \u001b[0;34m=\u001b[0m\u001b[0;31m \u001b[0m\u001b[0;31m\\\u001b[0m\u001b[0;34m\u001b[0m\u001b[0m\n",
      "\u001b[0;32m/home/fac_files/lnls-sirius/dev-packages/siriuspy/siriuspy/pwrsupply/data.py\u001b[0m in \u001b[0;36m__init__\u001b[0;34m(self, psname)\u001b[0m\n\u001b[1;32m     37\u001b[0m         \u001b[0;31m#         _get_ps_propty_database(self._psmodel, self._pstype)\u001b[0m\u001b[0;34m\u001b[0m\u001b[0;34m\u001b[0m\u001b[0m\n\u001b[1;32m     38\u001b[0m         \u001b[0mself\u001b[0m\u001b[0;34m.\u001b[0m\u001b[0m_propty_database\u001b[0m \u001b[0;34m=\u001b[0m\u001b[0;31m \u001b[0m\u001b[0;31m\\\u001b[0m\u001b[0;34m\u001b[0m\u001b[0m\n\u001b[0;32m---> 39\u001b[0;31m             \u001b[0m_get_ps_propty_database\u001b[0m\u001b[0;34m(\u001b[0m\u001b[0mself\u001b[0m\u001b[0;34m.\u001b[0m\u001b[0m_psmodel\u001b[0m\u001b[0;34m,\u001b[0m \u001b[0mself\u001b[0m\u001b[0;34m.\u001b[0m\u001b[0m_pstype\u001b[0m\u001b[0;34m)\u001b[0m\u001b[0;34m\u001b[0m\u001b[0m\n\u001b[0m\u001b[1;32m     40\u001b[0m \u001b[0;34m\u001b[0m\u001b[0m\n\u001b[1;32m     41\u001b[0m     \u001b[0;34m@\u001b[0m\u001b[0mproperty\u001b[0m\u001b[0;34m\u001b[0m\u001b[0m\n",
      "\u001b[0;32m/home/fac_files/lnls-sirius/dev-packages/siriuspy/siriuspy/csdevice/pwrsupply.py\u001b[0m in \u001b[0;36mget_ps_propty_database\u001b[0;34m(psmodel, pstype)\u001b[0m\n\u001b[1;32m    317\u001b[0m \u001b[0;32mdef\u001b[0m \u001b[0mget_ps_propty_database\u001b[0m\u001b[0;34m(\u001b[0m\u001b[0mpsmodel\u001b[0m\u001b[0;34m,\u001b[0m \u001b[0mpstype\u001b[0m\u001b[0;34m)\u001b[0m\u001b[0;34m:\u001b[0m\u001b[0;34m\u001b[0m\u001b[0m\n\u001b[1;32m    318\u001b[0m     \u001b[0;34m\"\"\"Return property database of a LNLS power supply type device.\"\"\"\u001b[0m\u001b[0;34m\u001b[0m\u001b[0m\n\u001b[0;32m--> 319\u001b[0;31m     \u001b[0mpropty_db\u001b[0m \u001b[0;34m=\u001b[0m \u001b[0m_get_model_db\u001b[0m\u001b[0;34m(\u001b[0m\u001b[0mpsmodel\u001b[0m\u001b[0;34m)\u001b[0m\u001b[0;34m\u001b[0m\u001b[0m\n\u001b[0m\u001b[1;32m    320\u001b[0m     \u001b[0m_set_limits\u001b[0m\u001b[0;34m(\u001b[0m\u001b[0mpstype\u001b[0m\u001b[0;34m,\u001b[0m \u001b[0mpropty_db\u001b[0m\u001b[0;34m)\u001b[0m\u001b[0;34m\u001b[0m\u001b[0m\n\u001b[1;32m    321\u001b[0m     \u001b[0;32mreturn\u001b[0m \u001b[0mpropty_db\u001b[0m\u001b[0;34m\u001b[0m\u001b[0m\n",
      "\u001b[0;32m/home/fac_files/lnls-sirius/dev-packages/siriuspy/siriuspy/csdevice/pwrsupply.py\u001b[0m in \u001b[0;36m_get_model_db\u001b[0;34m(psmodel)\u001b[0m\n\u001b[1;32m    647\u001b[0m     \u001b[0;32melse\u001b[0m\u001b[0;34m:\u001b[0m\u001b[0;34m\u001b[0m\u001b[0m\n\u001b[1;32m    648\u001b[0m         raise ValueError(\n\u001b[0;32m--> 649\u001b[0;31m             'DB for psmodel {} not implemented!'.format(psmodel))\n\u001b[0m\u001b[1;32m    650\u001b[0m     \u001b[0;32mreturn\u001b[0m \u001b[0mdatabase\u001b[0m\u001b[0;34m\u001b[0m\u001b[0m\n",
      "\u001b[0;31mValueError\u001b[0m: DB for psmodel FAC_DCDC not implemented!"
     ]
    }
   ],
   "source": [
    "w1 = r.waveform_get('BO-Fam:MA-QD')"
   ]
  },
  {
   "cell_type": "code",
   "execution_count": null,
   "metadata": {
    "collapsed": true
   },
   "outputs": [],
   "source": []
  }
 ],
 "metadata": {
  "kernelspec": {
   "display_name": "Python 3",
   "language": "python",
   "name": "python3"
  },
  "language_info": {
   "codemirror_mode": {
    "name": "ipython",
    "version": 3
   },
   "file_extension": ".py",
   "mimetype": "text/x-python",
   "name": "python",
   "nbconvert_exporter": "python",
   "pygments_lexer": "ipython3",
   "version": "3.6.1"
  }
 },
 "nbformat": 4,
 "nbformat_minor": 2
}
