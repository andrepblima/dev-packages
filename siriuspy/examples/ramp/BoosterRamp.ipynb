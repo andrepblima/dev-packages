{
 "cells": [
  {
   "cell_type": "markdown",
   "metadata": {},
   "source": [
    "# BoosterRamp"
   ]
  },
  {
   "cell_type": "markdown",
   "metadata": {},
   "source": [
    "Examples on how to use **<code>siriuspy.ramp.ramp.BooterRamp</code>** objects."
   ]
  },
  {
   "cell_type": "code",
   "execution_count": null,
   "metadata": {
    "collapsed": true
   },
   "outputs": [],
   "source": [
    "from siriuspy.ramp import ramp\n",
    "from siriuspy.ramp import util\n",
    "\n",
    "\n",
    "def delete_test_configs(r):\n",
    "    _, metadata = r.configsrv_find()\n",
    "    for m in metadata:\n",
    "        if 'ipython-test' in m['name']:\n",
    "            r.name = m['name']\n",
    "            print('deleting config \"{}\"...'.format(r.name))\n",
    "            r.configsrv_delete()"
   ]
  },
  {
   "cell_type": "markdown",
   "metadata": {},
   "source": [
    "## Create a new configuration from scratch and delete it"
   ]
  },
  {
   "cell_type": "markdown",
   "metadata": {},
   "source": [
    "### create and set value"
   ]
  },
  {
   "cell_type": "code",
   "execution_count": null,
   "metadata": {
    "collapsed": true
   },
   "outputs": [],
   "source": [
    "# create booster ramp configuration object\n",
    "r = ramp.BoosterRamp()\n",
    "r.name = 'ipython-test' + r.name"
   ]
  },
  {
   "cell_type": "code",
   "execution_count": null,
   "metadata": {
    "collapsed": true
   },
   "outputs": [],
   "source": [
    "# object is not synchronized yet with server since its configuration does now exists\n",
    "print('synchronized: {}'.format(r.configsrv_synchronized))\n",
    "\n",
    "# and also its config value is still invalid\n",
    "print('valid value : {}'.format(r.check_value()))"
   ]
  },
  {
   "cell_type": "code",
   "execution_count": null,
   "metadata": {
    "collapsed": true
   },
   "outputs": [],
   "source": [
    "# a template dictionary for the configuration can be obtained:\n",
    "t = r.get_config_type_template()\n",
    "\n",
    "# set this updated template as configuration value\n",
    "r.configuration = t\n",
    "\n",
    "# print configuration field\n",
    "print(r)"
   ]
  },
  {
   "cell_type": "code",
   "execution_count": null,
   "metadata": {
    "collapsed": true
   },
   "outputs": [],
   "source": [
    "# the new configuration is still not valid because the normalized configs objects \n",
    "# are lot set yet:\n",
    "print('valid value : {}'.format(r.check_value()))\n",
    "print()\n",
    "\n",
    "# get symbol to one normalized configuration object\n",
    "n1 = r['rampup-start']\n",
    "\n",
    "# print normalized configuration\n",
    "print('configuration:')\n",
    "print(n1)"
   ]
  },
  {
   "cell_type": "code",
   "execution_count": null,
   "metadata": {
    "collapsed": true
   },
   "outputs": [],
   "source": [
    "# but one can load normalized configurations from Config:\n",
    "r.configsrv_load_normalized_configs()\n",
    "\n",
    "# and now it becomes a valid configuration\n",
    "print('valid value : {}'.format(r.check_value()))"
   ]
  },
  {
   "cell_type": "markdown",
   "metadata": {},
   "source": [
    "### save configuration to server"
   ]
  },
  {
   "cell_type": "code",
   "execution_count": null,
   "metadata": {
    "collapsed": true
   },
   "outputs": [],
   "source": [
    "# save current configuration to ConfigSrv\n",
    "r.configsrv_save()"
   ]
  },
  {
   "cell_type": "markdown",
   "metadata": {},
   "source": [
    "### list configurations stored in server"
   ]
  },
  {
   "cell_type": "code",
   "execution_count": null,
   "metadata": {
    "collapsed": true
   },
   "outputs": [],
   "source": [
    "# list all configurations in ConfigSrv:\n",
    "_, metadata = r.configsrv_find()\n",
    "print('number of configs: {}'.format(len(metadata)))\n",
    "print()\n",
    "for m in metadata:\n",
    "    if m['name'] in ('test1', 'test2', 'ramp-start') or 'ipython-test' in m['name']:\n",
    "        print(m['name'])\n",
    "        print(m)\n",
    "        print()\n",
    "print('...')"
   ]
  },
  {
   "cell_type": "markdown",
   "metadata": {},
   "source": [
    "### delete configurations"
   ]
  },
  {
   "cell_type": "code",
   "execution_count": null,
   "metadata": {
    "collapsed": true
   },
   "outputs": [],
   "source": [
    "# delete all configuration created in ipython\n",
    "delete_test_configs(r)"
   ]
  },
  {
   "cell_type": "markdown",
   "metadata": {},
   "source": [
    "## Loading an Existing Configuration and changing it"
   ]
  },
  {
   "cell_type": "markdown",
   "metadata": {},
   "source": [
    "### Load"
   ]
  },
  {
   "cell_type": "code",
   "execution_count": null,
   "metadata": {
    "collapsed": true
   },
   "outputs": [],
   "source": [
    "# creating object\n",
    "r = ramp.BoosterRamp('test1')\n",
    "\n",
    "# loading from ConfigSrv\n",
    "r.configsrv_load()\n",
    "\n",
    "# print configuration\n",
    "print(r)"
   ]
  },
  {
   "cell_type": "markdown",
   "metadata": {},
   "source": [
    "### Change and Update ConfigSrv"
   ]
  },
  {
   "cell_type": "code",
   "execution_count": null,
   "metadata": {
    "collapsed": true
   },
   "outputs": [],
   "source": [
    "# gets symbol to one of the normalized configurations\n",
    "n1 = r['rampup-start']\n",
    "\n",
    "# rename ramp configuration\n",
    "r.name = 'ipython-test-test1'\n",
    "\n",
    "\n",
    "# change its energy\n",
    "n1['BO-Fam:MA-B'] = 0.20\n",
    "\n",
    "# check validity\n",
    "print('valid value : {}'.format(r.check_value()))\n",
    "\n",
    "# save ramp config back to ConfigSrv with a different name\n",
    "r.configsrv_save()\n",
    "\n",
    "# list all ramp config in ConfigSrv\n",
    "print('list with ramp configurations in ConfigServ:')\n",
    "_, metadata = r.configsrv_find()\n",
    "for m in metadata:\n",
    "    print('-> {}'.format(m['name']))\n",
    "    \n",
    "# delete test configs\n",
    "print()\n",
    "delete_test_configs(r)"
   ]
  },
  {
   "cell_type": "markdown",
   "metadata": {},
   "source": [
    "## Manipulating normalized Configurations"
   ]
  },
  {
   "cell_type": "code",
   "execution_count": null,
   "metadata": {},
   "outputs": [],
   "source": [
    "from siriuspy.ramp import ramp\n",
    "from siriuspy.ramp import util\n",
    "\n",
    "r = ramp.BoosterRamp('test1')\n",
    "r.configsrv_load()\n",
    "\n",
    "# print previous config table\n",
    "print('Normalized config table:')\n",
    "print(r.normalized_configs)\n",
    "print()\n",
    "\n",
    "# insert new configs\n",
    "name1 = r.normalized_configs_insert(0.20)\n",
    "name2 = r.normalized_configs_insert(0.30)\n",
    "name3 = r.normalized_configs_insert(0.25)\n",
    "\n",
    "# print current config table\n",
    "print('Normalized config table:')\n",
    "print(r.normalized_configs)\n",
    "print()\n",
    "\n",
    "# print normalized configurations\n",
    "n1 = r[name1]\n",
    "n2 = r[name2]\n",
    "n3 = r[name3]\n",
    "c = n3.configuration\n",
    "for k in c.keys():\n",
    "    print('{:<12}: {:+.6f} {:+.6f} {:+.6f}'.format(k, n1[k], n3[k], n2[k]))\n",
    "\n",
    "\n",
    "# check validity\n",
    "print('valid value : {}'.format(r.check_value()))\n",
    "\n",
    "\n",
    "# save configuration to ConfigServ\n"
   ]
  },
  {
   "cell_type": "code",
   "execution_count": null,
   "metadata": {},
   "outputs": [],
   "source": [
    "(1.983122+3.000000)/2"
   ]
  },
  {
   "cell_type": "code",
   "execution_count": null,
   "metadata": {},
   "outputs": [],
   "source": [
    "n1 = r['ramp-start']\n",
    "n1 = r['rampup-start']\n",
    "n1 = r['rampup-stop']\n",
    "n1 = r['_ConfigSrv_2018-05-23-16:15:09.526']\n",
    "n1.check_value()"
   ]
  },
  {
   "cell_type": "code",
   "execution_count": null,
   "metadata": {},
   "outputs": [],
   "source": [
    "r._ConfigSrv"
   ]
  },
  {
   "cell_type": "code",
   "execution_count": null,
   "metadata": {
    "collapsed": true
   },
   "outputs": [],
   "source": [
    "v1 = r._configuration"
   ]
  },
  {
   "cell_type": "code",
   "execution_count": null,
   "metadata": {
    "collapsed": true
   },
   "outputs": [],
   "source": [
    "v2 = r.get_config_type_template()"
   ]
  },
  {
   "cell_type": "code",
   "execution_count": null,
   "metadata": {
    "collapsed": true
   },
   "outputs": [],
   "source": [
    "import siriuspy.servconf.conf_types as c\n"
   ]
  },
  {
   "cell_type": "code",
   "execution_count": null,
   "metadata": {},
   "outputs": [],
   "source": [
    "c.recursive_check(v1, v2)"
   ]
  },
  {
   "cell_type": "code",
   "execution_count": null,
   "metadata": {},
   "outputs": [],
   "source": [
    "v1"
   ]
  },
  {
   "cell_type": "code",
   "execution_count": null,
   "metadata": {},
   "outputs": [],
   "source": [
    "v2"
   ]
  },
  {
   "cell_type": "code",
   "execution_count": null,
   "metadata": {
    "collapsed": true
   },
   "outputs": [],
   "source": []
  }
 ],
 "metadata": {
  "kernelspec": {
   "display_name": "Python 3",
   "language": "python",
   "name": "python3"
  },
  "language_info": {
   "codemirror_mode": {
    "name": "ipython",
    "version": 3
   },
   "file_extension": ".py",
   "mimetype": "text/x-python",
   "name": "python",
   "nbconvert_exporter": "python",
   "pygments_lexer": "ipython3",
   "version": "3.6.1"
  }
 },
 "nbformat": 4,
 "nbformat_minor": 2
}
