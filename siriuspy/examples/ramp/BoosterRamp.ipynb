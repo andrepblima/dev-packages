{
 "cells": [
  {
   "cell_type": "markdown",
   "metadata": {},
   "source": [
    "# BoosterRamp"
   ]
  },
  {
   "cell_type": "markdown",
   "metadata": {},
   "source": [
    "Examples on how to use **<code>siriuspy.ramp.ramp.BooterRamp</code>** objects."
   ]
  },
  {
   "cell_type": "code",
   "execution_count": 6,
   "metadata": {
    "collapsed": true
   },
   "outputs": [],
   "source": [
    "from siriuspy.ramp import ramp\n",
    "from siriuspy.ramp import util\n",
    "\n",
    "\n",
    "def delete_test_configs(r):\n",
    "    metadata = r.configsrv_find()\n",
    "    for m in metadata:\n",
    "        if 'ipython-test' in m['name']:\n",
    "            r.name = m['name']\n",
    "            print('deleting config \"{}\"...'.format(r.name))\n",
    "            r.configsrv_delete()"
   ]
  },
  {
   "cell_type": "markdown",
   "metadata": {},
   "source": [
    "## Create a new configuration from scratch and delete it"
   ]
  },
  {
   "cell_type": "markdown",
   "metadata": {},
   "source": [
    "### create and set value"
   ]
  },
  {
   "cell_type": "code",
   "execution_count": null,
   "metadata": {
    "collapsed": true
   },
   "outputs": [],
   "source": [
    "# create booster ramp configuration object\n",
    "r = ramp.BoosterRamp()\n",
    "r.name = 'ipython-test' + r.name"
   ]
  },
  {
   "cell_type": "code",
   "execution_count": null,
   "metadata": {
    "collapsed": true
   },
   "outputs": [],
   "source": [
    "# object is not synchronized yet with server since its configuration does now exists\n",
    "print('synchronized: {}'.format(r.configsrv_synchronized))\n",
    "\n",
    "# and also its config value is still invalid\n",
    "print('valid value : {}'.format(r.check_value()))"
   ]
  },
  {
   "cell_type": "code",
   "execution_count": null,
   "metadata": {
    "collapsed": true
   },
   "outputs": [],
   "source": [
    "# a template dictionary for the configuration can be obtained:\n",
    "t = r.get_config_type_template()\n",
    "\n",
    "# set this updated template as configuration value\n",
    "r.configuration = t\n",
    "\n",
    "# print configuration field\n",
    "print(r)"
   ]
  },
  {
   "cell_type": "code",
   "execution_count": null,
   "metadata": {
    "collapsed": true
   },
   "outputs": [],
   "source": [
    "# the new configuration is still not valid because the normalized configs objects \n",
    "# are lot set yet:\n",
    "print('valid value : {}'.format(r.check_value()))\n",
    "print()\n",
    "\n",
    "# get symbol to one normalized configuration object\n",
    "n1 = r['rampup-start']\n",
    "\n",
    "# print normalized configuration\n",
    "print('configuration:')\n",
    "print(n1)"
   ]
  },
  {
   "cell_type": "code",
   "execution_count": null,
   "metadata": {
    "collapsed": true
   },
   "outputs": [],
   "source": [
    "# but one can load normalized configurations from Config:\n",
    "r.configsrv_load_normalized_configs()\n",
    "\n",
    "# and now it becomes a valid configuration\n",
    "print('valid value : {}'.format(r.check_value()))"
   ]
  },
  {
   "cell_type": "markdown",
   "metadata": {},
   "source": [
    "### save configuration to server"
   ]
  },
  {
   "cell_type": "code",
   "execution_count": null,
   "metadata": {
    "collapsed": true
   },
   "outputs": [],
   "source": [
    "# save current configuration to ConfigSrv\n",
    "r.configsrv_save()"
   ]
  },
  {
   "cell_type": "markdown",
   "metadata": {},
   "source": [
    "### list configurations stored in server"
   ]
  },
  {
   "cell_type": "code",
   "execution_count": null,
   "metadata": {
    "collapsed": true
   },
   "outputs": [],
   "source": [
    "# list all configurations in ConfigSrv:\n",
    "metadata = r.configsrv_find()\n",
    "print('number of configs: {}'.format(len(metadata)))\n",
    "print()\n",
    "for m in metadata:\n",
    "    if m['name'] in ('test1', 'test2', 'ramp-start') or 'ipython-test' in m['name']:\n",
    "        print(m['name'])\n",
    "        print(m)\n",
    "        print()\n",
    "print('...')"
   ]
  },
  {
   "cell_type": "markdown",
   "metadata": {},
   "source": [
    "### delete configurations"
   ]
  },
  {
   "cell_type": "code",
   "execution_count": null,
   "metadata": {
    "collapsed": true
   },
   "outputs": [],
   "source": [
    "# delete all configuration created in ipython\n",
    "delete_test_configs(r)"
   ]
  },
  {
   "cell_type": "markdown",
   "metadata": {},
   "source": [
    "## Loading an Existing Configuration and changing it"
   ]
  },
  {
   "cell_type": "markdown",
   "metadata": {},
   "source": [
    "### Load"
   ]
  },
  {
   "cell_type": "code",
   "execution_count": null,
   "metadata": {
    "collapsed": true
   },
   "outputs": [],
   "source": [
    "# creating object\n",
    "r = ramp.BoosterRamp('test1')\n",
    "\n",
    "# loading from ConfigSrv\n",
    "r.configsrv_load()\n",
    "\n",
    "# print configuration\n",
    "print(r)"
   ]
  },
  {
   "cell_type": "markdown",
   "metadata": {},
   "source": [
    "### Change and Update ConfigSrv"
   ]
  },
  {
   "cell_type": "code",
   "execution_count": null,
   "metadata": {
    "collapsed": true
   },
   "outputs": [],
   "source": [
    "# gets symbol to one of the normalized configurations\n",
    "n1 = r['rampup-start']\n",
    "\n",
    "# rename ramp configuration\n",
    "r.name = 'ipython-test-test1'\n",
    "\n",
    "\n",
    "# change its energy\n",
    "n1['BO-Fam:MA-B'] = 0.20\n",
    "\n",
    "# check validity\n",
    "print('valid value : {}'.format(r.check_value()))\n",
    "\n",
    "# save ramp config back to ConfigSrv with a different name\n",
    "r.configsrv_save()\n",
    "\n",
    "# list all ramp config in ConfigSrv\n",
    "print('list with ramp configurations in ConfigServ:')\n",
    "metadata = r.configsrv_find()\n",
    "for m in metadata:\n",
    "    print('-> {}'.format(m['name']))\n",
    "    \n",
    "# delete test configs\n",
    "print()\n",
    "delete_test_configs(r)"
   ]
  },
  {
   "cell_type": "markdown",
   "metadata": {},
   "source": [
    "## Manipulating normalized Configurations"
   ]
  },
  {
   "cell_type": "code",
   "execution_count": null,
   "metadata": {
    "collapsed": true
   },
   "outputs": [],
   "source": [
    "from siriuspy.ramp import ramp\n",
    "from siriuspy.ramp import util\n",
    "\n",
    "r = ramp.BoosterRamp('test1')\n",
    "r.configsrv_load()\n",
    "\n",
    "# print previous config table\n",
    "print('Normalized config table:')\n",
    "print(r.normalized_configs)\n",
    "print()\n",
    "\n",
    "# insert new configuration\n",
    "name1 = r.normalized_configs_insert(0.20)\n",
    "name2 = r.normalized_configs_insert(0.30)\n",
    "name3 = r.normalized_configs_insert(0.25)\n",
    "\n",
    "# print current config table\n",
    "print('Normalized config table:')\n",
    "print(r.normalized_configs)\n",
    "print()\n",
    "\n",
    "# print normalized configurations\n",
    "n1 = r[name1]\n",
    "n2 = r[name2]\n",
    "n3 = r[name3]\n",
    "c = n3.configuration\n",
    "for k in c.keys():\n",
    "    print('{:<12}: {:+.6f} {:+.6f} {:+.6f}'.format(k, n1[k], n3[k], n2[k]))\n",
    "\n",
    "\n",
    "# check validity\n",
    "print('valid value : {}'.format(r.check_value()))"
   ]
  },
  {
   "cell_type": "markdown",
   "metadata": {},
   "source": [
    "## Manipulating dipole ramp "
   ]
  },
  {
   "cell_type": "markdown",
   "metadata": {},
   "source": [
    "### Load existing ramp configuration"
   ]
  },
  {
   "cell_type": "code",
   "execution_count": 7,
   "metadata": {},
   "outputs": [
    {
     "name": "stdout",
     "output_type": "stream",
     "text": [
      "name                              : test1\n",
      "delay_rf [us]                     : 0.0\n",
      "ramp_dipole_delay [us]            : 0.0\n",
      "ramp_dipole_duration [ms]         : 490.0\n",
      "ramp_dipole_time_energy [ms] [GeV]: \n",
      "                                  : 0.122531 +0.010000\n",
      "                                  : 12.500000 +0.078750\n",
      "                                  : 302.000000 +3.101786\n",
      "                                  : 315.638910 +3.150000\n",
      "                                  : 323.480870 +3.150000\n",
      "                                  : 335.243811 +3.000000\n",
      "                                  : 470.517629 +0.210000\n",
      "                                  : 490.000000 +0.010000\n",
      "injection_time [ms]               : 19.6049\n",
      "ejection_time [ms]                : 294.07351837959493\n",
      "normalized_configs [ms] [name]    : \n",
      "                                  : 100.000000 config_a\n",
      "                                  : 105.000000 config_d\n",
      "                                  : 150.000000 config_b\n",
      "\n"
     ]
    }
   ],
   "source": [
    "from siriuspy.ramp import ramp\n",
    "from siriuspy.ramp import util\n",
    "import matplotlib.pyplot as plt\n",
    "\n",
    "# creating object\n",
    "r = ramp.BoosterRamp('test1')\n",
    "\n",
    "# loading from ConfigSrv\n",
    "r.configsrv_load()\n",
    "\n",
    "# print configuration\n",
    "print(r)"
   ]
  },
  {
   "cell_type": "code",
   "execution_count": 4,
   "metadata": {},
   "outputs": [
    {
     "name": "stdout",
     "output_type": "stream",
     "text": [
      "Initial ramp config\n",
      "===================\n",
      "ramp_start_value    : 0.01 [GeV]\n",
      "rampup_start_value  : 0.07875000000000001 [GeV]\n",
      "rampup_stop_value   : 3.1017857142857137 [GeV]\n",
      "ramp_plateau_value  : 3.1500000000000004 [GeV]\n",
      "\n",
      "rampup_start_time   : 12.498124531132783 [ms]\n",
      "rampup_stop_time    : 302.0380095023756 [ms]\n",
      "rampdown_start_time : 335.24381095273816 [ms]\n",
      "rampdown_stop_time  : 470.5176294073518 [ms]\n",
      "\n",
      "Final ramp config\n",
      "===== ===========\n",
      "ramp_start_value    : 0.01 [GeV]\n",
      "rampup_start_value  : 0.07875000000000001 [GeV]\n",
      "rampup_stop_value   : 1.6017857142857137 [GeV]\n",
      "ramp_plateau_value  : 3.1500000000000004 [GeV]\n",
      "\n",
      "rampup_start_time   : 12.498124531132783 [ms]\n",
      "rampup_stop_time    : 202.05301325331334 [ms]\n",
      "rampdown_start_time : 335.24381095273816 [ms]\n",
      "rampdown_stop_time  : 470.5176294073518 [ms]\n",
      "\n",
      "Waveform comparison: before and after\n"
     ]
    },
    {
     "data": {
      "image/png": "[encoded data removed]",
      "text/plain": [
       "<Figure size 432x288 with 1 Axes>"
      ]
     },
     "metadata": {},
     "output_type": "display_data"
    }
   ],
   "source": [
    "# get original dipole waveform\n",
    "w1 = r.waveform_get('BO-Fam:MA-B')\n",
    "\n",
    "# print initial ramp config\n",
    "print('Initial ramp config')\n",
    "print('===================')\n",
    "print('{:<20s}: {} [GeV]'.format('ramp_start_value', r.ramp_start_value))\n",
    "print('{:<20s}: {} [GeV]'.format('rampup_start_value', r.rampup_start_value))\n",
    "print('{:<20s}: {} [GeV]'.format('rampup_stop_value', r.rampup_stop_value))\n",
    "print('{:<20s}: {} [GeV]'.format('ramp_plateau_value', r.ramp_plateau_value))\n",
    "print()\n",
    "print('{:<20s}: {} [ms]'.format('rampup_start_time', r.rampup_start_time))\n",
    "print('{:<20s}: {} [ms]'.format('rampup_stop_time', r.rampup_stop_time))\n",
    "print('{:<20s}: {} [ms]'.format('rampdown_start_time', r.rampdown_start_time))\n",
    "print('{:<20s}: {} [ms]'.format('rampdown_stop_time', r.rampdown_stop_time))\n",
    "\n",
    "# change value of rampup-start\n",
    "r.rampup_stop_time = r.rampup_stop_time - 100  \n",
    "r.rampup_stop_value = r.rampup_stop_value - 1.5\n",
    "\n",
    "# print initial ramp config\n",
    "print()\n",
    "print('Final ramp config')\n",
    "print('===== ===========')\n",
    "print('{:<20s}: {} [GeV]'.format('ramp_start_value', r.ramp_start_value))\n",
    "print('{:<20s}: {} [GeV]'.format('rampup_start_value', r.rampup_start_value))\n",
    "print('{:<20s}: {} [GeV]'.format('rampup_stop_value', r.rampup_stop_value))\n",
    "print('{:<20s}: {} [GeV]'.format('ramp_plateau_value', r.ramp_plateau_value))\n",
    "print()\n",
    "print('{:<20s}: {} [ms]'.format('rampup_start_time', r.rampup_start_time))\n",
    "print('{:<20s}: {} [ms]'.format('rampup_stop_time', r.rampup_stop_time))\n",
    "print('{:<20s}: {} [ms]'.format('rampdown_start_time', r.rampdown_start_time))\n",
    "print('{:<20s}: {} [ms]'.format('rampdown_stop_time', r.rampdown_stop_time))\n",
    "\n",
    "# get modified dipole waveform\n",
    "w2 = r.waveform_get('BO-Fam:MA-B')\n",
    "\n",
    "# compare the two waveforms\n",
    "print()\n",
    "print('Waveform comparison: before and after')\n",
    "plt.plot(w1.times, w1)\n",
    "plt.plot(w2.times, w2)\n",
    "plt.show()"
   ]
  },
  {
   "cell_type": "code",
   "execution_count": 6,
   "metadata": {},
   "outputs": [
    {
     "data": {
      "image/png": "[encoded data removed]",
      "text/plain": [
       "<Figure size 432x288 with 1 Axes>"
      ]
     },
     "metadata": {},
     "output_type": "display_data"
    }
   ],
   "source": [
    "w3 = r.waveform_get('BO-Fam:MA-QF')\n",
    "plt.plot(w3.times, w3.strengths)\n",
    "plt.show()"
   ]
  },
  {
   "cell_type": "code",
   "execution_count": 7,
   "metadata": {},
   "outputs": [
    {
     "name": "stdout",
     "output_type": "stream",
     "text": [
      "[[100.0, 'config_a'], [105.0, 'config_d'], [120.0, 'config_r'], [150.0, 'config_b']]\n"
     ]
    }
   ],
   "source": [
    "print(r.normalized_configs)"
   ]
  },
  {
   "cell_type": "markdown",
   "metadata": {
    "collapsed": true
   },
   "source": [
    "## Read normalized configurations"
   ]
  },
  {
   "cell_type": "code",
   "execution_count": 5,
   "metadata": {
    "collapsed": true
   },
   "outputs": [],
   "source": [
    "from siriuspy.ramp import ramp\n",
    "from siriuspy.ramp import util\n",
    "import matplotlib.pyplot as plt\n",
    "\n",
    "# creating object\n",
    "r = ramp.BoosterRamp('test1')\n",
    "\n",
    "# loading from ConfigSrv\n",
    "r.configsrv_load()"
   ]
  },
  {
   "cell_type": "code",
   "execution_count": 6,
   "metadata": {
    "scrolled": true
   },
   "outputs": [
    {
     "data": {
      "image/png": "[encoded data removed]",
      "text/plain": [
       "<Figure size 432x288 with 1 Axes>"
      ]
     },
     "metadata": {},
     "output_type": "display_data"
    }
   ],
   "source": [
    "times = r.waveform_get_times()\n",
    "strengths = r.waveform_get('BO-Fam:MA-QF')\n",
    "plt.plot(times, strengths)\n",
    "plt.show()"
   ]
  }
 ],
 "metadata": {
  "kernelspec": {
   "display_name": "Python 3",
   "language": "python",
   "name": "python3"
  },
  "language_info": {
   "codemirror_mode": {
    "name": "ipython",
    "version": 3
   },
   "file_extension": ".py",
   "mimetype": "text/x-python",
   "name": "python",
   "nbconvert_exporter": "python",
   "pygments_lexer": "ipython3",
   "version": "3.6.1"
  }
 },
 "nbformat": 4,
 "nbformat_minor": 2
}
