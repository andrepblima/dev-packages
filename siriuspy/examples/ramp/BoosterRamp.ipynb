{
 "cells": [
  {
   "cell_type": "markdown",
   "metadata": {},
   "source": [
    "# BoosterRamp"
   ]
  },
  {
   "cell_type": "markdown",
   "metadata": {},
   "source": [
    "Examples on how to use **<code>siriuspy.ramp.ramp.BooterRamp</code>** objects."
   ]
  },
  {
   "cell_type": "code",
   "execution_count": 1,
   "metadata": {
    "collapsed": true
   },
   "outputs": [],
   "source": [
    "from siriuspy.ramp import ramp\n",
    "from siriuspy.ramp import util\n",
    "\n",
    "\n",
    "def delete_test_configs(r):\n",
    "    _, metadata = r.configsrv_find()\n",
    "    for m in metadata:\n",
    "        if 'ipython-test' in m['name']:\n",
    "            r.name = m['name']\n",
    "            print('deleting config \"{}\"...'.format(r.name))\n",
    "            r.configsrv_delete()"
   ]
  },
  {
   "cell_type": "markdown",
   "metadata": {},
   "source": [
    "## Create a new configuration from scratch and delete it"
   ]
  },
  {
   "cell_type": "markdown",
   "metadata": {},
   "source": [
    "### create and set value"
   ]
  },
  {
   "cell_type": "code",
   "execution_count": 9,
   "metadata": {
    "collapsed": true
   },
   "outputs": [],
   "source": [
    "# create booster ramp configuration object\n",
    "r = ramp.BoosterRamp()\n",
    "r.name = 'ipython-test' + r.name"
   ]
  },
  {
   "cell_type": "code",
   "execution_count": 10,
   "metadata": {},
   "outputs": [
    {
     "name": "stdout",
     "output_type": "stream",
     "text": [
      "synchronized: False\n",
      "valid value : False\n"
     ]
    }
   ],
   "source": [
    "# object is not synchronized yet with server since its configuration does now exists\n",
    "print('synchronized: {}'.format(r.configsrv_synchronized))\n",
    "\n",
    "# and also its config value is still invalid\n",
    "print('valid value : {}'.format(r.check_value()))"
   ]
  },
  {
   "cell_type": "code",
   "execution_count": 11,
   "metadata": {},
   "outputs": [
    {
     "name": "stdout",
     "output_type": "stream",
     "text": [
      "name                              : test2\n",
      "delay_rf [us]                     : 0.0\n",
      "ramp_dipole_delay [us]            : 0.0\n",
      "ramp_dipole_duration [ms]         : 490.0\n",
      "ramp_dipole_time_energy [ms] [GeV]: \n",
      "                                  : 0.122531 +0.030000\n",
      "                                  : 12.743186 +0.078750\n",
      "                                  : 303.875969 +3.101786\n",
      "                                  : 315.638910 +3.150000\n",
      "                                  : 323.480870 +3.150000\n",
      "                                  : 335.243811 +3.000000\n",
      "                                  : 470.517629 +0.210000\n",
      "                                  : 490.000000 +0.030000\n",
      "normalized_configs [ms] [name]    : \n",
      "                                  : 0.000000 ramp-start\n",
      "                                  : 12.743186 rampup-start\n",
      "                                  : 303.875969 rampup-stop\n",
      "\n"
     ]
    }
   ],
   "source": [
    "# a template dictionary for the configuration can be obtained:\n",
    "t = r.get_config_type_template()\n",
    "\n",
    "# set this updated template as configuration value\n",
    "r.configuration = t\n",
    "\n",
    "# print configuration field\n",
    "print(r)"
   ]
  },
  {
   "cell_type": "code",
   "execution_count": 12,
   "metadata": {},
   "outputs": [
    {
     "name": "stdout",
     "output_type": "stream",
     "text": [
      "valid value : False\n",
      "\n",
      "configuration:\n",
      "name: rampup-start\n"
     ]
    }
   ],
   "source": [
    "# the new configuration is still not valid because the normalized configs objects \n",
    "# are lot set yet:\n",
    "print('valid value : {}'.format(r.check_value()))\n",
    "print()\n",
    "\n",
    "# get symbol to one normalized configuration object\n",
    "n1 = r['rampup-start']\n",
    "\n",
    "# print normalized configuration\n",
    "print('configuration:')\n",
    "print(n1)"
   ]
  },
  {
   "cell_type": "code",
   "execution_count": 13,
   "metadata": {},
   "outputs": [
    {
     "name": "stdout",
     "output_type": "stream",
     "text": [
      "valid value : True\n"
     ]
    }
   ],
   "source": [
    "# but one can load normalized configurations from Config:\n",
    "r.configsrv_load_normalized_configs()\n",
    "\n",
    "# and now it becomes a valid configuration\n",
    "print('valid value : {}'.format(r.check_value()))"
   ]
  },
  {
   "cell_type": "markdown",
   "metadata": {},
   "source": [
    "### save configuration to server"
   ]
  },
  {
   "cell_type": "code",
   "execution_count": 14,
   "metadata": {
    "collapsed": true
   },
   "outputs": [],
   "source": [
    "# save current configuration to ConfigSrv\n",
    "r.configsrv_save()"
   ]
  },
  {
   "cell_type": "markdown",
   "metadata": {},
   "source": [
    "### list configurations stored in server"
   ]
  },
  {
   "cell_type": "code",
   "execution_count": null,
   "metadata": {
    "collapsed": true
   },
   "outputs": [],
   "source": [
    "# list all configurations in ConfigSrv:\n",
    "_, metadata = r.configsrv_find()\n",
    "print('number of configs: {}'.format(len(metadata)))\n",
    "print()\n",
    "for m in metadata:\n",
    "    if m['name'] in ('test1', 'test2', 'ramp-start') or 'ipython-test' in m['name']:\n",
    "        print(m['name'])\n",
    "        print(m)\n",
    "        print()\n",
    "print('...')"
   ]
  },
  {
   "cell_type": "markdown",
   "metadata": {},
   "source": [
    "### delete configurations"
   ]
  },
  {
   "cell_type": "code",
   "execution_count": null,
   "metadata": {
    "collapsed": true
   },
   "outputs": [],
   "source": [
    "# delete all configuration created in ipython\n",
    "delete_test_configs(r)"
   ]
  },
  {
   "cell_type": "markdown",
   "metadata": {},
   "source": [
    "## Loading an Existing Configuration and changing it"
   ]
  },
  {
   "cell_type": "markdown",
   "metadata": {},
   "source": [
    "### Load"
   ]
  },
  {
   "cell_type": "code",
   "execution_count": 1,
   "metadata": {},
   "outputs": [
    {
     "ename": "NameError",
     "evalue": "name 'ramp' is not defined",
     "output_type": "error",
     "traceback": [
      "\u001b[0;31m---------------------------------------------------------------------------\u001b[0m",
      "\u001b[0;31mNameError\u001b[0m                                 Traceback (most recent call last)",
      "\u001b[0;32m<ipython-input-1-1bdfd0764c49>\u001b[0m in \u001b[0;36m<module>\u001b[0;34m()\u001b[0m\n\u001b[1;32m      1\u001b[0m \u001b[0;31m# creating object\u001b[0m\u001b[0;34m\u001b[0m\u001b[0;34m\u001b[0m\u001b[0m\n\u001b[0;32m----> 2\u001b[0;31m \u001b[0mr\u001b[0m \u001b[0;34m=\u001b[0m \u001b[0mramp\u001b[0m\u001b[0;34m.\u001b[0m\u001b[0mBoosterRamp\u001b[0m\u001b[0;34m(\u001b[0m\u001b[0;34m'test1'\u001b[0m\u001b[0;34m)\u001b[0m\u001b[0;34m\u001b[0m\u001b[0m\n\u001b[0m\u001b[1;32m      3\u001b[0m \u001b[0;34m\u001b[0m\u001b[0m\n\u001b[1;32m      4\u001b[0m \u001b[0;31m# loading from ConfigSrv\u001b[0m\u001b[0;34m\u001b[0m\u001b[0;34m\u001b[0m\u001b[0m\n\u001b[1;32m      5\u001b[0m \u001b[0mr\u001b[0m\u001b[0;34m.\u001b[0m\u001b[0mconfigsrv_load\u001b[0m\u001b[0;34m(\u001b[0m\u001b[0;34m)\u001b[0m\u001b[0;34m\u001b[0m\u001b[0m\n",
      "\u001b[0;31mNameError\u001b[0m: name 'ramp' is not defined"
     ]
    }
   ],
   "source": [
    "# creating object\n",
    "r = ramp.BoosterRamp('test1')\n",
    "\n",
    "# loading from ConfigSrv\n",
    "r.configsrv_load()\n",
    "\n",
    "# print configuration\n",
    "print(r)"
   ]
  },
  {
   "cell_type": "markdown",
   "metadata": {},
   "source": [
    "### Change and Update ConfigSrv"
   ]
  },
  {
   "cell_type": "code",
   "execution_count": null,
   "metadata": {
    "collapsed": true
   },
   "outputs": [],
   "source": [
    "# gets symbol to one of the normalized configurations\n",
    "n1 = r['rampup-start']\n",
    "\n",
    "# rename ramp configuration\n",
    "r.name = 'ipython-test-test1'\n",
    "\n",
    "\n",
    "# change its energy\n",
    "n1['BO-Fam:MA-B'] = 0.20\n",
    "\n",
    "# check validity\n",
    "print('valid value : {}'.format(r.check_value()))\n",
    "\n",
    "# save ramp config back to ConfigSrv with a different name\n",
    "r.configsrv_save()\n",
    "\n",
    "# list all ramp config in ConfigSrv\n",
    "print('list with ramp configurations in ConfigServ:')\n",
    "_, metadata = r.configsrv_find()\n",
    "for m in metadata:\n",
    "    print('-> {}'.format(m['name']))\n",
    "    \n",
    "# delete test configs\n",
    "print()\n",
    "delete_test_configs(r)"
   ]
  },
  {
   "cell_type": "markdown",
   "metadata": {},
   "source": [
    "## Manipulating normalized Configurations"
   ]
  },
  {
   "cell_type": "code",
   "execution_count": null,
   "metadata": {
    "collapsed": true
   },
   "outputs": [],
   "source": [
    "from siriuspy.ramp import ramp\n",
    "from siriuspy.ramp import util\n",
    "\n",
    "r = ramp.BoosterRamp('test1')\n",
    "r.configsrv_load()\n",
    "\n",
    "# print previous config table\n",
    "print('Normalized config table:')\n",
    "print(r.normalized_configs)\n",
    "print()\n",
    "\n",
    "# insert new configs\n",
    "name1 = r.normalized_configs_insert(0.20)\n",
    "name2 = r.normalized_configs_insert(0.30)\n",
    "name3 = r.normalized_configs_insert(0.25)\n",
    "\n",
    "# print current config table\n",
    "print('Normalized config table:')\n",
    "print(r.normalized_configs)\n",
    "print()\n",
    "\n",
    "# print normalized configurations\n",
    "n1 = r[name1]\n",
    "n2 = r[name2]\n",
    "n3 = r[name3]\n",
    "c = n3.configuration\n",
    "for k in c.keys():\n",
    "    print('{:<12}: {:+.6f} {:+.6f} {:+.6f}'.format(k, n1[k], n3[k], n2[k]))\n",
    "\n",
    "\n",
    "# check validity\n",
    "print('valid value : {}'.format(r.check_value()))\n",
    "\n",
    "\n",
    "# save configuration to ConfigServ\n"
   ]
  },
  {
   "cell_type": "code",
   "execution_count": null,
   "metadata": {
    "collapsed": true
   },
   "outputs": [],
   "source": [
    "(1.983122+3.000000)/2"
   ]
  },
  {
   "cell_type": "code",
   "execution_count": null,
   "metadata": {
    "collapsed": true
   },
   "outputs": [],
   "source": [
    "n1 = r['ramp-start']\n",
    "n1 = r['rampup-start']\n",
    "n1 = r['rampup-stop']\n",
    "n1 = r['_ConfigSrv_2018-05-23-16:15:09.526']\n",
    "n1.check_value()"
   ]
  },
  {
   "cell_type": "markdown",
   "metadata": {},
   "source": [
    "## Manipulating waveforms"
   ]
  },
  {
   "cell_type": "markdown",
   "metadata": {},
   "source": [
    "### Load existing ramp configuration"
   ]
  },
  {
   "cell_type": "code",
   "execution_count": 6,
   "metadata": {},
   "outputs": [
    {
     "name": "stdout",
     "output_type": "stream",
     "text": [
      "name                              : test1\n",
      "delay_rf [us]                     : 0.0\n",
      "ramp_dipole_delay [us]            : 0.0\n",
      "ramp_dipole_duration [ms]         : 490.0\n",
      "ramp_dipole_time_energy [ms] [GeV]: \n",
      "                                  : 0.122531 +0.030000\n",
      "                                  : 12.743186 +0.078750\n",
      "                                  : 303.875969 +3.101786\n",
      "                                  : 315.638910 +3.150000\n",
      "                                  : 323.480870 +3.150000\n",
      "                                  : 335.243811 +3.000000\n",
      "                                  : 470.517629 +0.210000\n",
      "                                  : 490.000000 +0.030000\n",
      "normalized_configs [ms] [name]    : \n",
      "                                  : 0.000000 ramp-start\n",
      "                                  : 12.743186 rampup-start\n",
      "                                  : 303.875969 rampup-stop\n",
      "\n"
     ]
    }
   ],
   "source": [
    "from siriuspy.ramp import ramp\n",
    "from siriuspy.ramp import util\n",
    "import matplotlib.pyplot as plt\n",
    "\n",
    "# creating object\n",
    "r = ramp.BoosterRamp('test1')\n",
    "\n",
    "# loading from ConfigSrv\n",
    "r.configsrv_load()\n",
    "\n",
    "# print configuration\n",
    "print(r)"
   ]
  },
  {
   "cell_type": "code",
   "execution_count": 7,
   "metadata": {},
   "outputs": [],
   "source": [
    "w = r._create_waveform_dipole()"
   ]
  },
  {
   "cell_type": "code",
   "execution_count": 3,
   "metadata": {},
   "outputs": [
    {
     "name": "stdout",
     "output_type": "stream",
     "text": [
      "name: test1\n"
     ]
    }
   ],
   "source": [
    "r.configsrv_load_normalized_configs()\n",
    "print(r)"
   ]
  },
  {
   "cell_type": "code",
   "execution_count": 6,
   "metadata": {},
   "outputs": [],
   "source": [
    "w = r.get_waveform_currents('BO-Fam:MA-B')"
   ]
  },
  {
   "cell_type": "code",
   "execution_count": 8,
   "metadata": {},
   "outputs": [
    {
     "name": "stdout",
     "output_type": "stream",
     "text": [
      "\n",
      "maname         : BO-Fam:MA-B\n",
      "section        : BO\n",
      "dipole_name    : None\n",
      "family_name    : None\n",
      "magfunc        : dipole\n",
      "strength_label : Energy\n",
      "strength_units : GeV\n",
      "current_min    : 0.0\n",
      "current_max    : 990.0\n"
     ]
    }
   ],
   "source": [
    "print(w)"
   ]
  },
  {
   "cell_type": "code",
   "execution_count": 11,
   "metadata": {},
   "outputs": [
    {
     "data": {
      "image/png": "[encoded data removed]",
      "text/plain": [
       "<matplotlib.figure.Figure at 0x7f151885c860>"
      ]
     },
     "metadata": {},
     "output_type": "display_data"
    }
   ],
   "source": [
    "plt.plot(w.strengths)\n",
    "plt.show()"
   ]
  },
  {
   "cell_type": "code",
   "execution_count": 8,
   "metadata": {
    "collapsed": true
   },
   "outputs": [],
   "source": [
    "r.configsrv_save()"
   ]
  },
  {
   "cell_type": "code",
   "execution_count": null,
   "metadata": {
    "collapsed": true
   },
   "outputs": [],
   "source": [
    "v2"
   ]
  },
  {
   "cell_type": "code",
   "execution_count": null,
   "metadata": {
    "collapsed": true
   },
   "outputs": [],
   "source": []
  }
 ],
 "metadata": {
  "kernelspec": {
   "display_name": "Python 3",
   "language": "python",
   "name": "python3"
  },
  "language_info": {
   "codemirror_mode": {
    "name": "ipython",
    "version": 3
   },
   "file_extension": ".py",
   "mimetype": "text/x-python",
   "name": "python",
   "nbconvert_exporter": "python",
   "pygments_lexer": "ipython3",
   "version": "3.6.1"
  }
 },
 "nbformat": 4,
 "nbformat_minor": 2
}
