{
 "cells": [
  {
   "cell_type": "markdown",
   "metadata": {},
   "source": [
    "# BoosterRamp"
   ]
  },
  {
   "cell_type": "markdown",
   "metadata": {},
   "source": [
    "Examples on how to use **<code>siriuspy.ramp.ramp.BooterRamp</code>** objects."
   ]
  },
  {
   "cell_type": "code",
   "execution_count": 2,
   "metadata": {
    "collapsed": true
   },
   "outputs": [],
   "source": [
    "from siriuspy.ramp import ramp\n",
    "from siriuspy.ramp import util"
   ]
  },
  {
   "cell_type": "markdown",
   "metadata": {},
   "source": [
    "## Create a new configuration from scratch, save to conig server and delete it"
   ]
  },
  {
   "cell_type": "markdown",
   "metadata": {},
   "source": [
    "### create and set value"
   ]
  },
  {
   "cell_type": "code",
   "execution_count": 3,
   "metadata": {},
   "outputs": [],
   "source": [
    "# create booster ramp configuration object\n",
    "cname = 'ttestt'\n",
    "r = ramp.BoosterRamp(cname)"
   ]
  },
  {
   "cell_type": "code",
   "execution_count": 4,
   "metadata": {},
   "outputs": [
    {
     "name": "stdout",
     "output_type": "stream",
     "text": [
      "synchronized: False\n",
      "valid value : True\n",
      "\n",
      "name                              : ttestt\n",
      "delay_rf [us]                     : 0.0\n",
      "ramp_dipole_delay [us]            : 0.0\n",
      "ramp_dipole_duration [ms]         : 490.0\n",
      "injection_time [ms]               : 019.605\n",
      "ejection_time [ms]                : 294.074\n",
      "ramp_dipole_time_energy [ms] [GeV]: \n",
      "                                  : 000.000 +000.030 (start)\n",
      "                                  : 012.743 +000.079 (rampup_start)\n",
      "                                  : 303.876 +003.102 (rampup_stop)\n",
      "                                  : 310.841 +003.150 (plateau_start)\n",
      "                                  : 324.335 +003.150 (plateau_stop)\n",
      "                                  : 335.244 +003.000 (rampdown_start)\n",
      "                                  : 470.518 +000.210 (rampdown_stop)\n",
      "                                  : 490.000 +000.030 (stop)\n",
      "normalized_configs [ms] [name]    : \n",
      "                                  : 012.743 rampup-start\n",
      "                                  : 303.876 rampup-stop\n",
      "\n"
     ]
    }
   ],
   "source": [
    "# object is not synchronized yet with server since its configuration does now exists\n",
    "print('synchronized: {}'.format(r.configsrv_synchronized))\n",
    "\n",
    "# and also its config value is still invalid\n",
    "print('valid value : {}'.format(r.check_value()))\n",
    "print()\n",
    "\n",
    "# print configuration field - by default it uses the template value\n",
    "print(r)"
   ]
  },
  {
   "cell_type": "code",
   "execution_count": 5,
   "metadata": {},
   "outputs": [
    {
     "name": "stdout",
     "output_type": "stream",
     "text": [
      "config names: ['rampup-start', 'rampup-stop']\n",
      "\n",
      "name        : rampup-start\n",
      "BO-Fam:MA-B : +0.150000\n",
      "BO-Fam:MA-QD: +0.001120\n",
      "BO-Fam:MA-QF: +0.377100\n",
      "BO-02D:MA-QS: +0.000000\n",
      "BO-Fam:MA-SD: +0.525838\n",
      "BO-Fam:MA-SF: +1.189851\n",
      "BO-01U:MA-CH: +0.000000\n",
      "BO-03U:MA-CH: +0.001000\n",
      "BO-05U:MA-CH: +0.000000\n",
      "BO-07U:MA-CH: +0.000000\n",
      "BO-09U:MA-CH: +0.000000\n",
      "BO-11U:MA-CH: +0.000000\n",
      "BO-13U:MA-CH: +0.000000\n",
      "BO-15U:MA-CH: +0.000000\n",
      "BO-17U:MA-CH: +0.000000\n",
      "BO-19U:MA-CH: +0.000000\n",
      "BO-21U:MA-CH: +0.000000\n",
      "BO-23U:MA-CH: +0.000000\n",
      "BO-25U:MA-CH: +0.000000\n",
      "BO-27U:MA-CH: +0.000000\n",
      "BO-29U:MA-CH: +0.000000\n",
      "BO-31U:MA-CH: +0.000000\n",
      "BO-33U:MA-CH: +0.000000\n",
      "BO-35U:MA-CH: +0.000000\n",
      "BO-37U:MA-CH: +0.000000\n",
      "BO-39U:MA-CH: +0.000000\n",
      "BO-41U:MA-CH: +0.000000\n",
      "BO-43U:MA-CH: +0.000000\n",
      "BO-45U:MA-CH: +0.000000\n",
      "BO-47U:MA-CH: +0.000000\n",
      "BO-49D:MA-CH: +0.000000\n",
      "BO-01U:MA-CV: +0.000000\n",
      "BO-03U:MA-CV: +0.000000\n",
      "BO-05U:MA-CV: +0.000000\n",
      "BO-07U:MA-CV: +0.000000\n",
      "BO-09U:MA-CV: +0.000000\n",
      "BO-11U:MA-CV: +0.000000\n",
      "BO-13U:MA-CV: +0.000000\n",
      "BO-15U:MA-CV: +0.000000\n",
      "BO-17U:MA-CV: +0.000000\n",
      "BO-19U:MA-CV: +0.000000\n",
      "BO-21U:MA-CV: +0.000000\n",
      "BO-23U:MA-CV: +0.000000\n",
      "BO-25U:MA-CV: +0.000000\n",
      "BO-27U:MA-CV: +0.000000\n",
      "BO-29U:MA-CV: +0.000000\n",
      "BO-31U:MA-CV: +0.000000\n",
      "BO-33U:MA-CV: +0.000000\n",
      "BO-35U:MA-CV: +0.000000\n",
      "BO-37U:MA-CV: +0.000000\n",
      "BO-39U:MA-CV: +0.000000\n",
      "BO-41U:MA-CV: +0.000000\n",
      "BO-43U:MA-CV: +0.000000\n",
      "BO-45U:MA-CV: +0.000000\n",
      "BO-47U:MA-CV: +0.000000\n",
      "BO-49U:MA-CV: +0.000000\n",
      "\n"
     ]
    }
   ],
   "source": [
    "# print normalized configs names\n",
    "print('config names:', r.normalized_configs_names)\n",
    "print()\n",
    "\n",
    "# get symbol to one normalized configuration object\n",
    "n1 = r['rampup-start']\n",
    "\n",
    "# modify config\n",
    "n1['BO-03U:MA-CH'] = 0.001\n",
    "\n",
    "# print normalized configuration\n",
    "print(n1)\n",
    "\n",
    "r['rampup-start'] = n1"
   ]
  },
  {
   "cell_type": "markdown",
   "metadata": {},
   "source": [
    "### save configuration to server"
   ]
  },
  {
   "cell_type": "code",
   "execution_count": 6,
   "metadata": {
    "collapsed": true
   },
   "outputs": [],
   "source": [
    "# save current configuration to ConfigSrv\n",
    "r.configsrv_save()"
   ]
  },
  {
   "cell_type": "markdown",
   "metadata": {},
   "source": [
    "### list configurations stored in server"
   ]
  },
  {
   "cell_type": "code",
   "execution_count": 12,
   "metadata": {},
   "outputs": [
    {
     "name": "stdout",
     "output_type": "stream",
     "text": [
      "number of configs: 3\n",
      "\n",
      "name:test1     , id:5b071a77c692cc000db36ab3, created:2018-05-24 17:03:03.911460\n",
      "name:test2     , id:5b071a8bc692cc000db36ab4, created:2018-05-24 17:03:23.110850\n",
      "name:test3     , id:5b32ba8fa6e9d6000d0e470f, created:2018-06-26 19:13:35.314711\n"
     ]
    }
   ],
   "source": [
    "# list all configurations in ConfigSrv:\n",
    "metadata = r.configsrv_find()\n",
    "print('number of configs: {}'.format(len(metadata)))\n",
    "print()\n",
    "for m in metadata:\n",
    "    tstamp = r.conv_timestamp_flt_2_txt(m['created'])\n",
    "    print('name:{:<10s}, id:{:<20s}, created:{}'.format(m['name'], m['_id'], tstamp))"
   ]
  },
  {
   "cell_type": "markdown",
   "metadata": {},
   "source": [
    "### delete configurations"
   ]
  },
  {
   "cell_type": "code",
   "execution_count": 11,
   "metadata": {
    "collapsed": true
   },
   "outputs": [],
   "source": [
    "# delete all configuration created in ipython\n",
    "r.configsrv_delete()"
   ]
  },
  {
   "cell_type": "markdown",
   "metadata": {},
   "source": [
    "## Loading an Existing Configuration and changing it"
   ]
  },
  {
   "cell_type": "markdown",
   "metadata": {},
   "source": [
    "### Load"
   ]
  },
  {
   "cell_type": "code",
   "execution_count": 2,
   "metadata": {},
   "outputs": [
    {
     "name": "stdout",
     "output_type": "stream",
     "text": [
      "name                              : test3\n",
      "delay_rf [us]                     : 0.0\n",
      "ramp_dipole_delay [us]            : 0.0\n",
      "ramp_dipole_duration [ms]         : 490.0\n",
      "injection_time [ms]               : 019.605\n",
      "ejection_time [ms]                : 294.074\n",
      "ramp_dipole_time_energy [ms] [GeV]: \n",
      "                                  : 000.000 +000.030 (start)\n",
      "                                  : 012.743 +000.079 (rampup_start)\n",
      "                                  : 303.876 +303.876 (rampup_stop)\n",
      "                                  : 310.841 +003.150 (plateau_start)\n",
      "                                  : 324.335 +003.150 (plateau_stop)\n",
      "                                  : 335.244 +003.000 (rampdown_start)\n",
      "                                  : 470.518 +000.210 (rampdown_stop)\n",
      "                                  : 490.000 +000.030 (stop)\n",
      "normalized_configs [ms] [name]    : \n",
      "                                  : 012.743 rampup-start\n",
      "                                  : 303.876 rampup-stop\n",
      "\n"
     ]
    }
   ],
   "source": [
    "# creating object\n",
    "r = ramp.BoosterRamp('test3')\n",
    "\n",
    "# loading from ConfigSrv\n",
    "r.configsrv_load()\n",
    "\n",
    "# print configuration\n",
    "print(r)"
   ]
  },
  {
   "cell_type": "markdown",
   "metadata": {},
   "source": [
    "### Change and Update ConfigSrv"
   ]
  },
  {
   "cell_type": "code",
   "execution_count": null,
   "metadata": {
    "collapsed": true
   },
   "outputs": [],
   "source": [
    "# gets symbol to one of the normalized configurations\n",
    "n1 = r['rampup-start']\n",
    "\n",
    "# rename ramp configuration\n",
    "r.name = 'ipython-test-test1'\n",
    "\n",
    "\n",
    "# change its energy\n",
    "n1['BO-Fam:MA-B'] = 0.20\n",
    "\n",
    "# check validity\n",
    "print('valid value : {}'.format(r.check_value()))\n",
    "\n",
    "# save ramp config back to ConfigSrv with a different name\n",
    "r.configsrv_save()\n",
    "\n",
    "# list all ramp config in ConfigSrv\n",
    "print('list with ramp configurations in ConfigServ:')\n",
    "metadata = r.configsrv_find()\n",
    "for m in metadata:\n",
    "    print('-> {}'.format(m['name']))\n",
    "    \n",
    "# delete test configs\n",
    "print()\n",
    "delete_test_configs(r)"
   ]
  },
  {
   "cell_type": "markdown",
   "metadata": {},
   "source": [
    "## Manipulating normalized Configurations"
   ]
  },
  {
   "cell_type": "code",
   "execution_count": null,
   "metadata": {
    "collapsed": true
   },
   "outputs": [],
   "source": [
    "from siriuspy.ramp import ramp\n",
    "from siriuspy.ramp import util\n",
    "\n",
    "r = ramp.BoosterRamp('test1')\n",
    "r.configsrv_load()\n",
    "\n",
    "# print previous config table\n",
    "print('Normalized config table:')\n",
    "print(r.normalized_configs)\n",
    "print()\n",
    "\n",
    "# insert new configuration\n",
    "name1 = r.normalized_configs_insert(0.20)\n",
    "name2 = r.normalized_configs_insert(0.30)\n",
    "name3 = r.normalized_configs_insert(0.25)\n",
    "\n",
    "# print current config table\n",
    "print('Normalized config table:')\n",
    "print(r.normalized_configs)\n",
    "print()\n",
    "\n",
    "# print normalized configurations\n",
    "n1 = r[name1]\n",
    "n2 = r[name2]\n",
    "n3 = r[name3]\n",
    "c = n3.configuration\n",
    "for k in c.keys():\n",
    "    print('{:<12}: {:+.6f} {:+.6f} {:+.6f}'.format(k, n1[k], n3[k], n2[k]))\n",
    "\n",
    "\n",
    "# check validity\n",
    "print('valid value : {}'.format(r.check_value()))"
   ]
  },
  {
   "cell_type": "markdown",
   "metadata": {},
   "source": [
    "## Manipulating dipole ramp "
   ]
  },
  {
   "cell_type": "markdown",
   "metadata": {},
   "source": [
    "### Load existing ramp configuration"
   ]
  },
  {
   "cell_type": "code",
   "execution_count": 5,
   "metadata": {},
   "outputs": [
    {
     "name": "stdout",
     "output_type": "stream",
     "text": [
      "name                              : test3\n",
      "delay_rf [us]                     : 0.0\n",
      "ramp_dipole_delay [us]            : 0.0\n",
      "ramp_dipole_duration [ms]         : 490.0\n",
      "injection_time [ms]               : 019.605\n",
      "ejection_time [ms]                : 294.074\n",
      "ramp_dipole_time_energy [ms] [GeV]: \n",
      "                                  : 000.000 +000.030 (start)\n",
      "                                  : 012.743 +000.079 (rampup_start)\n",
      "                                  : 303.876 +003.102 (rampup_stop)\n",
      "                                  : 310.841 +003.150 (plateau_start)\n",
      "                                  : 324.335 +003.150 (plateau_stop)\n",
      "                                  : 335.244 +003.000 (rampdown_start)\n",
      "                                  : 470.518 +000.210 (rampdown_stop)\n",
      "                                  : 490.000 +000.030 (stop)\n",
      "normalized_configs [ms] [name]    : \n",
      "                                  : 012.743 rampup-start\n",
      "                                  : 303.876 rampup-stop\n",
      "\n",
      "Initial ramp config\n",
      "===================\n",
      "start_value         : 0.03 [GeV]\n",
      "rampup_start_value  : 0.07875 [GeV]\n",
      "rampup_stop_value   : 3.1017857142857137 [GeV]\n",
      "ramp_plateau_value  : 3.15 [GeV]\n",
      "\n",
      "rampup_start_time   : 12.743185796449112 [ms]\n",
      "rampup_stop_time    : 303.87596899224803 [ms]\n",
      "rampdown_start_time : 335.24381095273816 [ms]\n",
      "rampdown_stop_time  : 470.5176294073518 [ms]\n",
      "\n",
      "Final ramp config\n",
      "===== ===========\n",
      "ramp_start_value    : 0.03 [GeV]\n",
      "rampup_start_value  : 0.07875 [GeV]\n",
      "rampup_stop_value   : 3.0017857142857136 [GeV]\n",
      "ramp_plateau_value  : 3.15 [GeV]\n",
      "\n",
      "rampup_start_time   : 12.743185796449112 [ms]\n",
      "rampup_stop_time    : 253.87596899224803 [ms]\n",
      "rampdown_start_time : 335.24381095273816 [ms]\n",
      "rampdown_stop_time  : 470.5176294073518 [ms]\n",
      "\n",
      "Waveform comparison: before and after\n"
     ]
    },
    {
     "data": {
      "image/png": "[encoded data removed]",
      "text/plain": [
       "<matplotlib.figure.Figure at 0x7f93f4c1e1d0>"
      ]
     },
     "metadata": {},
     "output_type": "display_data"
    }
   ],
   "source": [
    "from siriuspy.ramp import ramp\n",
    "from siriuspy.ramp import util\n",
    "import matplotlib.pyplot as plt\n",
    "\n",
    "# creating object\n",
    "r = ramp.BoosterRamp('test3')\n",
    "\n",
    "# loading from ConfigSrv\n",
    "r.configsrv_load()\n",
    "\n",
    "# print configuration\n",
    "print(r)\n",
    "\n",
    "\n",
    "# get original dipole waveform\n",
    "w1 = r.waveform_get('BO-Fam:MA-B')\n",
    "\n",
    "# print initial ramp config\n",
    "print('Initial ramp config')\n",
    "print('===================')\n",
    "print('{:<20s}: {} [GeV]'.format('start_value', r.start_energy))\n",
    "print('{:<20s}: {} [GeV]'.format('rampup_start_value', r.rampup_start_energy))\n",
    "print('{:<20s}: {} [GeV]'.format('rampup_stop_value', r.rampup_stop_energy))\n",
    "print('{:<20s}: {} [GeV]'.format('ramp_plateau_value', r.plateau_energy))\n",
    "print()\n",
    "print('{:<20s}: {} [ms]'.format('rampup_start_time', r.rampup_start_time))\n",
    "print('{:<20s}: {} [ms]'.format('rampup_stop_time', r.rampup_stop_time))\n",
    "print('{:<20s}: {} [ms]'.format('rampdown_start_time', r.rampdown_start_time))\n",
    "print('{:<20s}: {} [ms]'.format('rampdown_stop_time', r.rampdown_stop_time))\n",
    "\n",
    "# change value of rampup-start\n",
    "r.rampup_stop_time = r.rampup_stop_time - 50  \n",
    "r.rampup_stop_energy = r.rampup_stop_energy - 0.1\n",
    "\n",
    "# print initial ramp config\n",
    "print()\n",
    "print('Final ramp config')\n",
    "print('===== ===========')\n",
    "print('{:<20s}: {} [GeV]'.format('ramp_start_value', r.start_energy))\n",
    "print('{:<20s}: {} [GeV]'.format('rampup_start_value', r.rampup_start_energy))\n",
    "print('{:<20s}: {} [GeV]'.format('rampup_stop_value', r.rampup_stop_energy))\n",
    "print('{:<20s}: {} [GeV]'.format('ramp_plateau_value', r.plateau_energy))\n",
    "print()\n",
    "print('{:<20s}: {} [ms]'.format('rampup_start_time', r.rampup_start_time))\n",
    "print('{:<20s}: {} [ms]'.format('rampup_stop_time', r.rampup_stop_time))\n",
    "print('{:<20s}: {} [ms]'.format('rampdown_start_time', r.rampdown_start_time))\n",
    "print('{:<20s}: {} [ms]'.format('rampdown_stop_time', r.rampdown_stop_time))\n",
    "\n",
    "# get modified dipole waveform\n",
    "w2 = r.waveform_get('BO-Fam:MA-B')\n",
    "\n",
    "# compare the two waveforms\n",
    "print()\n",
    "print('Waveform comparison: before and after')\n",
    "plt.plot(w1.times, w1)\n",
    "plt.plot(w2.times, w2)\n",
    "plt.show()"
   ]
  },
  {
   "cell_type": "markdown",
   "metadata": {
    "collapsed": true
   },
   "source": [
    "## Read normalized configurations"
   ]
  },
  {
   "cell_type": "code",
   "execution_count": 10,
   "metadata": {
    "collapsed": true
   },
   "outputs": [],
   "source": [
    "from siriuspy.ramp import ramp\n",
    "from siriuspy.ramp import util\n",
    "import matplotlib.pyplot as plt\n",
    "\n",
    "# creating object\n",
    "r = ramp.BoosterRamp('test3')\n",
    "\n",
    "# loading from ConfigSrv\n",
    "r.configsrv_load()"
   ]
  },
  {
   "cell_type": "code",
   "execution_count": 20,
   "metadata": {
    "scrolled": true
   },
   "outputs": [
    {
     "data": {
      "image/png": "[encoded data removed]",
      "text/plain": [
       "<matplotlib.figure.Figure at 0x7f93f2952630>"
      ]
     },
     "metadata": {},
     "output_type": "display_data"
    }
   ],
   "source": [
    "times = r.waveform_get_times()\n",
    "w = r.waveform_get('BO-Fam:MA-QF')\n",
    "strengths = w.strengths\n",
    "\n",
    "plt.plot(times, strengths)\n",
    "plt.xlim(0,500)\n",
    "plt.ylim(0,0.5)\n",
    "plt.grid()\n",
    "plt.show()"
   ]
  },
  {
   "cell_type": "code",
   "execution_count": null,
   "metadata": {
    "collapsed": true
   },
   "outputs": [],
   "source": []
  }
 ],
 "metadata": {
  "kernelspec": {
   "display_name": "Python 3",
   "language": "python",
   "name": "python3"
  },
  "language_info": {
   "codemirror_mode": {
    "name": "ipython",
    "version": 3
   },
   "file_extension": ".py",
   "mimetype": "text/x-python",
   "name": "python",
   "nbconvert_exporter": "python",
   "pygments_lexer": "ipython3",
   "version": "3.6.1"
  }
 },
 "nbformat": 4,
 "nbformat_minor": 2
}
