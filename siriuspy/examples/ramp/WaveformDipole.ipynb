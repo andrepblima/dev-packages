{
 "cells": [
  {
   "cell_type": "markdown",
   "metadata": {
    "collapsed": true
   },
   "source": [
    "# WaveformDipole"
   ]
  },
  {
   "cell_type": "markdown",
   "metadata": {},
   "source": [
    "This notebook provides examples on how to use siriuspy.ramp subpackage in order to manipulate booster ramps and storage ring migration power supply waveforms. "
   ]
  },
  {
   "cell_type": "code",
   "execution_count": null,
   "metadata": {
    "collapsed": true
   },
   "outputs": [],
   "source": [
    "from lnls import notebook\n",
    "notebook.turn_code_on_off_html()"
   ]
  },
  {
   "cell_type": "code",
   "execution_count": null,
   "metadata": {
    "collapsed": true
   },
   "outputs": [],
   "source": [
    "import numpy as np\n",
    "import matplotlib.pyplot as plt\n",
    "\n",
    "from siriuspy.ramp.waveform import WaveformDipole"
   ]
  },
  {
   "cell_type": "markdown",
   "metadata": {},
   "source": [
    "## Bare constructor"
   ]
  },
  {
   "cell_type": "code",
   "execution_count": null,
   "metadata": {},
   "outputs": [],
   "source": [
    "# With no arguments the constructor creates a default waveform for BO-Fam:MA-B:\n",
    "\n",
    "w = WaveformDipole()\n",
    "\n",
    "%matplotlib inline\n",
    "plt.plot(w)\n",
    "plt.xlabel('Index'); plt.ylabel('Waveform [GeV]')\n",
    "plt.grid('on')\n",
    "plt.show()\n",
    "\n",
    "# By default the value 1.0 should correspond to the beam ejection point, \n",
    "# whereas the value 1.0/20 (20 = E_eje/E_inj) should correspond to the injection point:\n",
    "\n",
    "idx_inj = 160\n",
    "idx_eje = 2400\n",
    "print('value at maximum         : {:.8f}'.format(max(w)))\n",
    "print('value at injection point : {:.8f} (idx = {})'.format(w[idx_inj],idx_inj))\n",
    "print('value at ejection point  : {:.8f} (idx = {})'.format(w[idx_eje],idx_eje))"
   ]
  },
  {
   "cell_type": "markdown",
   "metadata": {},
   "source": [
    "## Parametrization"
   ]
  },
  {
   "cell_type": "markdown",
   "metadata": {},
   "source": [
    "The parametrized component of the waveform is composed of 5 disctinct regions:\n",
    "\n",
    "1) 0.0 <= t < rampup_start\n",
    "\n",
    "2) rampup_start <= t < rampup_stop\n",
    "\n",
    "3) rampup_stop <= t < rampdown_start\n",
    "\n",
    "4) rampdown_start <= t < rampdown_stop\n",
    "\n",
    "5) rampdown_stop <= t <= duration"
   ]
  },
  {
   "cell_type": "code",
   "execution_count": null,
   "metadata": {},
   "outputs": [],
   "source": [
    "w = WaveformDipole()\n",
    "print('Regions internal limits')\n",
    "print('')\n",
    "print('Region 1 (cubic) ,   {0:06.2f} ms <= t < {1:06.2f} ms'.format(0.0, w.rampup_start_time))\n",
    "print('Region 2 (linear),   {0:06.2f} ms <= t < {1:06.2f} ms (ramp up)'.format(w.rampup_start_time, w.rampup_stop_time))\n",
    "print('Region 3 (variable), {0:06.2f} ms <= t < {1:06.2f} ms (plateau)'.format(w.rampup_stop_time, w.rampdown_start_time))\n",
    "print('Region 4 (linear),   {0:06.2f} ms <= t < {1:06.2f} ms (ramp down)'.format(w.rampdown_start_time, w.rampdown_stop_time))\n",
    "print('Region 5 (cubic),    {0:06.2f} ms <= t < {1:06.2f} ms '.format(w.rampdown_stop_time, w.duration))\n",
    "\n",
    "%matplotlib inline\n",
    "\n",
    "# Region 1 (blue)\n",
    "t = np.linspace(0, w.rampup_start_time, 50)\n",
    "plt.plot(t, w.eval_at(t))\n",
    "\n",
    "# Region 2 (yellow)\n",
    "t = np.linspace(w.rampup_start_time, w.rampup_stop_time, 50)\n",
    "plt.plot(t, w.eval_at(t))\n",
    "\n",
    "# region 3 (green)\n",
    "t = np.linspace(w.rampup_stop_time, w.rampdown_start_time, 50)\n",
    "plt.plot(t, w.eval_at(t))\n",
    "\n",
    "# Region 4 (red)\n",
    "t = np.linspace(w.rampdown_start_time, w.rampdown_stop_time, 50)\n",
    "plt.plot(t, w.eval_at(t))\n",
    "\n",
    "# Region 5 (purple)\n",
    "t = np.linspace(w.rampdown_stop_time, w.duration, 50)\n",
    "plt.plot(t, w.eval_at(t))\n",
    "\n",
    "plt.show()"
   ]
  },
  {
   "cell_type": "markdown",
   "metadata": {},
   "source": [
    "## Changing RampUp and RampDown"
   ]
  },
  {
   "cell_type": "markdown",
   "metadata": {},
   "source": [
    "There are utility methods that allow changing both linear ramp up and ramp down without waveform 'overshoots' and guaranteeing continuities. For that, the first region boundary and *plateau_start_index* are reset for ramp up changes, as collateral effect. Likewise, *plateau_stop_index* and the last region boundary are reset for ramp down changes:"
   ]
  },
  {
   "cell_type": "code",
   "execution_count": null,
   "metadata": {},
   "outputs": [],
   "source": [
    "import numpy as np\n",
    "import matplotlib.pyplot as plt\n",
    "from siriuspy.ramp.waveform import WaveformDipole\n",
    "\n",
    "w = WaveformDipole()\n",
    "\n",
    "# errors before change:\n",
    "plt.plot(w.times, w.waveform)\n",
    "print('errors list (before change): ', w.errors)\n",
    "\n",
    "# changing rampup_stop_time\n",
    "w.rampup_stop_time *= 0.91\n",
    "plt.plot(w.times, w.waveform)\n",
    "print('errors list (change rampup_stop_time): ', w.errors)\n",
    "\n",
    "# changing rampdown_start_time\n",
    "w.rampdown_start_time *= 1.01\n",
    "plt.plot(w.times, w.waveform)\n",
    "print('errors list (change rampdown_start_time): ', w.errors)\n",
    "\n",
    "\n",
    "plt.legend()\n",
    "plt.xlabel('Time [ms]'); plt.ylabel('Waveform [GeV]')\n",
    "plt.grid('on')\n",
    "plt.show()"
   ]
  }
 ],
 "metadata": {
  "kernelspec": {
   "display_name": "Python 3",
   "language": "python",
   "name": "python3"
  },
  "language_info": {
   "codemirror_mode": {
    "name": "ipython",
    "version": 3
   },
   "file_extension": ".py",
   "mimetype": "text/x-python",
   "name": "python",
   "nbconvert_exporter": "python",
   "pygments_lexer": "ipython3",
   "version": "3.6.1"
  }
 },
 "nbformat": 4,
 "nbformat_minor": 2
}
