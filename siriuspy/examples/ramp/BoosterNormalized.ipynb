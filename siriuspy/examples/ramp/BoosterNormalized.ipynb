{
 "cells": [
  {
   "cell_type": "markdown",
   "metadata": {},
   "source": [
    "# BoosterNormalized"
   ]
  },
  {
   "cell_type": "code",
   "execution_count": null,
   "metadata": {},
   "outputs": [],
   "source": [
    "from uuid import uuid1\n",
    "\n",
    "from siriuspy.ramp import ramp\n",
    "from siriuspy.ramp import util"
   ]
  },
  {
   "cell_type": "markdown",
   "metadata": {},
   "source": [
    "## Create a new configuration from scratch and delete it"
   ]
  },
  {
   "cell_type": "markdown",
   "metadata": {},
   "source": [
    "### create and set value"
   ]
  },
  {
   "cell_type": "code",
   "execution_count": null,
   "metadata": {},
   "outputs": [],
   "source": [
    "# random name\n",
    "name = 'ipython-test-' + str(uuid1())\n",
    "\n",
    "# create normalized booster configuration object\n",
    "n = ramp.BoosterNormalized(name)"
   ]
  },
  {
   "cell_type": "code",
   "execution_count": null,
   "metadata": {},
   "outputs": [],
   "source": [
    "# object is not synchronized yet with server since its configuration does now exists\n",
    "print('synchronized: {}'.format(n.configsrv_synchronized))\n",
    "\n",
    "# and also its config value is still invalid\n",
    "print('valid value : {}'.format(n.check_value()))"
   ]
  },
  {
   "cell_type": "code",
   "execution_count": null,
   "metadata": {},
   "outputs": [],
   "source": [
    "# a template dictionary for the configuration can be obtained:\n",
    "t = n.get_config_type_template()\n",
    "\n",
    "# There is a utility fo fill BO normalized configuration with default values:\n",
    "util.update_nominal_strengths(t)\n",
    "\n",
    "# print configuration\n",
    "for k, v in t.items():\n",
    "    print('{:12s}: {}'.format(k, v))"
   ]
  },
  {
   "cell_type": "code",
   "execution_count": null,
   "metadata": {},
   "outputs": [],
   "source": [
    "# set this updated template as configuration value\n",
    "n.configuration = t\n",
    "\n",
    "# checks if it has a valid value:\n",
    "print('valid value : {}'.format(n.check_value()))"
   ]
  },
  {
   "cell_type": "markdown",
   "metadata": {},
   "source": [
    "### save configuration to server"
   ]
  },
  {
   "cell_type": "code",
   "execution_count": null,
   "metadata": {},
   "outputs": [],
   "source": [
    "# save current configuration to ConfigSrv\n",
    "n.configsrv_save()"
   ]
  },
  {
   "cell_type": "markdown",
   "metadata": {},
   "source": [
    "### list configurations stored in server"
   ]
  },
  {
   "cell_type": "code",
   "execution_count": null,
   "metadata": {},
   "outputs": [],
   "source": [
    "# list all configurations in ConfigSrv:\n",
    "_, metadata = n.configsrv_find()\n",
    "print('number of configs: {}'.format(len(metadata)))\n",
    "print()\n",
    "for m in metadata:\n",
    "    if m['name'] in ('rampup-start', 'rampup-stop', 'ramp-start') or 'ipython' in m['name']:\n",
    "        print(m['name'])\n",
    "        print(m)\n",
    "        print()\n",
    "print('...')"
   ]
  },
  {
   "cell_type": "markdown",
   "metadata": {},
   "source": [
    "### delete configurations"
   ]
  },
  {
   "cell_type": "code",
   "execution_count": null,
   "metadata": {},
   "outputs": [],
   "source": [
    "# delete current configuration\n",
    "n.configsrv_delete()\n",
    "\n",
    "# delete all configuration created in ipython\n",
    "_, metadata = n.configsrv_find()\n",
    "for m in metadata:\n",
    "    if 'ipython-test' in m['name']:\n",
    "        n.name = m['name']\n",
    "        print('deleting config \"{}\"...'.format(n.name))\n",
    "        n.configsrv_delete()"
   ]
  },
  {
   "cell_type": "markdown",
   "metadata": {},
   "source": [
    "## Loading an Existing Configuration and changing it"
   ]
  },
  {
   "cell_type": "markdown",
   "metadata": {},
   "source": [
    "### Load"
   ]
  },
  {
   "cell_type": "code",
   "execution_count": null,
   "metadata": {},
   "outputs": [],
   "source": [
    "# creating object\n",
    "n = ramp.BoosterNormalized('rampup-start')\n",
    "\n",
    "# loading from ConfigSrv\n",
    "n.configsrv_load()\n",
    "\n",
    "# print configuration\n",
    "for k, v in n.configuration.items():\n",
    "    print('{:12s}: {}'.format(k, v))"
   ]
  },
  {
   "cell_type": "markdown",
   "metadata": {},
   "source": [
    "### Change and Update ConfigSrv"
   ]
  },
  {
   "cell_type": "code",
   "execution_count": null,
   "metadata": {},
   "outputs": [],
   "source": [
    "# Change dipole energy\n",
    "n['BO-Fam:MA-B'] = 0.30  # [GeV]\n",
    "print('synchronized: {}'.format(n.configsrv_synchronized))\n",
    "\n",
    "print('Updating...')\n",
    "# Update configuration in ConfigSrv\n",
    "n.configsrv_update()\n",
    "print()\n",
    "\n",
    "# print updated configuration\n",
    "print('synchronized: {}'.format(n.configsrv_synchronized))\n",
    "n.configsrv_load()\n",
    "for k, v in n.configuration.items():\n",
    "    print('{:12s}: {}'.format(k, v))\n",
    "    \n",
    "# restore original value\n",
    "n['BO-Fam:MA-B'] = 0.15  # [GeV]\n",
    "n.configsrv_update()"
   ]
  }
 ],
 "metadata": {
  "kernelspec": {
   "display_name": "Python 3",
   "language": "python",
   "name": "python3"
  },
  "language_info": {
   "codemirror_mode": {
    "name": "ipython",
    "version": 3
   },
   "file_extension": ".py",
   "mimetype": "text/x-python",
   "name": "python",
   "nbconvert_exporter": "python",
   "pygments_lexer": "ipython3",
   "version": "3.6.1"
  }
 },
 "nbformat": 4,
 "nbformat_minor": 2
}
