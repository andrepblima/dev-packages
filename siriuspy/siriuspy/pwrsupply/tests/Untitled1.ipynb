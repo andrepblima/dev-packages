{
 "cells": [
  {
   "cell_type": "code",
   "execution_count": 1,
   "metadata": {},
   "outputs": [],
   "source": [
    "from siriuspy.pwrsupply.psbsmp import FBP\n",
    "from siriuspy.pwrsupply.pru import PRU\n",
    "\n",
    "\n",
    "def  create_fbp(bbbname, device_id):\n",
    "    \"\"\".\"\"\"\n",
    "    pru = PRU(bbbname=bbbname)\n",
    "    ps = FBP(slave_address=device_id, pru=pru)\n",
    "    return ps"
   ]
  },
  {
   "cell_type": "code",
   "execution_count": 6,
   "metadata": {},
   "outputs": [
    {
     "name": "stdout",
     "output_type": "stream",
     "text": [
      "cmd :  read_variable\n",
      "ack :  224\n",
      "data:  8592\n",
      "\n",
      "cmd :  read_group_of_variables\n",
      "ack :  224\n",
      "data:  [8592, 0.0, 0.0, [b'V', b'0', b'.', b'3', b'6', b' ', b'2', b'0', b'1', b'9', b'-', b'1', b'0', b'-', b'2', b'8', b'V', b'0', b'.', b'3', b'6', b' ', b'2', b'0', b'1', b'9', b'-', b'1', b'0', b'-', b'2', b'8', b'\\x00', b'\\x00', b'\\x00', b'\\x00', b'\\x00', b'\\x00', b'\\x00', b'\\x00', b'\\x00', b'\\x00', b'\\x00', b'\\x00', b'\\x00', b'\\x00', b'\\x00', b'\\x00', b'\\x00', b'\\x00', b'\\x00', b'\\x00', b'\\x00', b'\\x00', b'\\x00', b'\\x00', b'\\x00', b'\\x00', b'\\x00', b'\\x00', b'\\x00', b'\\x00', b'\\x00', b'\\x00', b'\\x00', b'\\x00', b'\\x00', b'\\x00', b'\\x00', b'\\x00', b'\\x00', b'\\x00', b'\\x00', b'\\x00', b'\\x00', b'\\x00', b'\\x00', b'\\x00', b'\\x00', b'\\x00', b'\\x00', b'\\x00', b'\\x00', b'\\x00', b'\\x00', b'\\x00', b'\\x00', b'\\x00', b'\\x00', b'\\x00', b'\\x00', b'\\x00', b'\\x00', b'\\x00', b'\\x00', b'\\x00', b'\\x00', b'\\x00', b'\\x00', b'\\x00', b'\\x00', b'\\x00', b'\\x00', b'\\x00', b'\\x00', b'\\x00', b'\\x00', b'\\x00', b'\\x00', b'\\x00', b'\\x00', b'\\x00', b'\\x00', b'\\x00', b'\\x00', b'\\x00', b'\\x00', b'\\x00', b'\\x00', b'\\x00', b'\\x00', b'\\x00', b'\\x00', b'\\x00', b'\\x00', b'\\x00', b'\\x00', b'\\x00'], 16, 0, 0, 1, 100, 0.0, 2.0, 10.0, 0.0, [0.0, 0.0, 2.0, 0.0], 0, 0, 1.0, 0.0, 57344, 59390, 59392, 59392, 61438, 61440, 0, 0, 0, -0.000339508056640625, 0.0, 7.34375, 31.0, 0.0, 0, 0, 0, 0, 0, 0, 0, 0, 8592, 8592, 8592, 8592, 0.0, 0.0, 0.0, 0.0, 0.0, 0.0, 0.0, 0.0, 0, 0, 0, 0, 0, 0, 0, 0, -0.00043487548828125, -0.001575469970703125, 0.0006170272827148438, 0.000324249267578125]\n",
      "\n",
      "cmd :  parameter_read(eid=8)\n",
      "data:  [10.  0. 25. 43.]\n",
      "\n",
      "cmd :  parameter_read(eid=8, index=2)\n",
      "data:  25.0\n",
      "\n",
      "cmd :  parameter_read(eid=0)\n",
      "data:  SI-11C1:PS-CH / SI-11C1:PS-CV / SI-11C4:PS-CH / SI-11C4:PS-CV\n",
      "\n",
      "cmd :  parameter_write(eid=0, psnames2)\n",
      "\n",
      "cmd :  parameter_read(eid=0)\n",
      "data:  SI-11C1:PS-CH,SI-11C1:PS-CV,SI-11C4:PS-CH,SI-11C4:PS-CV\n",
      "\n",
      "cmd :  parameter_write(eid=0, psnames)\n",
      "\n",
      "cmd :  parameter_read(eid=0)\n",
      "data:  SI-11C1:PS-CH / SI-11C1:PS-CV / SI-11C4:PS-CH / SI-11C4:PS-CV\n",
      "\n"
     ]
    }
   ],
   "source": [
    "ps = create_fbp(bbbname='IA-11RaCtrl:CO-PSCtrl-SI4', device_id=1)\n",
    "\n",
    "\n",
    "ack, data = ps.read_variable(0, timeout=100)\n",
    "print('cmd : ', 'read_variable')\n",
    "print('ack : ', ack)\n",
    "print('data: ', data)\n",
    "print()\n",
    "\n",
    "ack, data = ps.read_group_of_variables(group_id=0, timeout=100)\n",
    "print('cmd : ', 'read_group_of_variables')\n",
    "print('ack : ', ack)\n",
    "print('data: ', data)\n",
    "print()\n",
    "\n",
    "data = ps.parameter_read(eid=8)\n",
    "print('cmd : ', 'parameter_read(eid=8)')\n",
    "print('data: ', data)\n",
    "print()\n",
    "\n",
    "data = ps.parameter_read(eid=8, index=2)\n",
    "print('cmd : ', 'parameter_read(eid=8, index=2)')\n",
    "print('data: ', data)\n",
    "print()\n",
    "\n",
    "# PS NAME\n",
    "\n",
    "psnames = ps.parameter_read(eid=0)\n",
    "print('cmd : ', 'parameter_read(eid=0)')\n",
    "print('data: ', psnames)\n",
    "print()\n",
    "\n",
    "psnames2 = psnames.replace(' / ', ',')\n",
    "ps.parameter_write(eid=0, value=psnames2)\n",
    "print('cmd : ', 'parameter_write(eid=0, psnames2)')\n",
    "print()\n",
    "\n",
    "psnames3 = ps.parameter_read(eid=0)\n",
    "print('cmd : ', 'parameter_read(eid=0)')\n",
    "print('data: ', psnames3)\n",
    "print()\n",
    "\n",
    "ps.parameter_write(eid=0, value=psnames)\n",
    "print('cmd : ', 'parameter_write(eid=0, psnames)')\n",
    "print()\n",
    "\n",
    "psnames = ps.parameter_read(eid=0)\n",
    "print('cmd : ', 'parameter_read(eid=0)')\n",
    "print('data: ', psnames)\n",
    "print()\n"
   ]
  },
  {
   "cell_type": "code",
   "execution_count": null,
   "metadata": {},
   "outputs": [],
   "source": []
  }
 ],
 "metadata": {
  "kernelspec": {
   "display_name": "Python 3",
   "language": "python",
   "name": "python3"
  },
  "language_info": {
   "codemirror_mode": {
    "name": "ipython",
    "version": 3
   },
   "file_extension": ".py",
   "mimetype": "text/x-python",
   "name": "python",
   "nbconvert_exporter": "python",
   "pygments_lexer": "ipython3",
   "version": "3.6.8"
  }
 },
 "nbformat": 4,
 "nbformat_minor": 2
}
