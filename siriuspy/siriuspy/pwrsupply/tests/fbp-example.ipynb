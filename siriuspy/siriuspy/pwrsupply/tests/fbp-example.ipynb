{
 "cells": [
  {
   "cell_type": "code",
   "execution_count": 1,
   "metadata": {},
   "outputs": [],
   "source": [
    "from siriuspy.pwrsupply.psbsmp import FBP\n",
    "from siriuspy.pwrsupply.pru import PRU\n",
    "\n",
    "\n",
    "def  create_fbp(bbbname, device_id):\n",
    "    \"\"\".\"\"\"\n",
    "    pru = PRU(bbbname=bbbname)\n",
    "    ps = FBP(slave_address=device_id, pru=pru)\n",
    "    return ps"
   ]
  },
  {
   "cell_type": "code",
   "execution_count": 9,
   "metadata": {},
   "outputs": [
    {
     "name": "stdout",
     "output_type": "stream",
     "text": [
      "PRUserial485 lib version_client: 2.3.3\n",
      "PRUserial485 lib version_server: None\n",
      "\n"
     ]
    },
    {
     "ename": "SerialErrEmpty",
     "evalue": "Serial read returned empty!",
     "output_type": "error",
     "traceback": [
      "\u001b[0;31m---------------------------------------------------------------------------\u001b[0m",
      "\u001b[0;31mSerialErrEmpty\u001b[0m                            Traceback (most recent call last)",
      "\u001b[0;32m<ipython-input-9-7513689bb8c0>\u001b[0m in \u001b[0;36m<module>\u001b[0;34m\u001b[0m\n\u001b[1;32m      3\u001b[0m \u001b[0;34m\u001b[0m\u001b[0m\n\u001b[1;32m      4\u001b[0m \u001b[0;34m\u001b[0m\u001b[0m\n\u001b[0;32m----> 5\u001b[0;31m \u001b[0mack\u001b[0m\u001b[0;34m,\u001b[0m \u001b[0mdata\u001b[0m \u001b[0;34m=\u001b[0m \u001b[0mps\u001b[0m\u001b[0;34m.\u001b[0m\u001b[0mremove_all_groups_of_variables\u001b[0m\u001b[0;34m(\u001b[0m\u001b[0mtimeout\u001b[0m\u001b[0;34m=\u001b[0m\u001b[0;36m100\u001b[0m\u001b[0;34m)\u001b[0m\u001b[0;34m\u001b[0m\u001b[0;34m\u001b[0m\u001b[0m\n\u001b[0m\u001b[1;32m      6\u001b[0m \u001b[0mprint\u001b[0m\u001b[0;34m(\u001b[0m\u001b[0;34m'cmd : '\u001b[0m\u001b[0;34m,\u001b[0m \u001b[0;34m'remove_all'\u001b[0m\u001b[0;34m)\u001b[0m\u001b[0;34m\u001b[0m\u001b[0;34m\u001b[0m\u001b[0m\n\u001b[1;32m      7\u001b[0m \u001b[0mprint\u001b[0m\u001b[0;34m(\u001b[0m\u001b[0;34m'ack : '\u001b[0m\u001b[0;34m,\u001b[0m \u001b[0mack\u001b[0m\u001b[0;34m)\u001b[0m\u001b[0;34m\u001b[0m\u001b[0;34m\u001b[0m\u001b[0m\n",
      "\u001b[0;32m/home/sirius/repos/dev-packages/siriuspy/siriuspy/bsmp/commands.py\u001b[0m in \u001b[0;36mremove_all_groups_of_variables\u001b[0;34m(self, timeout)\u001b[0m\n\u001b[1;32m    218\u001b[0m         \u001b[0;31m# send request package\u001b[0m\u001b[0;34m\u001b[0m\u001b[0;34m\u001b[0m\u001b[0;34m\u001b[0m\u001b[0m\n\u001b[1;32m    219\u001b[0m         \u001b[0mmsg\u001b[0m \u001b[0;34m=\u001b[0m \u001b[0m_Message\u001b[0m\u001b[0;34m.\u001b[0m\u001b[0mmessage\u001b[0m\u001b[0;34m(\u001b[0m\u001b[0mcmd\u001b[0m\u001b[0;34m,\u001b[0m \u001b[0mpayload\u001b[0m\u001b[0;34m=\u001b[0m\u001b[0mpayload\u001b[0m\u001b[0;34m)\u001b[0m\u001b[0;34m\u001b[0m\u001b[0;34m\u001b[0m\u001b[0m\n\u001b[0;32m--> 220\u001b[0;31m         \u001b[0mres\u001b[0m \u001b[0;34m=\u001b[0m \u001b[0mself\u001b[0m\u001b[0;34m.\u001b[0m\u001b[0mchannel\u001b[0m\u001b[0;34m.\u001b[0m\u001b[0mrequest\u001b[0m\u001b[0;34m(\u001b[0m\u001b[0mmsg\u001b[0m\u001b[0;34m,\u001b[0m \u001b[0mtimeout\u001b[0m\u001b[0;34m=\u001b[0m\u001b[0mtimeout\u001b[0m\u001b[0;34m)\u001b[0m\u001b[0;34m\u001b[0m\u001b[0;34m\u001b[0m\u001b[0m\n\u001b[0m\u001b[1;32m    221\u001b[0m \u001b[0;34m\u001b[0m\u001b[0m\n\u001b[1;32m    222\u001b[0m         \u001b[0;32mif\u001b[0m \u001b[0mres\u001b[0m\u001b[0;34m.\u001b[0m\u001b[0mcmd\u001b[0m \u001b[0;34m==\u001b[0m \u001b[0mack\u001b[0m \u001b[0;32mand\u001b[0m \u001b[0;32mnot\u001b[0m \u001b[0mres\u001b[0m\u001b[0;34m.\u001b[0m\u001b[0mpayload\u001b[0m\u001b[0;34m:\u001b[0m\u001b[0;34m\u001b[0m\u001b[0;34m\u001b[0m\u001b[0m\n",
      "\u001b[0;32m/home/sirius/repos/dev-packages/siriuspy/siriuspy/bsmp/serial.py\u001b[0m in \u001b[0;36mrequest\u001b[0;34m(self, message, timeout, read_flag)\u001b[0m\n\u001b[1;32m    224\u001b[0m             \u001b[0mself\u001b[0m\u001b[0;34m.\u001b[0m\u001b[0mwrite\u001b[0m\u001b[0;34m(\u001b[0m\u001b[0mmessage\u001b[0m\u001b[0;34m,\u001b[0m \u001b[0mtimeout\u001b[0m\u001b[0;34m)\u001b[0m\u001b[0;34m\u001b[0m\u001b[0;34m\u001b[0m\u001b[0m\n\u001b[1;32m    225\u001b[0m             \u001b[0;32mif\u001b[0m \u001b[0mread_flag\u001b[0m\u001b[0;34m:\u001b[0m\u001b[0;34m\u001b[0m\u001b[0;34m\u001b[0m\u001b[0m\n\u001b[0;32m--> 226\u001b[0;31m                 \u001b[0mresponse\u001b[0m \u001b[0;34m=\u001b[0m \u001b[0mself\u001b[0m\u001b[0;34m.\u001b[0m\u001b[0mread\u001b[0m\u001b[0;34m(\u001b[0m\u001b[0;34m)\u001b[0m\u001b[0;34m\u001b[0m\u001b[0;34m\u001b[0m\u001b[0m\n\u001b[0m\u001b[1;32m    227\u001b[0m                 \u001b[0;31m# print(response.cmd)\u001b[0m\u001b[0;34m\u001b[0m\u001b[0;34m\u001b[0m\u001b[0;34m\u001b[0m\u001b[0m\n\u001b[1;32m    228\u001b[0m                 \u001b[0;31m# print(response.payload)\u001b[0m\u001b[0;34m\u001b[0m\u001b[0;34m\u001b[0m\u001b[0;34m\u001b[0m\u001b[0m\n",
      "\u001b[0;32m/home/sirius/repos/dev-packages/siriuspy/siriuspy/bsmp/serial.py\u001b[0m in \u001b[0;36mread\u001b[0;34m(self)\u001b[0m\n\u001b[1;32m    192\u001b[0m         \u001b[0;31m#     len(resp)), [hex(ord(c)) for c in resp])\u001b[0m\u001b[0;34m\u001b[0m\u001b[0;34m\u001b[0m\u001b[0;34m\u001b[0m\u001b[0m\n\u001b[1;32m    193\u001b[0m         \u001b[0;32mif\u001b[0m \u001b[0;32mnot\u001b[0m \u001b[0mresp\u001b[0m\u001b[0;34m:\u001b[0m\u001b[0;34m\u001b[0m\u001b[0;34m\u001b[0m\u001b[0m\n\u001b[0;32m--> 194\u001b[0;31m             \u001b[0;32mraise\u001b[0m \u001b[0m_SerialErrEmpty\u001b[0m\u001b[0;34m(\u001b[0m\u001b[0;34m\"Serial read returned empty!\"\u001b[0m\u001b[0;34m)\u001b[0m\u001b[0;34m\u001b[0m\u001b[0;34m\u001b[0m\u001b[0m\n\u001b[0m\u001b[1;32m    195\u001b[0m         \u001b[0mpackage\u001b[0m \u001b[0;34m=\u001b[0m \u001b[0mPackage\u001b[0m\u001b[0;34m(\u001b[0m\u001b[0mresp\u001b[0m\u001b[0;34m)\u001b[0m\u001b[0;34m\u001b[0m\u001b[0;34m\u001b[0m\u001b[0m\n\u001b[1;32m    196\u001b[0m         \u001b[0mself\u001b[0m\u001b[0;34m.\u001b[0m\u001b[0m_size_counter\u001b[0m \u001b[0;34m+=\u001b[0m \u001b[0mlen\u001b[0m\u001b[0;34m(\u001b[0m\u001b[0mpackage\u001b[0m\u001b[0;34m.\u001b[0m\u001b[0mstream\u001b[0m\u001b[0;34m)\u001b[0m\u001b[0;34m\u001b[0m\u001b[0;34m\u001b[0m\u001b[0m\n",
      "\u001b[0;31mSerialErrEmpty\u001b[0m: Serial read returned empty!"
     ]
    }
   ],
   "source": [
    "# ps = create_fbp(bbbname='IA-11RaCtrl:CO-PSCtrl-SI4', device_id=1)\n",
    "ps = create_fbp(bbbname='PA-RaPSB06:CO-PSCtrl-SI1', device_id=3)\n",
    "\n",
    "\n",
    "ack, data = ps.remove_all_groups_of_variables(timeout=100)\n",
    "print('cmd : ', 'remove_all')\n",
    "print('ack : ', ack)\n",
    "print('data: ', data)\n",
    "print()\n",
    "\n",
    "ack, data = ps.read_variable(0, timeout=100)\n",
    "print('cmd : ', 'read_variable')\n",
    "print('ack : ', ack)\n",
    "print('data: ', data)\n",
    "print()\n",
    "\n",
    "# ack, data = ps.read_group_of_variables(group_id=0, timeout=100)\n",
    "# print('cmd : ', 'read_group_of_variables')\n",
    "# print('ack : ', ack)\n",
    "# print('data: ', data)\n",
    "# print()\n",
    "\n",
    "# data = ps.parameter_read(eid=8)\n",
    "# print('cmd : ', 'parameter_read(eid=8)')\n",
    "# print('data: ', data)\n",
    "# print()\n",
    "\n",
    "# data = ps.parameter_read(eid=8, index=2)\n",
    "# print('cmd : ', 'parameter_read(eid=8, index=2)')\n",
    "# print('data: ', data)\n",
    "# print()\n",
    "\n",
    "# PS NAME\n",
    "\n",
    "# psnames = ps.parameter_read(eid=0)\n",
    "# print('cmd : ', 'parameter_read(eid=0)')\n",
    "# print('data: ', psnames)\n",
    "# print()\n",
    "\n",
    "# psnames2 = psnames.replace(' / ', ',')\n",
    "# ps.parameter_write(eid=0, value=psnames2)\n",
    "# print('cmd : ', 'parameter_write(eid=0, psnames2)')\n",
    "# print()\n",
    "\n",
    "# psnames3 = ps.parameter_read(eid=0)\n",
    "# print('cmd : ', 'parameter_read(eid=0)')\n",
    "# print('data: ', psnames3)\n",
    "# print()\n",
    "\n",
    "# ps.parameter_write(eid=0, value=psnames)\n",
    "# print('cmd : ', 'parameter_write(eid=0, psnames)')\n",
    "# print()\n",
    "\n",
    "# psnames = ps.parameter_read(eid=0)\n",
    "# print('cmd : ', 'parameter_read(eid=0)')\n",
    "# print('data: ', psnames)\n",
    "# print()\n"
   ]
  },
  {
   "cell_type": "code",
   "execution_count": null,
   "metadata": {},
   "outputs": [],
   "source": []
  }
 ],
 "metadata": {
  "kernelspec": {
   "display_name": "Python 3",
   "language": "python",
   "name": "python3"
  },
  "language_info": {
   "codemirror_mode": {
    "name": "ipython",
    "version": 3
   },
   "file_extension": ".py",
   "mimetype": "text/x-python",
   "name": "python",
   "nbconvert_exporter": "python",
   "pygments_lexer": "ipython3",
   "version": "3.6.8"
  }
 },
 "nbformat": 4,
 "nbformat_minor": 2
}
